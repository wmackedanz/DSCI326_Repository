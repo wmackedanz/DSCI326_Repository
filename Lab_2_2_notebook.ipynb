{
 "cells": [
  {
   "cell_type": "code",
   "execution_count": 1,
   "id": "b21be645-b0b2-4e6c-9eba-080450073d86",
   "metadata": {},
   "outputs": [],
   "source": [
    "import sklearn\n",
    "import pandas as pd\n",
    "import polars as pl\n",
    "import numpy as np\n",
    "import matplotlib.pyplot as plt\n",
    "\n",
    "\n"
   ]
  },
  {
   "cell_type": "markdown",
   "id": "04db2908-7e6d-417e-b923-4e5ec2d8f4b0",
   "metadata": {},
   "source": [
    "## Reading in data"
   ]
  },
  {
   "cell_type": "code",
   "execution_count": 2,
   "id": "7344f831-cf27-4210-be18-c877ff9b6874",
   "metadata": {},
   "outputs": [
    {
     "data": {
      "text/html": [
       "<div><style>\n",
       ".dataframe > thead > tr,\n",
       ".dataframe > tbody > tr {\n",
       "  text-align: right;\n",
       "  white-space: pre-wrap;\n",
       "}\n",
       "</style>\n",
       "<small>shape: (5, 6)</small><table border=\"1\" class=\"dataframe\"><thead><tr><th>playerID</th><th>awardID</th><th>yearID</th><th>lgID</th><th>tie</th><th>notes</th></tr><tr><td>str</td><td>str</td><td>i64</td><td>str</td><td>str</td><td>str</td></tr></thead><tbody><tr><td>&quot;poseybu01&quot;</td><td>&quot;Lou Gehrig Memorial Award&quot;</td><td>2019</td><td>&quot;ML&quot;</td><td>null</td><td>null</td></tr><tr><td>&quot;klubeco01&quot;</td><td>&quot;Lou Gehrig Memorial Award&quot;</td><td>2018</td><td>&quot;ML&quot;</td><td>null</td><td>null</td></tr><tr><td>&quot;vottojo01&quot;</td><td>&quot;Lou Gehrig Memorial Award&quot;</td><td>2017</td><td>&quot;ML&quot;</td><td>null</td><td>null</td></tr><tr><td>&quot;altuvjo01&quot;</td><td>&quot;Lou Gehrig Memorial Award&quot;</td><td>2016</td><td>&quot;ML&quot;</td><td>null</td><td>null</td></tr><tr><td>&quot;grandcu01&quot;</td><td>&quot;Lou Gehrig Memorial Award&quot;</td><td>2015</td><td>&quot;ML&quot;</td><td>null</td><td>null</td></tr></tbody></table></div>"
      ],
      "text/plain": [
       "shape: (5, 6)\n",
       "┌───────────┬───────────────────────────┬────────┬──────┬──────┬───────┐\n",
       "│ playerID  ┆ awardID                   ┆ yearID ┆ lgID ┆ tie  ┆ notes │\n",
       "│ ---       ┆ ---                       ┆ ---    ┆ ---  ┆ ---  ┆ ---   │\n",
       "│ str       ┆ str                       ┆ i64    ┆ str  ┆ str  ┆ str   │\n",
       "╞═══════════╪═══════════════════════════╪════════╪══════╪══════╪═══════╡\n",
       "│ poseybu01 ┆ Lou Gehrig Memorial Award ┆ 2019   ┆ ML   ┆ null ┆ null  │\n",
       "│ klubeco01 ┆ Lou Gehrig Memorial Award ┆ 2018   ┆ ML   ┆ null ┆ null  │\n",
       "│ vottojo01 ┆ Lou Gehrig Memorial Award ┆ 2017   ┆ ML   ┆ null ┆ null  │\n",
       "│ altuvjo01 ┆ Lou Gehrig Memorial Award ┆ 2016   ┆ ML   ┆ null ┆ null  │\n",
       "│ grandcu01 ┆ Lou Gehrig Memorial Award ┆ 2015   ┆ ML   ┆ null ┆ null  │\n",
       "└───────────┴───────────────────────────┴────────┴──────┴──────┴───────┘"
      ]
     },
     "execution_count": 2,
     "metadata": {},
     "output_type": "execute_result"
    }
   ],
   "source": [
    "awards = pl.read_csv('./lahman_1871-2023_csv/AwardsPlayers.csv')\n",
    "awards.head()"
   ]
  },
  {
   "cell_type": "code",
   "execution_count": 4,
   "id": "c62a31c6-1016-48fa-874d-c3353bfa8461",
   "metadata": {},
   "outputs": [
    {
     "data": {
      "text/html": [
       "<div><style>\n",
       ".dataframe > thead > tr,\n",
       ".dataframe > tbody > tr {\n",
       "  text-align: right;\n",
       "  white-space: pre-wrap;\n",
       "}\n",
       "</style>\n",
       "<small>shape: (5, 24)</small><table border=\"1\" class=\"dataframe\"><thead><tr><th>playerID</th><th>yearID</th><th>stint</th><th>teamID</th><th>lgID</th><th>G</th><th>G_batting</th><th>AB</th><th>R</th><th>H</th><th>2B</th><th>3B</th><th>HR</th><th>RBI</th><th>SB</th><th>CS</th><th>BB</th><th>SO</th><th>IBB</th><th>HBP</th><th>SH</th><th>SF</th><th>GIDP</th><th>G_old</th></tr><tr><td>str</td><td>i64</td><td>i64</td><td>str</td><td>str</td><td>i64</td><td>i64</td><td>i64</td><td>i64</td><td>i64</td><td>i64</td><td>i64</td><td>i64</td><td>i64</td><td>i64</td><td>i64</td><td>i64</td><td>i64</td><td>i64</td><td>i64</td><td>i64</td><td>i64</td><td>i64</td><td>str</td></tr></thead><tbody><tr><td>&quot;aardsda01&quot;</td><td>2004</td><td>1</td><td>&quot;SFN&quot;</td><td>&quot;NL&quot;</td><td>11</td><td>null</td><td>0</td><td>0</td><td>0</td><td>0</td><td>0</td><td>0</td><td>0</td><td>0</td><td>0</td><td>0</td><td>0</td><td>0</td><td>0</td><td>0</td><td>0</td><td>0</td><td>null</td></tr><tr><td>&quot;aardsda01&quot;</td><td>2006</td><td>1</td><td>&quot;CHN&quot;</td><td>&quot;NL&quot;</td><td>45</td><td>null</td><td>2</td><td>0</td><td>0</td><td>0</td><td>0</td><td>0</td><td>0</td><td>0</td><td>0</td><td>0</td><td>0</td><td>0</td><td>0</td><td>1</td><td>0</td><td>0</td><td>null</td></tr><tr><td>&quot;aardsda01&quot;</td><td>2007</td><td>1</td><td>&quot;CHA&quot;</td><td>&quot;AL&quot;</td><td>25</td><td>null</td><td>0</td><td>0</td><td>0</td><td>0</td><td>0</td><td>0</td><td>0</td><td>0</td><td>0</td><td>0</td><td>0</td><td>0</td><td>0</td><td>0</td><td>0</td><td>0</td><td>null</td></tr><tr><td>&quot;aardsda01&quot;</td><td>2008</td><td>1</td><td>&quot;BOS&quot;</td><td>&quot;AL&quot;</td><td>47</td><td>null</td><td>1</td><td>0</td><td>0</td><td>0</td><td>0</td><td>0</td><td>0</td><td>0</td><td>0</td><td>0</td><td>1</td><td>0</td><td>0</td><td>0</td><td>0</td><td>0</td><td>null</td></tr><tr><td>&quot;aardsda01&quot;</td><td>2009</td><td>1</td><td>&quot;SEA&quot;</td><td>&quot;AL&quot;</td><td>73</td><td>null</td><td>0</td><td>0</td><td>0</td><td>0</td><td>0</td><td>0</td><td>0</td><td>0</td><td>0</td><td>0</td><td>0</td><td>0</td><td>0</td><td>0</td><td>0</td><td>0</td><td>null</td></tr></tbody></table></div>"
      ],
      "text/plain": [
       "shape: (5, 24)\n",
       "┌───────────┬────────┬───────┬────────┬───┬─────┬─────┬──────┬───────┐\n",
       "│ playerID  ┆ yearID ┆ stint ┆ teamID ┆ … ┆ SH  ┆ SF  ┆ GIDP ┆ G_old │\n",
       "│ ---       ┆ ---    ┆ ---   ┆ ---    ┆   ┆ --- ┆ --- ┆ ---  ┆ ---   │\n",
       "│ str       ┆ i64    ┆ i64   ┆ str    ┆   ┆ i64 ┆ i64 ┆ i64  ┆ str   │\n",
       "╞═══════════╪════════╪═══════╪════════╪═══╪═════╪═════╪══════╪═══════╡\n",
       "│ aardsda01 ┆ 2004   ┆ 1     ┆ SFN    ┆ … ┆ 0   ┆ 0   ┆ 0    ┆ null  │\n",
       "│ aardsda01 ┆ 2006   ┆ 1     ┆ CHN    ┆ … ┆ 1   ┆ 0   ┆ 0    ┆ null  │\n",
       "│ aardsda01 ┆ 2007   ┆ 1     ┆ CHA    ┆ … ┆ 0   ┆ 0   ┆ 0    ┆ null  │\n",
       "│ aardsda01 ┆ 2008   ┆ 1     ┆ BOS    ┆ … ┆ 0   ┆ 0   ┆ 0    ┆ null  │\n",
       "│ aardsda01 ┆ 2009   ┆ 1     ┆ SEA    ┆ … ┆ 0   ┆ 0   ┆ 0    ┆ null  │\n",
       "└───────────┴────────┴───────┴────────┴───┴─────┴─────┴──────┴───────┘"
      ]
     },
     "execution_count": 4,
     "metadata": {},
     "output_type": "execute_result"
    }
   ],
   "source": [
    "batting = pl.read_csv('./lahman_1871-2023_csv/Batting.csv')\n",
    "batting.head()"
   ]
  },
  {
   "cell_type": "code",
   "execution_count": 5,
   "id": "3546e748-3f74-4dae-9302-4b8381ab63dc",
   "metadata": {},
   "outputs": [
    {
     "data": {
      "text/html": [
       "<div><style>\n",
       ".dataframe > thead > tr,\n",
       ".dataframe > tbody > tr {\n",
       "  text-align: right;\n",
       "  white-space: pre-wrap;\n",
       "}\n",
       "</style>\n",
       "<small>shape: (5, 30)</small><table border=\"1\" class=\"dataframe\"><thead><tr><th>playerID</th><th>yearID</th><th>stint</th><th>teamID</th><th>lgID</th><th>W</th><th>L</th><th>G</th><th>GS</th><th>CG</th><th>SHO</th><th>SV</th><th>IPouts</th><th>H</th><th>ER</th><th>HR</th><th>BB</th><th>SO</th><th>BAOpp</th><th>ERA</th><th>IBB</th><th>WP</th><th>HBP</th><th>BK</th><th>BFP</th><th>GF</th><th>R</th><th>SH</th><th>SF</th><th>GIDP</th></tr><tr><td>str</td><td>i64</td><td>i64</td><td>str</td><td>str</td><td>i64</td><td>i64</td><td>i64</td><td>i64</td><td>i64</td><td>i64</td><td>i64</td><td>i64</td><td>i64</td><td>i64</td><td>i64</td><td>i64</td><td>i64</td><td>f64</td><td>f64</td><td>i64</td><td>i64</td><td>i64</td><td>i64</td><td>i64</td><td>i64</td><td>i64</td><td>i64</td><td>i64</td><td>i64</td></tr></thead><tbody><tr><td>&quot;aardsda01&quot;</td><td>2004</td><td>1</td><td>&quot;SFN&quot;</td><td>&quot;NL&quot;</td><td>1</td><td>0</td><td>11</td><td>0</td><td>0</td><td>0</td><td>0</td><td>32</td><td>20</td><td>8</td><td>1</td><td>10</td><td>5</td><td>0.417</td><td>6.75</td><td>0</td><td>0</td><td>2</td><td>0</td><td>61</td><td>5</td><td>8</td><td>0</td><td>1</td><td>1</td></tr><tr><td>&quot;aardsda01&quot;</td><td>2006</td><td>1</td><td>&quot;CHN&quot;</td><td>&quot;NL&quot;</td><td>3</td><td>0</td><td>45</td><td>0</td><td>0</td><td>0</td><td>0</td><td>159</td><td>41</td><td>24</td><td>9</td><td>28</td><td>49</td><td>0.214</td><td>4.08</td><td>0</td><td>1</td><td>1</td><td>0</td><td>225</td><td>9</td><td>25</td><td>1</td><td>3</td><td>2</td></tr><tr><td>&quot;aardsda01&quot;</td><td>2007</td><td>1</td><td>&quot;CHA&quot;</td><td>&quot;AL&quot;</td><td>2</td><td>1</td><td>25</td><td>0</td><td>0</td><td>0</td><td>0</td><td>97</td><td>39</td><td>23</td><td>4</td><td>17</td><td>36</td><td>0.3</td><td>6.4</td><td>3</td><td>2</td><td>1</td><td>0</td><td>151</td><td>7</td><td>24</td><td>2</td><td>1</td><td>1</td></tr><tr><td>&quot;aardsda01&quot;</td><td>2008</td><td>1</td><td>&quot;BOS&quot;</td><td>&quot;AL&quot;</td><td>4</td><td>2</td><td>47</td><td>0</td><td>0</td><td>0</td><td>0</td><td>146</td><td>49</td><td>30</td><td>4</td><td>35</td><td>49</td><td>0.268</td><td>5.55</td><td>2</td><td>3</td><td>5</td><td>0</td><td>228</td><td>7</td><td>32</td><td>3</td><td>2</td><td>4</td></tr><tr><td>&quot;aardsda01&quot;</td><td>2009</td><td>1</td><td>&quot;SEA&quot;</td><td>&quot;AL&quot;</td><td>3</td><td>6</td><td>73</td><td>0</td><td>0</td><td>0</td><td>38</td><td>214</td><td>49</td><td>20</td><td>4</td><td>34</td><td>80</td><td>0.19</td><td>2.52</td><td>3</td><td>2</td><td>0</td><td>0</td><td>296</td><td>53</td><td>23</td><td>2</td><td>1</td><td>2</td></tr></tbody></table></div>"
      ],
      "text/plain": [
       "shape: (5, 30)\n",
       "┌───────────┬────────┬───────┬────────┬───┬─────┬─────┬─────┬──────┐\n",
       "│ playerID  ┆ yearID ┆ stint ┆ teamID ┆ … ┆ R   ┆ SH  ┆ SF  ┆ GIDP │\n",
       "│ ---       ┆ ---    ┆ ---   ┆ ---    ┆   ┆ --- ┆ --- ┆ --- ┆ ---  │\n",
       "│ str       ┆ i64    ┆ i64   ┆ str    ┆   ┆ i64 ┆ i64 ┆ i64 ┆ i64  │\n",
       "╞═══════════╪════════╪═══════╪════════╪═══╪═════╪═════╪═════╪══════╡\n",
       "│ aardsda01 ┆ 2004   ┆ 1     ┆ SFN    ┆ … ┆ 8   ┆ 0   ┆ 1   ┆ 1    │\n",
       "│ aardsda01 ┆ 2006   ┆ 1     ┆ CHN    ┆ … ┆ 25  ┆ 1   ┆ 3   ┆ 2    │\n",
       "│ aardsda01 ┆ 2007   ┆ 1     ┆ CHA    ┆ … ┆ 24  ┆ 2   ┆ 1   ┆ 1    │\n",
       "│ aardsda01 ┆ 2008   ┆ 1     ┆ BOS    ┆ … ┆ 32  ┆ 3   ┆ 2   ┆ 4    │\n",
       "│ aardsda01 ┆ 2009   ┆ 1     ┆ SEA    ┆ … ┆ 23  ┆ 2   ┆ 1   ┆ 2    │\n",
       "└───────────┴────────┴───────┴────────┴───┴─────┴─────┴─────┴──────┘"
      ]
     },
     "execution_count": 5,
     "metadata": {},
     "output_type": "execute_result"
    }
   ],
   "source": [
    "pitching = pl.read_csv('./lahman_1871-2023_csv/Pitching.csv')\n",
    "pitching.head()"
   ]
  },
  {
   "cell_type": "code",
   "execution_count": 6,
   "id": "a2d90d6f-fcec-4464-9fb8-4dde85908fcb",
   "metadata": {},
   "outputs": [
    {
     "data": {
      "text/html": [
       "<div><style>\n",
       ".dataframe > thead > tr,\n",
       ".dataframe > tbody > tr {\n",
       "  text-align: right;\n",
       "  white-space: pre-wrap;\n",
       "}\n",
       "</style>\n",
       "<small>shape: (5, 18)</small><table border=\"1\" class=\"dataframe\"><thead><tr><th>playerID</th><th>yearID</th><th>stint</th><th>teamID</th><th>lgID</th><th>POS</th><th>G</th><th>GS</th><th>InnOuts</th><th>PO</th><th>A</th><th>E</th><th>DP</th><th>PB</th><th>WP</th><th>SB</th><th>CS</th><th>ZR</th></tr><tr><td>str</td><td>i64</td><td>i64</td><td>str</td><td>str</td><td>str</td><td>i64</td><td>i64</td><td>i64</td><td>i64</td><td>i64</td><td>i64</td><td>i64</td><td>i32</td><td>i32</td><td>i32</td><td>i32</td><td>i32</td></tr></thead><tbody><tr><td>&quot;aardsda01&quot;</td><td>2004</td><td>1</td><td>&quot;SFN&quot;</td><td>&quot;NL&quot;</td><td>&quot;P&quot;</td><td>11</td><td>0</td><td>32</td><td>0</td><td>0</td><td>0</td><td>0</td><td>null</td><td>null</td><td>null</td><td>null</td><td>null</td></tr><tr><td>&quot;aardsda01&quot;</td><td>2006</td><td>1</td><td>&quot;CHN&quot;</td><td>&quot;NL&quot;</td><td>&quot;P&quot;</td><td>45</td><td>0</td><td>159</td><td>1</td><td>5</td><td>0</td><td>1</td><td>null</td><td>null</td><td>null</td><td>null</td><td>null</td></tr><tr><td>&quot;aardsda01&quot;</td><td>2007</td><td>1</td><td>&quot;CHA&quot;</td><td>&quot;AL&quot;</td><td>&quot;P&quot;</td><td>25</td><td>0</td><td>97</td><td>2</td><td>4</td><td>1</td><td>0</td><td>null</td><td>null</td><td>null</td><td>null</td><td>null</td></tr><tr><td>&quot;aardsda01&quot;</td><td>2008</td><td>1</td><td>&quot;BOS&quot;</td><td>&quot;AL&quot;</td><td>&quot;P&quot;</td><td>47</td><td>0</td><td>146</td><td>3</td><td>6</td><td>0</td><td>0</td><td>null</td><td>null</td><td>null</td><td>null</td><td>null</td></tr><tr><td>&quot;aardsda01&quot;</td><td>2009</td><td>1</td><td>&quot;SEA&quot;</td><td>&quot;AL&quot;</td><td>&quot;P&quot;</td><td>73</td><td>0</td><td>214</td><td>2</td><td>5</td><td>0</td><td>1</td><td>null</td><td>null</td><td>null</td><td>null</td><td>null</td></tr></tbody></table></div>"
      ],
      "text/plain": [
       "shape: (5, 18)\n",
       "┌───────────┬────────┬───────┬────────┬───┬──────┬──────┬──────┬──────┐\n",
       "│ playerID  ┆ yearID ┆ stint ┆ teamID ┆ … ┆ WP   ┆ SB   ┆ CS   ┆ ZR   │\n",
       "│ ---       ┆ ---    ┆ ---   ┆ ---    ┆   ┆ ---  ┆ ---  ┆ ---  ┆ ---  │\n",
       "│ str       ┆ i64    ┆ i64   ┆ str    ┆   ┆ i32  ┆ i32  ┆ i32  ┆ i32  │\n",
       "╞═══════════╪════════╪═══════╪════════╪═══╪══════╪══════╪══════╪══════╡\n",
       "│ aardsda01 ┆ 2004   ┆ 1     ┆ SFN    ┆ … ┆ null ┆ null ┆ null ┆ null │\n",
       "│ aardsda01 ┆ 2006   ┆ 1     ┆ CHN    ┆ … ┆ null ┆ null ┆ null ┆ null │\n",
       "│ aardsda01 ┆ 2007   ┆ 1     ┆ CHA    ┆ … ┆ null ┆ null ┆ null ┆ null │\n",
       "│ aardsda01 ┆ 2008   ┆ 1     ┆ BOS    ┆ … ┆ null ┆ null ┆ null ┆ null │\n",
       "│ aardsda01 ┆ 2009   ┆ 1     ┆ SEA    ┆ … ┆ null ┆ null ┆ null ┆ null │\n",
       "└───────────┴────────┴───────┴────────┴───┴──────┴──────┴──────┴──────┘"
      ]
     },
     "execution_count": 6,
     "metadata": {},
     "output_type": "execute_result"
    }
   ],
   "source": [
    "fielders = (pl.read_csv('./lahman_1871-2023_csv/Fielding.csv')\n",
    "            .select(pl.col('playerID', 'yearID', 'stint', 'teamID', 'lgID', 'POS', 'G', 'GS', 'InnOuts', 'PO', 'A', 'E', 'DP'),pl.col('PB', 'WP', 'SB', 'CS', 'ZR').cast(pl.Int32)))\n",
    "fielders.head()\n"
   ]
  },
  {
   "cell_type": "code",
   "execution_count": 7,
   "id": "6609403d-8c7d-45a8-88db-906251baafd1",
   "metadata": {},
   "outputs": [
    {
     "data": {
      "text/html": [
       "<div><style>\n",
       ".dataframe > thead > tr,\n",
       ".dataframe > tbody > tr {\n",
       "  text-align: right;\n",
       "  white-space: pre-wrap;\n",
       "}\n",
       "</style>\n",
       "<small>shape: (5, 5)</small><table border=\"1\" class=\"dataframe\"><thead><tr><th>yearID</th><th>teamID</th><th>lgID</th><th>playerID</th><th>salary</th></tr><tr><td>i64</td><td>str</td><td>str</td><td>str</td><td>i64</td></tr></thead><tbody><tr><td>1985</td><td>&quot;ATL&quot;</td><td>&quot;NL&quot;</td><td>&quot;barkele01&quot;</td><td>870000</td></tr><tr><td>1985</td><td>&quot;ATL&quot;</td><td>&quot;NL&quot;</td><td>&quot;bedrost01&quot;</td><td>550000</td></tr><tr><td>1985</td><td>&quot;ATL&quot;</td><td>&quot;NL&quot;</td><td>&quot;benedbr01&quot;</td><td>545000</td></tr><tr><td>1985</td><td>&quot;ATL&quot;</td><td>&quot;NL&quot;</td><td>&quot;campri01&quot;</td><td>633333</td></tr><tr><td>1985</td><td>&quot;ATL&quot;</td><td>&quot;NL&quot;</td><td>&quot;ceronri01&quot;</td><td>625000</td></tr></tbody></table></div>"
      ],
      "text/plain": [
       "shape: (5, 5)\n",
       "┌────────┬────────┬──────┬───────────┬────────┐\n",
       "│ yearID ┆ teamID ┆ lgID ┆ playerID  ┆ salary │\n",
       "│ ---    ┆ ---    ┆ ---  ┆ ---       ┆ ---    │\n",
       "│ i64    ┆ str    ┆ str  ┆ str       ┆ i64    │\n",
       "╞════════╪════════╪══════╪═══════════╪════════╡\n",
       "│ 1985   ┆ ATL    ┆ NL   ┆ barkele01 ┆ 870000 │\n",
       "│ 1985   ┆ ATL    ┆ NL   ┆ bedrost01 ┆ 550000 │\n",
       "│ 1985   ┆ ATL    ┆ NL   ┆ benedbr01 ┆ 545000 │\n",
       "│ 1985   ┆ ATL    ┆ NL   ┆ campri01  ┆ 633333 │\n",
       "│ 1985   ┆ ATL    ┆ NL   ┆ ceronri01 ┆ 625000 │\n",
       "└────────┴────────┴──────┴───────────┴────────┘"
      ]
     },
     "execution_count": 7,
     "metadata": {},
     "output_type": "execute_result"
    }
   ],
   "source": [
    "salaries = pl.read_csv('./lahman_1871-2023_csv/Salaries.csv')\n",
    "salaries.head()"
   ]
  },
  {
   "cell_type": "code",
   "execution_count": 8,
   "id": "e46b6602-8f49-46c4-bc4b-5142f600f050",
   "metadata": {},
   "outputs": [],
   "source": [
    "winners = (awards\n",
    " .filter(pl.col('notes') != 'null',pl.col('awardID') =='Gold Glove'))"
   ]
  },
  {
   "cell_type": "markdown",
   "id": "80eb50be-2619-4257-977e-30e41ecad04c",
   "metadata": {},
   "source": [
    "# Create Gold Glove prediction dataset"
   ]
  },
  {
   "cell_type": "code",
   "execution_count": 9,
   "id": "e56d75a3-0f6e-48e5-96c7-99d451633185",
   "metadata": {},
   "outputs": [
    {
     "data": {
      "text/html": [
       "<div><style>\n",
       ".dataframe > thead > tr,\n",
       ".dataframe > tbody > tr {\n",
       "  text-align: right;\n",
       "  white-space: pre-wrap;\n",
       "}\n",
       "</style>\n",
       "<small>shape: (5, 22)</small><table border=\"1\" class=\"dataframe\"><thead><tr><th>playerID</th><th>yearID</th><th>lgID</th><th>POS</th><th>G</th><th>GS</th><th>InnOuts</th><th>PO</th><th>A</th><th>E</th><th>DP</th><th>PB</th><th>WP</th><th>SB</th><th>CS</th><th>ZR</th><th>awardID</th><th>lgID_right</th><th>tie</th><th>notes</th><th>Gold_Glove</th><th>Training_Validation</th></tr><tr><td>str</td><td>i64</td><td>str</td><td>str</td><td>i64</td><td>i64</td><td>i64</td><td>i64</td><td>i64</td><td>i64</td><td>i64</td><td>i32</td><td>i32</td><td>i32</td><td>i32</td><td>i32</td><td>str</td><td>str</td><td>str</td><td>str</td><td>str</td><td>str</td></tr></thead><tbody><tr><td>&quot;aardsda01&quot;</td><td>2013</td><td>&quot;NL&quot;</td><td>&quot;P&quot;</td><td>43</td><td>0</td><td>119</td><td>1</td><td>5</td><td>0</td><td>0</td><td>0</td><td>0</td><td>0</td><td>0</td><td>0</td><td>null</td><td>null</td><td>null</td><td>null</td><td>&quot;No&quot;</td><td>&quot;Training&quot;</td></tr><tr><td>&quot;aardsda01&quot;</td><td>2015</td><td>&quot;NL&quot;</td><td>&quot;P&quot;</td><td>33</td><td>0</td><td>92</td><td>0</td><td>1</td><td>1</td><td>0</td><td>0</td><td>0</td><td>0</td><td>0</td><td>0</td><td>null</td><td>null</td><td>null</td><td>null</td><td>&quot;No&quot;</td><td>&quot;Training&quot;</td></tr><tr><td>&quot;abadfe01&quot;</td><td>2013</td><td>&quot;NL&quot;</td><td>&quot;P&quot;</td><td>39</td><td>0</td><td>113</td><td>1</td><td>4</td><td>0</td><td>0</td><td>0</td><td>0</td><td>0</td><td>0</td><td>0</td><td>null</td><td>null</td><td>null</td><td>null</td><td>&quot;No&quot;</td><td>&quot;Training&quot;</td></tr><tr><td>&quot;abadfe01&quot;</td><td>2014</td><td>&quot;AL&quot;</td><td>&quot;P&quot;</td><td>69</td><td>0</td><td>172</td><td>0</td><td>8</td><td>0</td><td>0</td><td>0</td><td>0</td><td>0</td><td>0</td><td>0</td><td>null</td><td>null</td><td>null</td><td>null</td><td>&quot;No&quot;</td><td>&quot;Training&quot;</td></tr><tr><td>&quot;abadfe01&quot;</td><td>2015</td><td>&quot;AL&quot;</td><td>&quot;P&quot;</td><td>62</td><td>0</td><td>143</td><td>2</td><td>4</td><td>0</td><td>0</td><td>0</td><td>0</td><td>0</td><td>0</td><td>0</td><td>null</td><td>null</td><td>null</td><td>null</td><td>&quot;No&quot;</td><td>&quot;Training&quot;</td></tr></tbody></table></div>"
      ],
      "text/plain": [
       "shape: (5, 22)\n",
       "┌───────────┬────────┬──────┬─────┬───┬──────┬───────┬────────────┬─────────────────────┐\n",
       "│ playerID  ┆ yearID ┆ lgID ┆ POS ┆ … ┆ tie  ┆ notes ┆ Gold_Glove ┆ Training_Validation │\n",
       "│ ---       ┆ ---    ┆ ---  ┆ --- ┆   ┆ ---  ┆ ---   ┆ ---        ┆ ---                 │\n",
       "│ str       ┆ i64    ┆ str  ┆ str ┆   ┆ str  ┆ str   ┆ str        ┆ str                 │\n",
       "╞═══════════╪════════╪══════╪═════╪═══╪══════╪═══════╪════════════╪═════════════════════╡\n",
       "│ aardsda01 ┆ 2013   ┆ NL   ┆ P   ┆ … ┆ null ┆ null  ┆ No         ┆ Training            │\n",
       "│ aardsda01 ┆ 2015   ┆ NL   ┆ P   ┆ … ┆ null ┆ null  ┆ No         ┆ Training            │\n",
       "│ abadfe01  ┆ 2013   ┆ NL   ┆ P   ┆ … ┆ null ┆ null  ┆ No         ┆ Training            │\n",
       "│ abadfe01  ┆ 2014   ┆ AL   ┆ P   ┆ … ┆ null ┆ null  ┆ No         ┆ Training            │\n",
       "│ abadfe01  ┆ 2015   ┆ AL   ┆ P   ┆ … ┆ null ┆ null  ┆ No         ┆ Training            │\n",
       "└───────────┴────────┴──────┴─────┴───┴──────┴───────┴────────────┴─────────────────────┘"
      ]
     },
     "execution_count": 9,
     "metadata": {},
     "output_type": "execute_result"
    }
   ],
   "source": [
    "Gold_Glove = (fielders\n",
    " .filter(pl.col('yearID') >= 2013)\n",
    " .group_by(pl.col('playerID','yearID','lgID','POS'))\n",
    " .agg(pl.col(['G', 'GS', 'InnOuts', 'PO', 'A', 'E', 'DP', 'PB', 'WP', 'SB', 'CS', 'ZR']).sum())\n",
    " .join(winners,on = ['playerID','yearID'],how='left')\n",
    ".with_columns(Gold_Glove = pl.when(pl.col('awardID') =='Gold Glove')\n",
    "                                .then(pl.lit('Yes'))\n",
    "                                .otherwise(pl.lit('No')))\n",
    " .with_columns(Training_Validation = pl.when(pl.col('yearID') >= 2023)\n",
    "                                .then(pl.lit('Validation'))\n",
    "                                .otherwise(pl.lit('Training')))\n",
    ".sort(pl.col('playerID','yearID'))\n",
    ")\n",
    "Gold_Glove.head()"
   ]
  },
  {
   "cell_type": "code",
   "execution_count": 10,
   "id": "97346863-1fa4-44f5-b773-501381f0469b",
   "metadata": {},
   "outputs": [
    {
     "data": {
      "text/html": [
       "<div><style>\n",
       ".dataframe > thead > tr,\n",
       ".dataframe > tbody > tr {\n",
       "  text-align: right;\n",
       "  white-space: pre-wrap;\n",
       "}\n",
       "</style>\n",
       "<small>shape: (2_069, 22)</small><table border=\"1\" class=\"dataframe\"><thead><tr><th>playerID</th><th>yearID</th><th>lgID</th><th>POS</th><th>G</th><th>GS</th><th>InnOuts</th><th>PO</th><th>A</th><th>E</th><th>DP</th><th>PB</th><th>WP</th><th>SB</th><th>CS</th><th>ZR</th><th>awardID</th><th>lgID_right</th><th>tie</th><th>notes</th><th>Gold_Glove</th><th>Training_Validation</th></tr><tr><td>str</td><td>i64</td><td>str</td><td>str</td><td>i64</td><td>i64</td><td>i64</td><td>i64</td><td>i64</td><td>i64</td><td>i64</td><td>i32</td><td>i32</td><td>i32</td><td>i32</td><td>i32</td><td>str</td><td>str</td><td>str</td><td>str</td><td>str</td><td>str</td></tr></thead><tbody><tr><td>&quot;abadfe01&quot;</td><td>2023</td><td>&quot;NL&quot;</td><td>&quot;P&quot;</td><td>6</td><td>0</td><td>19</td><td>0</td><td>0</td><td>1</td><td>0</td><td>0</td><td>0</td><td>0</td><td>0</td><td>0</td><td>null</td><td>null</td><td>null</td><td>null</td><td>&quot;No&quot;</td><td>&quot;Validation&quot;</td></tr><tr><td>&quot;abbotan01&quot;</td><td>2023</td><td>&quot;NL&quot;</td><td>&quot;P&quot;</td><td>21</td><td>21</td><td>328</td><td>1</td><td>9</td><td>0</td><td>1</td><td>0</td><td>0</td><td>0</td><td>0</td><td>0</td><td>null</td><td>null</td><td>null</td><td>null</td><td>&quot;No&quot;</td><td>&quot;Validation&quot;</td></tr><tr><td>&quot;abbotco01&quot;</td><td>2023</td><td>&quot;NL&quot;</td><td>&quot;P&quot;</td><td>22</td><td>0</td><td>118</td><td>0</td><td>1</td><td>0</td><td>1</td><td>0</td><td>0</td><td>0</td><td>0</td><td>0</td><td>null</td><td>null</td><td>null</td><td>null</td><td>&quot;No&quot;</td><td>&quot;Validation&quot;</td></tr><tr><td>&quot;abramcj01&quot;</td><td>2023</td><td>&quot;NL&quot;</td><td>&quot;SS&quot;</td><td>151</td><td>148</td><td>3884</td><td>245</td><td>384</td><td>22</td><td>100</td><td>0</td><td>0</td><td>0</td><td>0</td><td>0</td><td>null</td><td>null</td><td>null</td><td>null</td><td>&quot;No&quot;</td><td>&quot;Validation&quot;</td></tr><tr><td>&quot;abreual01&quot;</td><td>2023</td><td>&quot;AL&quot;</td><td>&quot;P&quot;</td><td>45</td><td>0</td><td>177</td><td>6</td><td>4</td><td>2</td><td>0</td><td>0</td><td>0</td><td>0</td><td>0</td><td>0</td><td>null</td><td>null</td><td>null</td><td>null</td><td>&quot;No&quot;</td><td>&quot;Validation&quot;</td></tr><tr><td>&hellip;</td><td>&hellip;</td><td>&hellip;</td><td>&hellip;</td><td>&hellip;</td><td>&hellip;</td><td>&hellip;</td><td>&hellip;</td><td>&hellip;</td><td>&hellip;</td><td>&hellip;</td><td>&hellip;</td><td>&hellip;</td><td>&hellip;</td><td>&hellip;</td><td>&hellip;</td><td>&hellip;</td><td>&hellip;</td><td>&hellip;</td><td>&hellip;</td><td>&hellip;</td><td>&hellip;</td></tr><tr><td>&quot;zavalse01&quot;</td><td>2023</td><td>&quot;NL&quot;</td><td>&quot;P&quot;</td><td>1</td><td>0</td><td>2</td><td>0</td><td>0</td><td>0</td><td>0</td><td>0</td><td>0</td><td>0</td><td>0</td><td>0</td><td>null</td><td>null</td><td>null</td><td>null</td><td>&quot;No&quot;</td><td>&quot;Validation&quot;</td></tr><tr><td>&quot;zerpaan01&quot;</td><td>2023</td><td>&quot;AL&quot;</td><td>&quot;P&quot;</td><td>15</td><td>3</td><td>128</td><td>1</td><td>12</td><td>1</td><td>0</td><td>0</td><td>0</td><td>0</td><td>0</td><td>0</td><td>null</td><td>null</td><td>null</td><td>null</td><td>&quot;No&quot;</td><td>&quot;Validation&quot;</td></tr><tr><td>&quot;zimmebr02&quot;</td><td>2023</td><td>&quot;AL&quot;</td><td>&quot;P&quot;</td><td>7</td><td>0</td><td>40</td><td>0</td><td>1</td><td>2</td><td>0</td><td>0</td><td>0</td><td>0</td><td>0</td><td>0</td><td>null</td><td>null</td><td>null</td><td>null</td><td>&quot;No&quot;</td><td>&quot;Validation&quot;</td></tr><tr><td>&quot;zuniggu01&quot;</td><td>2023</td><td>&quot;NL&quot;</td><td>&quot;P&quot;</td><td>2</td><td>0</td><td>6</td><td>0</td><td>0</td><td>0</td><td>0</td><td>0</td><td>0</td><td>0</td><td>0</td><td>0</td><td>null</td><td>null</td><td>null</td><td>null</td><td>&quot;No&quot;</td><td>&quot;Validation&quot;</td></tr><tr><td>&quot;zuninmi01&quot;</td><td>2023</td><td>&quot;AL&quot;</td><td>&quot;C&quot;</td><td>42</td><td>41</td><td>1019</td><td>276</td><td>17</td><td>3</td><td>2</td><td>5</td><td>19</td><td>40</td><td>8</td><td>0</td><td>null</td><td>null</td><td>null</td><td>null</td><td>&quot;No&quot;</td><td>&quot;Validation&quot;</td></tr></tbody></table></div>"
      ],
      "text/plain": [
       "shape: (2_069, 22)\n",
       "┌───────────┬────────┬──────┬─────┬───┬──────┬───────┬────────────┬─────────────────────┐\n",
       "│ playerID  ┆ yearID ┆ lgID ┆ POS ┆ … ┆ tie  ┆ notes ┆ Gold_Glove ┆ Training_Validation │\n",
       "│ ---       ┆ ---    ┆ ---  ┆ --- ┆   ┆ ---  ┆ ---   ┆ ---        ┆ ---                 │\n",
       "│ str       ┆ i64    ┆ str  ┆ str ┆   ┆ str  ┆ str   ┆ str        ┆ str                 │\n",
       "╞═══════════╪════════╪══════╪═════╪═══╪══════╪═══════╪════════════╪═════════════════════╡\n",
       "│ abadfe01  ┆ 2023   ┆ NL   ┆ P   ┆ … ┆ null ┆ null  ┆ No         ┆ Validation          │\n",
       "│ abbotan01 ┆ 2023   ┆ NL   ┆ P   ┆ … ┆ null ┆ null  ┆ No         ┆ Validation          │\n",
       "│ abbotco01 ┆ 2023   ┆ NL   ┆ P   ┆ … ┆ null ┆ null  ┆ No         ┆ Validation          │\n",
       "│ abramcj01 ┆ 2023   ┆ NL   ┆ SS  ┆ … ┆ null ┆ null  ┆ No         ┆ Validation          │\n",
       "│ abreual01 ┆ 2023   ┆ AL   ┆ P   ┆ … ┆ null ┆ null  ┆ No         ┆ Validation          │\n",
       "│ …         ┆ …      ┆ …    ┆ …   ┆ … ┆ …    ┆ …     ┆ …          ┆ …                   │\n",
       "│ zavalse01 ┆ 2023   ┆ NL   ┆ P   ┆ … ┆ null ┆ null  ┆ No         ┆ Validation          │\n",
       "│ zerpaan01 ┆ 2023   ┆ AL   ┆ P   ┆ … ┆ null ┆ null  ┆ No         ┆ Validation          │\n",
       "│ zimmebr02 ┆ 2023   ┆ AL   ┆ P   ┆ … ┆ null ┆ null  ┆ No         ┆ Validation          │\n",
       "│ zuniggu01 ┆ 2023   ┆ NL   ┆ P   ┆ … ┆ null ┆ null  ┆ No         ┆ Validation          │\n",
       "│ zuninmi01 ┆ 2023   ┆ AL   ┆ C   ┆ … ┆ null ┆ null  ┆ No         ┆ Validation          │\n",
       "└───────────┴────────┴──────┴─────┴───┴──────┴───────┴────────────┴─────────────────────┘"
      ]
     },
     "execution_count": 10,
     "metadata": {},
     "output_type": "execute_result"
    }
   ],
   "source": [
    "(Gold_Glove\n",
    ".filter(pl.col('yearID') == 2023))"
   ]
  },
  {
   "cell_type": "markdown",
   "id": "cf519d6b-b153-44c1-94f0-c4c617f10c11",
   "metadata": {},
   "source": [
    "# Salary prediction data table"
   ]
  },
  {
   "cell_type": "code",
   "execution_count": 11,
   "id": "0149160c-7c1a-4e47-9845-c03cd50ba95a",
   "metadata": {},
   "outputs": [
    {
     "data": {
      "text/html": [
       "<div><style>\n",
       ".dataframe > thead > tr,\n",
       ".dataframe > tbody > tr {\n",
       "  text-align: right;\n",
       "  white-space: pre-wrap;\n",
       "}\n",
       "</style>\n",
       "<small>shape: (9_134, 60)</small><table border=\"1\" class=\"dataframe\"><thead><tr><th>yearID</th><th>teamID</th><th>lgID</th><th>playerID</th><th>salary</th><th>G</th><th>G_batting</th><th>AB</th><th>R</th><th>H</th><th>2B</th><th>3B</th><th>HR</th><th>RBI</th><th>SB</th><th>CS</th><th>BB</th><th>SO</th><th>IBB</th><th>HBP</th><th>SH</th><th>SF</th><th>GIDP</th><th>W</th><th>L</th><th>G_pitching</th><th>GS</th><th>CG</th><th>SHO</th><th>SV</th><th>IPouts</th><th>H_pitching</th><th>ER</th><th>HR_pitching</th><th>BB_pitching</th><th>SO_pitching</th><th>BAOpp</th><th>ERA</th><th>IBB_pitching</th><th>WP</th><th>HBP_pitching</th><th>BK</th><th>BFP</th><th>GF</th><th>R_pitching</th><th>SH_pitching</th><th>SF_pitching</th><th>GIDP_pitching</th><th>GS_fielding</th><th>InnOuts</th><th>PO</th><th>A</th><th>E</th><th>DP</th><th>PB</th><th>WP_fielding</th><th>SB_fielding</th><th>CS_fielding</th><th>ZR</th><th>Training_Validation</th></tr><tr><td>i64</td><td>str</td><td>str</td><td>str</td><td>i64</td><td>i64</td><td>i64</td><td>i64</td><td>i64</td><td>i64</td><td>i64</td><td>i64</td><td>i64</td><td>i64</td><td>i64</td><td>i64</td><td>i64</td><td>i64</td><td>i64</td><td>i64</td><td>i64</td><td>i64</td><td>i64</td><td>i64</td><td>i64</td><td>i64</td><td>i64</td><td>i64</td><td>i64</td><td>i64</td><td>i64</td><td>i64</td><td>i64</td><td>i64</td><td>i64</td><td>i64</td><td>f64</td><td>f64</td><td>i64</td><td>i64</td><td>i64</td><td>i64</td><td>i64</td><td>i64</td><td>i64</td><td>i64</td><td>i64</td><td>i64</td><td>i64</td><td>i64</td><td>i64</td><td>i64</td><td>i64</td><td>i64</td><td>i32</td><td>i32</td><td>i32</td><td>i32</td><td>i32</td><td>str</td></tr></thead><tbody><tr><td>2007</td><td>&quot;CHA&quot;</td><td>&quot;AL&quot;</td><td>&quot;aardsda01&quot;</td><td>387500</td><td>25</td><td>0</td><td>0</td><td>0</td><td>0</td><td>0</td><td>0</td><td>0</td><td>0</td><td>0</td><td>0</td><td>0</td><td>0</td><td>0</td><td>0</td><td>0</td><td>0</td><td>0</td><td>2</td><td>1</td><td>25</td><td>0</td><td>0</td><td>0</td><td>0</td><td>97</td><td>39</td><td>23</td><td>4</td><td>17</td><td>36</td><td>0.3</td><td>6.4</td><td>3</td><td>2</td><td>1</td><td>0</td><td>151</td><td>7</td><td>24</td><td>2</td><td>1</td><td>1</td><td>0</td><td>97</td><td>2</td><td>4</td><td>1</td><td>0</td><td>0</td><td>0</td><td>0</td><td>0</td><td>0</td><td>&quot;Training&quot;</td></tr><tr><td>2008</td><td>&quot;BOS&quot;</td><td>&quot;AL&quot;</td><td>&quot;aardsda01&quot;</td><td>403250</td><td>47</td><td>0</td><td>1</td><td>0</td><td>0</td><td>0</td><td>0</td><td>0</td><td>0</td><td>0</td><td>0</td><td>0</td><td>1</td><td>0</td><td>0</td><td>0</td><td>0</td><td>0</td><td>4</td><td>2</td><td>47</td><td>0</td><td>0</td><td>0</td><td>0</td><td>146</td><td>49</td><td>30</td><td>4</td><td>35</td><td>49</td><td>0.268</td><td>5.55</td><td>2</td><td>3</td><td>5</td><td>0</td><td>228</td><td>7</td><td>32</td><td>3</td><td>2</td><td>4</td><td>0</td><td>146</td><td>3</td><td>6</td><td>0</td><td>0</td><td>0</td><td>0</td><td>0</td><td>0</td><td>0</td><td>&quot;Training&quot;</td></tr><tr><td>2009</td><td>&quot;SEA&quot;</td><td>&quot;AL&quot;</td><td>&quot;aardsda01&quot;</td><td>419000</td><td>73</td><td>0</td><td>0</td><td>0</td><td>0</td><td>0</td><td>0</td><td>0</td><td>0</td><td>0</td><td>0</td><td>0</td><td>0</td><td>0</td><td>0</td><td>0</td><td>0</td><td>0</td><td>3</td><td>6</td><td>73</td><td>0</td><td>0</td><td>0</td><td>38</td><td>214</td><td>49</td><td>20</td><td>4</td><td>34</td><td>80</td><td>0.19</td><td>2.52</td><td>3</td><td>2</td><td>0</td><td>0</td><td>296</td><td>53</td><td>23</td><td>2</td><td>1</td><td>2</td><td>0</td><td>214</td><td>2</td><td>5</td><td>0</td><td>1</td><td>0</td><td>0</td><td>0</td><td>0</td><td>0</td><td>&quot;Training&quot;</td></tr><tr><td>2010</td><td>&quot;SEA&quot;</td><td>&quot;AL&quot;</td><td>&quot;aardsda01&quot;</td><td>2750000</td><td>53</td><td>0</td><td>0</td><td>0</td><td>0</td><td>0</td><td>0</td><td>0</td><td>0</td><td>0</td><td>0</td><td>0</td><td>0</td><td>0</td><td>0</td><td>0</td><td>0</td><td>0</td><td>0</td><td>6</td><td>53</td><td>0</td><td>0</td><td>0</td><td>31</td><td>149</td><td>33</td><td>19</td><td>5</td><td>25</td><td>49</td><td>0.198</td><td>3.44</td><td>5</td><td>2</td><td>2</td><td>0</td><td>202</td><td>43</td><td>19</td><td>7</td><td>1</td><td>5</td><td>0</td><td>149</td><td>2</td><td>3</td><td>1</td><td>0</td><td>0</td><td>0</td><td>0</td><td>0</td><td>0</td><td>&quot;Training&quot;</td></tr><tr><td>2011</td><td>&quot;SEA&quot;</td><td>&quot;AL&quot;</td><td>&quot;aardsda01&quot;</td><td>4500000</td><td>null</td><td>null</td><td>null</td><td>null</td><td>null</td><td>null</td><td>null</td><td>null</td><td>null</td><td>null</td><td>null</td><td>null</td><td>null</td><td>null</td><td>null</td><td>null</td><td>null</td><td>null</td><td>null</td><td>null</td><td>null</td><td>null</td><td>null</td><td>null</td><td>null</td><td>null</td><td>null</td><td>null</td><td>null</td><td>null</td><td>null</td><td>null</td><td>null</td><td>null</td><td>null</td><td>null</td><td>null</td><td>null</td><td>null</td><td>null</td><td>null</td><td>null</td><td>null</td><td>null</td><td>null</td><td>null</td><td>null</td><td>null</td><td>null</td><td>null</td><td>null</td><td>null</td><td>null</td><td>null</td><td>&quot;Training&quot;</td></tr><tr><td>&hellip;</td><td>&hellip;</td><td>&hellip;</td><td>&hellip;</td><td>&hellip;</td><td>&hellip;</td><td>&hellip;</td><td>&hellip;</td><td>&hellip;</td><td>&hellip;</td><td>&hellip;</td><td>&hellip;</td><td>&hellip;</td><td>&hellip;</td><td>&hellip;</td><td>&hellip;</td><td>&hellip;</td><td>&hellip;</td><td>&hellip;</td><td>&hellip;</td><td>&hellip;</td><td>&hellip;</td><td>&hellip;</td><td>&hellip;</td><td>&hellip;</td><td>&hellip;</td><td>&hellip;</td><td>&hellip;</td><td>&hellip;</td><td>&hellip;</td><td>&hellip;</td><td>&hellip;</td><td>&hellip;</td><td>&hellip;</td><td>&hellip;</td><td>&hellip;</td><td>&hellip;</td><td>&hellip;</td><td>&hellip;</td><td>&hellip;</td><td>&hellip;</td><td>&hellip;</td><td>&hellip;</td><td>&hellip;</td><td>&hellip;</td><td>&hellip;</td><td>&hellip;</td><td>&hellip;</td><td>&hellip;</td><td>&hellip;</td><td>&hellip;</td><td>&hellip;</td><td>&hellip;</td><td>&hellip;</td><td>&hellip;</td><td>&hellip;</td><td>&hellip;</td><td>&hellip;</td><td>&hellip;</td><td>&hellip;</td></tr><tr><td>2010</td><td>&quot;DET&quot;</td><td>&quot;AL&quot;</td><td>&quot;zumayjo01&quot;</td><td>915000</td><td>31</td><td>0</td><td>0</td><td>0</td><td>0</td><td>0</td><td>0</td><td>0</td><td>0</td><td>0</td><td>0</td><td>0</td><td>0</td><td>0</td><td>0</td><td>0</td><td>0</td><td>0</td><td>2</td><td>1</td><td>31</td><td>0</td><td>0</td><td>0</td><td>1</td><td>115</td><td>32</td><td>11</td><td>1</td><td>11</td><td>34</td><td>0.229</td><td>2.58</td><td>0</td><td>2</td><td>0</td><td>0</td><td>156</td><td>6</td><td>13</td><td>2</td><td>3</td><td>4</td><td>0</td><td>115</td><td>0</td><td>6</td><td>0</td><td>0</td><td>0</td><td>0</td><td>0</td><td>0</td><td>0</td><td>&quot;Training&quot;</td></tr><tr><td>2011</td><td>&quot;DET&quot;</td><td>&quot;AL&quot;</td><td>&quot;zumayjo01&quot;</td><td>1400000</td><td>null</td><td>null</td><td>null</td><td>null</td><td>null</td><td>null</td><td>null</td><td>null</td><td>null</td><td>null</td><td>null</td><td>null</td><td>null</td><td>null</td><td>null</td><td>null</td><td>null</td><td>null</td><td>null</td><td>null</td><td>null</td><td>null</td><td>null</td><td>null</td><td>null</td><td>null</td><td>null</td><td>null</td><td>null</td><td>null</td><td>null</td><td>null</td><td>null</td><td>null</td><td>null</td><td>null</td><td>null</td><td>null</td><td>null</td><td>null</td><td>null</td><td>null</td><td>null</td><td>null</td><td>null</td><td>null</td><td>null</td><td>null</td><td>null</td><td>null</td><td>null</td><td>null</td><td>null</td><td>null</td><td>&quot;Training&quot;</td></tr><tr><td>2014</td><td>&quot;SEA&quot;</td><td>&quot;AL&quot;</td><td>&quot;zuninmi01&quot;</td><td>504100</td><td>131</td><td>0</td><td>438</td><td>51</td><td>87</td><td>20</td><td>2</td><td>22</td><td>60</td><td>0</td><td>3</td><td>17</td><td>158</td><td>1</td><td>17</td><td>0</td><td>4</td><td>12</td><td>null</td><td>null</td><td>null</td><td>null</td><td>null</td><td>null</td><td>null</td><td>null</td><td>null</td><td>null</td><td>null</td><td>null</td><td>null</td><td>null</td><td>null</td><td>null</td><td>null</td><td>null</td><td>null</td><td>null</td><td>null</td><td>null</td><td>null</td><td>null</td><td>null</td><td>125</td><td>3363</td><td>1010</td><td>84</td><td>5</td><td>5</td><td>8</td><td>0</td><td>71</td><td>28</td><td>0</td><td>&quot;Training&quot;</td></tr><tr><td>2015</td><td>&quot;SEA&quot;</td><td>&quot;AL&quot;</td><td>&quot;zuninmi01&quot;</td><td>523500</td><td>112</td><td>0</td><td>350</td><td>28</td><td>61</td><td>11</td><td>0</td><td>11</td><td>28</td><td>0</td><td>1</td><td>21</td><td>132</td><td>0</td><td>5</td><td>8</td><td>2</td><td>6</td><td>null</td><td>null</td><td>null</td><td>null</td><td>null</td><td>null</td><td>null</td><td>null</td><td>null</td><td>null</td><td>null</td><td>null</td><td>null</td><td>null</td><td>null</td><td>null</td><td>null</td><td>null</td><td>null</td><td>null</td><td>null</td><td>null</td><td>null</td><td>null</td><td>null</td><td>101</td><td>2759</td><td>809</td><td>44</td><td>5</td><td>6</td><td>6</td><td>0</td><td>42</td><td>22</td><td>0</td><td>&quot;Training&quot;</td></tr><tr><td>2016</td><td>&quot;SEA&quot;</td><td>&quot;AL&quot;</td><td>&quot;zychto01&quot;</td><td>511000</td><td>12</td><td>0</td><td>0</td><td>0</td><td>0</td><td>0</td><td>0</td><td>0</td><td>0</td><td>0</td><td>0</td><td>0</td><td>0</td><td>0</td><td>0</td><td>0</td><td>0</td><td>0</td><td>1</td><td>0</td><td>12</td><td>0</td><td>0</td><td>0</td><td>0</td><td>41</td><td>10</td><td>5</td><td>0</td><td>10</td><td>21</td><td>0.208</td><td>3.29</td><td>2</td><td>0</td><td>1</td><td>0</td><td>60</td><td>3</td><td>6</td><td>0</td><td>1</td><td>1</td><td>0</td><td>41</td><td>0</td><td>0</td><td>1</td><td>0</td><td>0</td><td>0</td><td>0</td><td>0</td><td>0</td><td>&quot;Validation&quot;</td></tr></tbody></table></div>"
      ],
      "text/plain": [
       "shape: (9_134, 60)\n",
       "┌────────┬────────┬──────┬───────────┬───┬─────────────┬─────────────┬──────┬─────────────────────┐\n",
       "│ yearID ┆ teamID ┆ lgID ┆ playerID  ┆ … ┆ SB_fielding ┆ CS_fielding ┆ ZR   ┆ Training_Validation │\n",
       "│ ---    ┆ ---    ┆ ---  ┆ ---       ┆   ┆ ---         ┆ ---         ┆ ---  ┆ ---                 │\n",
       "│ i64    ┆ str    ┆ str  ┆ str       ┆   ┆ i32         ┆ i32         ┆ i32  ┆ str                 │\n",
       "╞════════╪════════╪══════╪═══════════╪═══╪═════════════╪═════════════╪══════╪═════════════════════╡\n",
       "│ 2007   ┆ CHA    ┆ AL   ┆ aardsda01 ┆ … ┆ 0           ┆ 0           ┆ 0    ┆ Training            │\n",
       "│ 2008   ┆ BOS    ┆ AL   ┆ aardsda01 ┆ … ┆ 0           ┆ 0           ┆ 0    ┆ Training            │\n",
       "│ 2009   ┆ SEA    ┆ AL   ┆ aardsda01 ┆ … ┆ 0           ┆ 0           ┆ 0    ┆ Training            │\n",
       "│ 2010   ┆ SEA    ┆ AL   ┆ aardsda01 ┆ … ┆ 0           ┆ 0           ┆ 0    ┆ Training            │\n",
       "│ 2011   ┆ SEA    ┆ AL   ┆ aardsda01 ┆ … ┆ null        ┆ null        ┆ null ┆ Training            │\n",
       "│ …      ┆ …      ┆ …    ┆ …         ┆ … ┆ …           ┆ …           ┆ …    ┆ …                   │\n",
       "│ 2010   ┆ DET    ┆ AL   ┆ zumayjo01 ┆ … ┆ 0           ┆ 0           ┆ 0    ┆ Training            │\n",
       "│ 2011   ┆ DET    ┆ AL   ┆ zumayjo01 ┆ … ┆ null        ┆ null        ┆ null ┆ Training            │\n",
       "│ 2014   ┆ SEA    ┆ AL   ┆ zuninmi01 ┆ … ┆ 71          ┆ 28          ┆ 0    ┆ Training            │\n",
       "│ 2015   ┆ SEA    ┆ AL   ┆ zuninmi01 ┆ … ┆ 42          ┆ 22          ┆ 0    ┆ Training            │\n",
       "│ 2016   ┆ SEA    ┆ AL   ┆ zychto01  ┆ … ┆ 0           ┆ 0           ┆ 0    ┆ Validation          │\n",
       "└────────┴────────┴──────┴───────────┴───┴─────────────┴─────────────┴──────┴─────────────────────┘"
      ]
     },
     "execution_count": 11,
     "metadata": {},
     "output_type": "execute_result"
    }
   ],
   "source": [
    "batting_agg = (batting\n",
    "              .group_by(pl.col('playerID','yearID'))\n",
    "              .agg(pl.col(['G', 'G_batting', 'AB', 'R', 'H', '2B', '3B', 'HR', 'RBI', 'SB', 'CS', 'BB', 'SO', 'IBB', 'HBP', 'SH', 'SF', 'GIDP']).sum()))\n",
    "pitching_agg = (pitching\n",
    "               .group_by(pl.col('playerID','yearID'))\n",
    "               .agg(pl.col(['W', 'L', 'G', 'GS', 'CG', 'SHO', 'SV', 'IPouts', 'H', 'ER', 'HR', 'BB', 'SO', 'BAOpp', 'ERA', 'IBB', 'WP', 'HBP', 'BK', 'BFP', 'GF', 'R', 'SH', 'SF', 'GIDP']).sum()))\n",
    "fielding_agg = (fielders\n",
    "               .group_by(pl.col(['playerID','yearID']))\n",
    "               .agg(pl.col(['GS', 'InnOuts', 'PO', 'A', 'E', 'DP', 'PB', 'WP', 'SB', 'CS', 'ZR']).sum()))\n",
    "\n",
    "\n",
    "Combined_data = (batting_agg\n",
    "                .join(pitching_agg,on = ['playerID','yearID'],how='full',suffix = \"_pitching\")\n",
    "                .drop('playerID_pitching','yearID_pitching')\n",
    "                .join(fielding_agg,on = ['playerID','yearID'],how='full',suffix = \"_fielding\")\n",
    "                .drop('playerID_fielding','yearID_fielding'))\n",
    "\n",
    "\n",
    "\n",
    "Salary_predict = (salaries\n",
    " .filter(pl.col('yearID') >= 2006)\n",
    " .join(Combined_data,on = ['playerID','yearID'],how='left')\n",
    " .with_columns(Training_Validation = pl.when(pl.col('yearID') == 2016)\n",
    "                                .then(pl.lit('Validation'))\n",
    "                                .otherwise(pl.lit('Training')))\n",
    " .sort(pl.col('playerID','yearID'))\n",
    ")\n",
    "Salary_predict"
   ]
  },
  {
   "cell_type": "code",
   "execution_count": 12,
   "id": "f9a2b906-59fd-41eb-ac0a-8f85601ae08b",
   "metadata": {},
   "outputs": [
    {
     "data": {
      "text/html": [
       "<div><style>\n",
       ".dataframe > thead > tr,\n",
       ".dataframe > tbody > tr {\n",
       "  text-align: right;\n",
       "  white-space: pre-wrap;\n",
       "}\n",
       "</style>\n",
       "<small>shape: (853, 60)</small><table border=\"1\" class=\"dataframe\"><thead><tr><th>yearID</th><th>teamID</th><th>lgID</th><th>playerID</th><th>salary</th><th>G</th><th>G_batting</th><th>AB</th><th>R</th><th>H</th><th>2B</th><th>3B</th><th>HR</th><th>RBI</th><th>SB</th><th>CS</th><th>BB</th><th>SO</th><th>IBB</th><th>HBP</th><th>SH</th><th>SF</th><th>GIDP</th><th>W</th><th>L</th><th>G_pitching</th><th>GS</th><th>CG</th><th>SHO</th><th>SV</th><th>IPouts</th><th>H_pitching</th><th>ER</th><th>HR_pitching</th><th>BB_pitching</th><th>SO_pitching</th><th>BAOpp</th><th>ERA</th><th>IBB_pitching</th><th>WP</th><th>HBP_pitching</th><th>BK</th><th>BFP</th><th>GF</th><th>R_pitching</th><th>SH_pitching</th><th>SF_pitching</th><th>GIDP_pitching</th><th>GS_fielding</th><th>InnOuts</th><th>PO</th><th>A</th><th>E</th><th>DP</th><th>PB</th><th>WP_fielding</th><th>SB_fielding</th><th>CS_fielding</th><th>ZR</th><th>Training_Validation</th></tr><tr><td>i64</td><td>str</td><td>str</td><td>str</td><td>i64</td><td>i64</td><td>i64</td><td>i64</td><td>i64</td><td>i64</td><td>i64</td><td>i64</td><td>i64</td><td>i64</td><td>i64</td><td>i64</td><td>i64</td><td>i64</td><td>i64</td><td>i64</td><td>i64</td><td>i64</td><td>i64</td><td>i64</td><td>i64</td><td>i64</td><td>i64</td><td>i64</td><td>i64</td><td>i64</td><td>i64</td><td>i64</td><td>i64</td><td>i64</td><td>i64</td><td>i64</td><td>f64</td><td>f64</td><td>i64</td><td>i64</td><td>i64</td><td>i64</td><td>i64</td><td>i64</td><td>i64</td><td>i64</td><td>i64</td><td>i64</td><td>i64</td><td>i64</td><td>i64</td><td>i64</td><td>i64</td><td>i64</td><td>i32</td><td>i32</td><td>i32</td><td>i32</td><td>i32</td><td>str</td></tr></thead><tbody><tr><td>2016</td><td>&quot;MIN&quot;</td><td>&quot;AL&quot;</td><td>&quot;abadfe01&quot;</td><td>1250000</td><td>57</td><td>0</td><td>1</td><td>0</td><td>0</td><td>0</td><td>0</td><td>0</td><td>0</td><td>0</td><td>0</td><td>0</td><td>1</td><td>0</td><td>0</td><td>0</td><td>0</td><td>0</td><td>1</td><td>6</td><td>57</td><td>0</td><td>0</td><td>0</td><td>1</td><td>140</td><td>40</td><td>19</td><td>4</td><td>22</td><td>41</td><td>0.475</td><td>9.04</td><td>2</td><td>1</td><td>1</td><td>1</td><td>198</td><td>15</td><td>20</td><td>0</td><td>1</td><td>7</td><td>0</td><td>140</td><td>0</td><td>4</td><td>0</td><td>1</td><td>0</td><td>0</td><td>0</td><td>0</td><td>0</td><td>&quot;Validation&quot;</td></tr><tr><td>2016</td><td>&quot;CHA&quot;</td><td>&quot;AL&quot;</td><td>&quot;abreujo02&quot;</td><td>11666667</td><td>159</td><td>0</td><td>624</td><td>67</td><td>183</td><td>32</td><td>1</td><td>25</td><td>100</td><td>0</td><td>2</td><td>47</td><td>125</td><td>7</td><td>15</td><td>0</td><td>9</td><td>21</td><td>null</td><td>null</td><td>null</td><td>null</td><td>null</td><td>null</td><td>null</td><td>null</td><td>null</td><td>null</td><td>null</td><td>null</td><td>null</td><td>null</td><td>null</td><td>null</td><td>null</td><td>null</td><td>null</td><td>null</td><td>null</td><td>null</td><td>null</td><td>null</td><td>null</td><td>152</td><td>4067</td><td>1243</td><td>84</td><td>10</td><td>131</td><td>0</td><td>0</td><td>0</td><td>0</td><td>0</td><td>&quot;Validation&quot;</td></tr><tr><td>2016</td><td>&quot;NYA&quot;</td><td>&quot;AL&quot;</td><td>&quot;ackledu01&quot;</td><td>3200000</td><td>28</td><td>0</td><td>61</td><td>6</td><td>9</td><td>0</td><td>0</td><td>0</td><td>4</td><td>0</td><td>0</td><td>8</td><td>9</td><td>0</td><td>0</td><td>0</td><td>1</td><td>0</td><td>null</td><td>null</td><td>null</td><td>null</td><td>null</td><td>null</td><td>null</td><td>null</td><td>null</td><td>null</td><td>null</td><td>null</td><td>null</td><td>null</td><td>null</td><td>null</td><td>null</td><td>null</td><td>null</td><td>null</td><td>null</td><td>null</td><td>null</td><td>null</td><td>null</td><td>16</td><td>421</td><td>89</td><td>8</td><td>0</td><td>8</td><td>0</td><td>0</td><td>0</td><td>0</td><td>0</td><td>&quot;Validation&quot;</td></tr><tr><td>2016</td><td>&quot;COL&quot;</td><td>&quot;NL&quot;</td><td>&quot;adamecr01&quot;</td><td>509500</td><td>121</td><td>0</td><td>225</td><td>25</td><td>49</td><td>7</td><td>3</td><td>2</td><td>17</td><td>2</td><td>3</td><td>24</td><td>47</td><td>0</td><td>4</td><td>3</td><td>0</td><td>5</td><td>null</td><td>null</td><td>null</td><td>null</td><td>null</td><td>null</td><td>null</td><td>null</td><td>null</td><td>null</td><td>null</td><td>null</td><td>null</td><td>null</td><td>null</td><td>null</td><td>null</td><td>null</td><td>null</td><td>null</td><td>null</td><td>null</td><td>null</td><td>null</td><td>null</td><td>43</td><td>1245</td><td>68</td><td>138</td><td>6</td><td>24</td><td>0</td><td>0</td><td>0</td><td>0</td><td>0</td><td>&quot;Validation&quot;</td></tr><tr><td>2016</td><td>&quot;SLN&quot;</td><td>&quot;NL&quot;</td><td>&quot;adamsma01&quot;</td><td>1650000</td><td>118</td><td>0</td><td>297</td><td>37</td><td>74</td><td>18</td><td>0</td><td>16</td><td>54</td><td>0</td><td>1</td><td>25</td><td>81</td><td>1</td><td>2</td><td>0</td><td>3</td><td>5</td><td>null</td><td>null</td><td>null</td><td>null</td><td>null</td><td>null</td><td>null</td><td>null</td><td>null</td><td>null</td><td>null</td><td>null</td><td>null</td><td>null</td><td>null</td><td>null</td><td>null</td><td>null</td><td>null</td><td>null</td><td>null</td><td>null</td><td>null</td><td>null</td><td>null</td><td>69</td><td>1805</td><td>617</td><td>71</td><td>7</td><td>62</td><td>0</td><td>0</td><td>0</td><td>0</td><td>0</td><td>&quot;Validation&quot;</td></tr><tr><td>&hellip;</td><td>&hellip;</td><td>&hellip;</td><td>&hellip;</td><td>&hellip;</td><td>&hellip;</td><td>&hellip;</td><td>&hellip;</td><td>&hellip;</td><td>&hellip;</td><td>&hellip;</td><td>&hellip;</td><td>&hellip;</td><td>&hellip;</td><td>&hellip;</td><td>&hellip;</td><td>&hellip;</td><td>&hellip;</td><td>&hellip;</td><td>&hellip;</td><td>&hellip;</td><td>&hellip;</td><td>&hellip;</td><td>&hellip;</td><td>&hellip;</td><td>&hellip;</td><td>&hellip;</td><td>&hellip;</td><td>&hellip;</td><td>&hellip;</td><td>&hellip;</td><td>&hellip;</td><td>&hellip;</td><td>&hellip;</td><td>&hellip;</td><td>&hellip;</td><td>&hellip;</td><td>&hellip;</td><td>&hellip;</td><td>&hellip;</td><td>&hellip;</td><td>&hellip;</td><td>&hellip;</td><td>&hellip;</td><td>&hellip;</td><td>&hellip;</td><td>&hellip;</td><td>&hellip;</td><td>&hellip;</td><td>&hellip;</td><td>&hellip;</td><td>&hellip;</td><td>&hellip;</td><td>&hellip;</td><td>&hellip;</td><td>&hellip;</td><td>&hellip;</td><td>&hellip;</td><td>&hellip;</td><td>&hellip;</td></tr><tr><td>2016</td><td>&quot;ARI&quot;</td><td>&quot;NL&quot;</td><td>&quot;zieglbr01&quot;</td><td>5500000</td><td>69</td><td>0</td><td>0</td><td>0</td><td>0</td><td>0</td><td>0</td><td>0</td><td>0</td><td>0</td><td>0</td><td>0</td><td>0</td><td>0</td><td>0</td><td>0</td><td>0</td><td>0</td><td>4</td><td>7</td><td>69</td><td>0</td><td>0</td><td>0</td><td>22</td><td>204</td><td>67</td><td>17</td><td>2</td><td>26</td><td>58</td><td>0.515</td><td>4.34</td><td>7</td><td>1</td><td>3</td><td>0</td><td>289</td><td>42</td><td>21</td><td>2</td><td>1</td><td>16</td><td>0</td><td>204</td><td>2</td><td>11</td><td>1</td><td>0</td><td>0</td><td>0</td><td>0</td><td>0</td><td>0</td><td>&quot;Validation&quot;</td></tr><tr><td>2016</td><td>&quot;DET&quot;</td><td>&quot;AL&quot;</td><td>&quot;zimmejo02&quot;</td><td>18000000</td><td>19</td><td>0</td><td>4</td><td>0</td><td>1</td><td>0</td><td>0</td><td>0</td><td>0</td><td>0</td><td>0</td><td>0</td><td>2</td><td>0</td><td>0</td><td>1</td><td>0</td><td>0</td><td>9</td><td>7</td><td>19</td><td>18</td><td>0</td><td>0</td><td>0</td><td>316</td><td>118</td><td>57</td><td>14</td><td>26</td><td>66</td><td>0.284</td><td>4.87</td><td>0</td><td>3</td><td>2</td><td>0</td><td>450</td><td>1</td><td>63</td><td>1</td><td>5</td><td>8</td><td>18</td><td>316</td><td>2</td><td>17</td><td>2</td><td>0</td><td>0</td><td>0</td><td>0</td><td>0</td><td>0</td><td>&quot;Validation&quot;</td></tr><tr><td>2016</td><td>&quot;WAS&quot;</td><td>&quot;NL&quot;</td><td>&quot;zimmery01&quot;</td><td>14000000</td><td>115</td><td>0</td><td>427</td><td>60</td><td>93</td><td>18</td><td>1</td><td>15</td><td>46</td><td>4</td><td>1</td><td>29</td><td>104</td><td>1</td><td>5</td><td>0</td><td>6</td><td>12</td><td>null</td><td>null</td><td>null</td><td>null</td><td>null</td><td>null</td><td>null</td><td>null</td><td>null</td><td>null</td><td>null</td><td>null</td><td>null</td><td>null</td><td>null</td><td>null</td><td>null</td><td>null</td><td>null</td><td>null</td><td>null</td><td>null</td><td>null</td><td>null</td><td>null</td><td>108</td><td>2907</td><td>852</td><td>44</td><td>4</td><td>88</td><td>0</td><td>0</td><td>0</td><td>0</td><td>0</td><td>&quot;Validation&quot;</td></tr><tr><td>2016</td><td>&quot;CHN&quot;</td><td>&quot;NL&quot;</td><td>&quot;zobribe01&quot;</td><td>10500000</td><td>147</td><td>0</td><td>523</td><td>94</td><td>142</td><td>31</td><td>3</td><td>18</td><td>76</td><td>6</td><td>4</td><td>96</td><td>82</td><td>6</td><td>4</td><td>4</td><td>4</td><td>17</td><td>null</td><td>null</td><td>null</td><td>null</td><td>null</td><td>null</td><td>null</td><td>null</td><td>null</td><td>null</td><td>null</td><td>null</td><td>null</td><td>null</td><td>null</td><td>null</td><td>null</td><td>null</td><td>null</td><td>null</td><td>null</td><td>null</td><td>null</td><td>null</td><td>null</td><td>142</td><td>3795</td><td>221</td><td>251</td><td>7</td><td>52</td><td>0</td><td>0</td><td>0</td><td>0</td><td>0</td><td>&quot;Validation&quot;</td></tr><tr><td>2016</td><td>&quot;SEA&quot;</td><td>&quot;AL&quot;</td><td>&quot;zychto01&quot;</td><td>511000</td><td>12</td><td>0</td><td>0</td><td>0</td><td>0</td><td>0</td><td>0</td><td>0</td><td>0</td><td>0</td><td>0</td><td>0</td><td>0</td><td>0</td><td>0</td><td>0</td><td>0</td><td>0</td><td>1</td><td>0</td><td>12</td><td>0</td><td>0</td><td>0</td><td>0</td><td>41</td><td>10</td><td>5</td><td>0</td><td>10</td><td>21</td><td>0.208</td><td>3.29</td><td>2</td><td>0</td><td>1</td><td>0</td><td>60</td><td>3</td><td>6</td><td>0</td><td>1</td><td>1</td><td>0</td><td>41</td><td>0</td><td>0</td><td>1</td><td>0</td><td>0</td><td>0</td><td>0</td><td>0</td><td>0</td><td>&quot;Validation&quot;</td></tr></tbody></table></div>"
      ],
      "text/plain": [
       "shape: (853, 60)\n",
       "┌────────┬────────┬──────┬───────────┬───┬─────────────┬─────────────┬─────┬─────────────────────┐\n",
       "│ yearID ┆ teamID ┆ lgID ┆ playerID  ┆ … ┆ SB_fielding ┆ CS_fielding ┆ ZR  ┆ Training_Validation │\n",
       "│ ---    ┆ ---    ┆ ---  ┆ ---       ┆   ┆ ---         ┆ ---         ┆ --- ┆ ---                 │\n",
       "│ i64    ┆ str    ┆ str  ┆ str       ┆   ┆ i32         ┆ i32         ┆ i32 ┆ str                 │\n",
       "╞════════╪════════╪══════╪═══════════╪═══╪═════════════╪═════════════╪═════╪═════════════════════╡\n",
       "│ 2016   ┆ MIN    ┆ AL   ┆ abadfe01  ┆ … ┆ 0           ┆ 0           ┆ 0   ┆ Validation          │\n",
       "│ 2016   ┆ CHA    ┆ AL   ┆ abreujo02 ┆ … ┆ 0           ┆ 0           ┆ 0   ┆ Validation          │\n",
       "│ 2016   ┆ NYA    ┆ AL   ┆ ackledu01 ┆ … ┆ 0           ┆ 0           ┆ 0   ┆ Validation          │\n",
       "│ 2016   ┆ COL    ┆ NL   ┆ adamecr01 ┆ … ┆ 0           ┆ 0           ┆ 0   ┆ Validation          │\n",
       "│ 2016   ┆ SLN    ┆ NL   ┆ adamsma01 ┆ … ┆ 0           ┆ 0           ┆ 0   ┆ Validation          │\n",
       "│ …      ┆ …      ┆ …    ┆ …         ┆ … ┆ …           ┆ …           ┆ …   ┆ …                   │\n",
       "│ 2016   ┆ ARI    ┆ NL   ┆ zieglbr01 ┆ … ┆ 0           ┆ 0           ┆ 0   ┆ Validation          │\n",
       "│ 2016   ┆ DET    ┆ AL   ┆ zimmejo02 ┆ … ┆ 0           ┆ 0           ┆ 0   ┆ Validation          │\n",
       "│ 2016   ┆ WAS    ┆ NL   ┆ zimmery01 ┆ … ┆ 0           ┆ 0           ┆ 0   ┆ Validation          │\n",
       "│ 2016   ┆ CHN    ┆ NL   ┆ zobribe01 ┆ … ┆ 0           ┆ 0           ┆ 0   ┆ Validation          │\n",
       "│ 2016   ┆ SEA    ┆ AL   ┆ zychto01  ┆ … ┆ 0           ┆ 0           ┆ 0   ┆ Validation          │\n",
       "└────────┴────────┴──────┴───────────┴───┴─────────────┴─────────────┴─────┴─────────────────────┘"
      ]
     },
     "execution_count": 12,
     "metadata": {},
     "output_type": "execute_result"
    }
   ],
   "source": [
    "(Salary_predict\n",
    ".filter(pl.col('yearID') == 2016))"
   ]
  },
  {
   "cell_type": "markdown",
   "id": "d0cc16f7-1db0-4802-994d-d25091d64e78",
   "metadata": {},
   "source": [
    "# Grid search"
   ]
  },
  {
   "cell_type": "code",
   "execution_count": 13,
   "id": "fcfd7a63-8788-492b-89d1-b6a80462c1e3",
   "metadata": {},
   "outputs": [],
   "source": [
    "from sklearn.metrics import confusion_matrix\n",
    "\n",
    "def get_metrics(y_true, y_pred, labels=None):\n",
    "    \"\"\" Compute various measures from a confusion matrix\n",
    "\n",
    "    Args:\n",
    "        y_true: a column of the true labels.\n",
    "        y_pred: a column of the predicted labels.\n",
    "    Returns:\n",
    "        A dictionary of metrics.\n",
    "    \"\"\"\n",
    "    conf_mat = confusion_matrix(y_true, y_pred, labels=labels)\n",
    "    tn, fp, fn, tp = conf_mat.ravel()\n",
    "\n",
    "    return {'accuracy'          :  (tp + tn)/(tp + tn + fp + fn),\n",
    "            'balanced_accuracy' :  0.5*tn / (tn+fp) + 0.5*tp / (tp+fn),\n",
    "            'specificity'       :  tn / (tn+fp),\n",
    "            'sensitivity'       :  tp / (tp+fn),\n",
    "             'ppv'              :  tp / (tp + fp),\n",
    "             'npv'              :  tn / (tn + fn)}\n"
   ]
  },
  {
   "cell_type": "code",
   "execution_count": 14,
   "id": "005f04fe-d0d1-472a-88cb-4d3ace660a5f",
   "metadata": {},
   "outputs": [
    {
     "name": "stdout",
     "output_type": "stream",
     "text": [
      "['yearID', 'teamID', 'lgID', 'playerID', 'salary', 'G', 'G_batting', 'AB', 'R', 'H', '2B', '3B', 'HR', 'RBI', 'SB', 'CS', 'BB', 'SO', 'IBB', 'HBP', 'SH', 'SF', 'GIDP', 'W', 'L', 'G_pitching', 'GS', 'CG', 'SHO', 'SV', 'IPouts', 'H_pitching', 'ER', 'HR_pitching', 'BB_pitching', 'SO_pitching', 'BAOpp', 'ERA', 'IBB_pitching', 'WP', 'HBP_pitching', 'BK', 'BFP', 'GF', 'R_pitching', 'SH_pitching', 'SF_pitching', 'GIDP_pitching', 'GS_fielding', 'InnOuts', 'PO', 'A', 'E', 'DP', 'PB', 'WP_fielding', 'SB_fielding', 'CS_fielding', 'ZR', 'Training_Validation']\n"
     ]
    }
   ],
   "source": [
    "print(Salary_predict.columns)"
   ]
  },
  {
   "cell_type": "code",
   "execution_count": 15,
   "id": "d5e8c901-35db-4478-8775-a8b37ec45d30",
   "metadata": {},
   "outputs": [],
   "source": [
    "X_train = (Gold_Glove\n",
    "           .filter(pl.col('Training_Validation') == 'Training')\n",
    "          .select([ 'G', 'GS', 'InnOuts', 'PO', 'A', 'E', 'DP', 'PB', 'WP', 'SB', 'CS', 'ZR']))\n",
    "X_test =(Gold_Glove\n",
    "           .filter(pl.col('Training_Validation') == 'Validation')\n",
    "          .select([ 'G', 'GS', 'InnOuts', 'PO', 'A', 'E', 'DP', 'PB', 'WP', 'SB', 'CS', 'ZR']))\n",
    "Y_train = (Gold_Glove\n",
    "           .filter(pl.col('Training_Validation') == 'Training')\n",
    "          .select(['Gold_Glove']))\n",
    "Y_test =(Gold_Glove\n",
    "           .filter(pl.col('Training_Validation') == 'Validation')\n",
    "          .select(['Gold_Glove']))"
   ]
  },
  {
   "cell_type": "code",
   "execution_count": 15,
   "id": "80fdeb83-01a2-487f-8b2c-d594a489f245",
   "metadata": {},
   "outputs": [
    {
     "data": {
      "text/plain": [
       "StratifiedKFold(n_splits=10, random_state=12, shuffle=True)"
      ]
     },
     "execution_count": 15,
     "metadata": {},
     "output_type": "execute_result"
    }
   ],
   "source": [
    "from sklearn.model_selection import StratifiedKFold\n",
    "\n",
    "# A random state - I use random.org\n",
    "state = 12\n",
    "\n",
    "cv_obj = StratifiedKFold(n_splits=10, shuffle=True, random_state=state)\n",
    "cv_obj"
   ]
  },
  {
   "cell_type": "code",
   "execution_count": null,
   "id": "3267f7ed-5368-4f12-a969-ef904ecbdbcf",
   "metadata": {},
   "outputs": [],
   "source": [
    "from sklearn.tree import DecisionTreeClassifier\n",
    "from sklearn.metrics import accuracy_score\n",
    "from sklearn.model_selection import GridSearchCV"
   ]
  },
  {
   "cell_type": "code",
   "execution_count": null,
   "id": "3d34e28c-2577-43be-bace-ebdc9018c3f4",
   "metadata": {},
   "outputs": [],
   "source": [
    "\n",
    "\n",
    "param_grid_tree = {\n",
    "    'max_depth': [5, 10, 15, 20, None],\n",
    "    'min_samples_split': [2, 5, 10, 20],\n",
    "    'min_samples_leaf': [1, 2, 5, 10],\n",
    "}\n",
    "\n",
    "grid_search_tree = GridSearchCV(DecisionTreeClassifier(), param_grid, verbose=3, cv=cv_obj)\n",
    "grid_search_tree.fit(X_train, Y_train)\n",
    "\n",
    "best_tree_model = grid_search_tree.best_estimator_\n",
    "y_pred_tree = best_tree_model.predict(X_valid)\n",
    "tree_accuracy = accuracy_score(y_valid, y_pred_tree)\n",
    "\n",
    "print(f'Best Decision Tree Parameters: {grid_search_tree.best_params_}')\n",
    "print(f'Decision Tree Accuracy on Validation: {tree_accuracy}')\n"
   ]
  },
  {
   "cell_type": "code",
   "execution_count": null,
   "id": "4dc577c3-c937-48c9-98dc-186cd8e7d414",
   "metadata": {},
   "outputs": [],
   "source": [
    "from sklearn.ensemble import RandomForestClassifier\n",
    "\n",
    "param_grid_rf = {\n",
    "    'n_estimators': [50, 100, 150, 200],\n",
    "    'max_depth': [5, 10, 15, 20, None],\n",
    "    'min_samples_split': [2, 5, 10, 20],\n",
    "    'min_samples_leaf': [1, 5, 10],\n",
    "}\n",
    "\n",
    "rf_grid_search = GridSearchCV(RandomForestClassifier(), rf_param_grid, verbose=3, cv=cv_obj)\n",
    "rf_grid_search.fit(X_train, Y_train)\n",
    "\n",
    "best_rf_model = grid_search_rf.best_estimator_\n",
    "y_pred_rf = best_rf_model.predict(X_valid)\n",
    "rf_accuracy = accuracy_score(y_valid, y_pred_rf)\n",
    "\n",
    "print(f'Best Random Forest Parameters: {grid_search_rf.best_params_}')\n",
    "print(f'Random Forest Accuracy on Validation: {rf_accuracy}')"
   ]
  },
  {
   "cell_type": "code",
   "execution_count": null,
   "id": "2d49f5ca-e711-4c80-9f58-ec8a4e6b16c7",
   "metadata": {},
   "outputs": [],
   "source": [
    "X_train = (Salary_predict\n",
    "           .filter(pl.col('Training_Validation') == 'Training')\n",
    "          .select(['yearID', 'teamID', 'lgID', 'playerID', 'G', 'G_batting', 'AB', 'R', 'H', '2B', '3B', 'HR', 'RBI', 'SB', 'CS', 'BB', 'SO', 'IBB', 'HBP', 'SH', 'SF', 'GIDP', 'W', 'L', 'G_pitching', 'GS', 'CG', 'SHO', 'SV', 'IPouts', 'H_pitching', 'ER', 'HR_pitching', 'BB_pitching', 'SO_pitching', 'BAOpp', 'ERA', 'IBB_pitching', 'WP', 'HBP_pitching', 'BK', 'BFP', 'GF', 'R_pitching', 'SH_pitching', 'SF_pitching', 'GIDP_pitching', 'GS_fielding', 'InnOuts', 'PO', 'A', 'E', 'DP', 'PB', 'WP_fielding', 'SB_fielding', 'CS_fielding', 'ZR']))\n",
    "X_test =(Salary_predict\n",
    "           .filter(pl.col('Training_Validation') == 'Validation')\n",
    "          .select([ 'yearID', 'teamID', 'lgID', 'playerID',  'G', 'G_batting', 'AB', 'R', 'H', '2B', '3B', 'HR', 'RBI', 'SB', 'CS', 'BB', 'SO', 'IBB', 'HBP', 'SH', 'SF', 'GIDP', 'W', 'L', 'G_pitching', 'GS', 'CG', 'SHO', 'SV', 'IPouts', 'H_pitching', 'ER', 'HR_pitching', 'BB_pitching', 'SO_pitching', 'BAOpp', 'ERA', 'IBB_pitching', 'WP', 'HBP_pitching', 'BK', 'BFP', 'GF', 'R_pitching', 'SH_pitching', 'SF_pitching', 'GIDP_pitching', 'GS_fielding', 'InnOuts', 'PO', 'A', 'E', 'DP', 'PB', 'WP_fielding', 'SB_fielding', 'CS_fielding', 'ZR']))\n",
    "Y_train = (Salary_predict\n",
    "           .filter(pl.col('Training_Validation') == 'Training')\n",
    "          .select(['salary']))\n",
    "Y_test =(Salary_predict\n",
    "           .filter(pl.col('Training_Validation') == 'Validation')\n",
    "          .select(['salary']))"
   ]
  },
  {
   "cell_type": "code",
   "execution_count": null,
   "id": "75a06265-03b4-41e6-b5c8-e2d96a676153",
   "metadata": {},
   "outputs": [],
   "source": [
    "import numpy as np\n",
    "from sklearn.model_selection import GridSearchCV, KFold\n",
    "from sklearn.tree import DecisionTreeRegressor\n",
    "from sklearn.metrics import mean_squared_error, r2_score"
   ]
  },
  {
   "cell_type": "code",
   "execution_count": null,
   "id": "a68a5024-8fcf-4d7e-958b-d24981ddba20",
   "metadata": {},
   "outputs": [],
   "source": [
    "model = DecisionTreeRegressor(random_state=12)\n",
    "param_grid = {\n",
    "    'max_depth': [5, 10, 15, 20, None],\n",
    "    'min_samples_split': [2, 5, 10, 20],\n",
    "    'min_samples_leaf': [1, 5, 10],\n",
    "    'max_features': [None, 'sqrt', 'log2'],\n",
    "}\n",
    "kfold = KFold(n_splits=10, shuffle=True, random_state=12)\n",
    "\n",
    "grid_search = GridSearchCV(estimator=model, param_grid=param_grid, cv=kfold, scoring='neg_mean_squared_error', n_jobs=-1, verbose=1)\n",
    "grid_search.fit(X_train, y_train)"
   ]
  },
  {
   "cell_type": "code",
   "execution_count": null,
   "id": "5dec049e-91fd-4831-a747-35e85145e222",
   "metadata": {},
   "outputs": [],
   "source": [
    "best_model = grid_search.best_estimator_\n",
    "\n",
    "y_pred = best_model.predict(X_test)\n",
    "\n",
    "mse = mean_squared_error(y_test, y_pred)\n",
    "r2 = r2_score(y_test, y_pred)\n",
    "\n",
    "grid_search.best_params_, mse, r2"
   ]
  },
  {
   "cell_type": "code",
   "execution_count": null,
   "id": "4cf1f934-0dc8-4e16-b4ee-ac009e37cbd1",
   "metadata": {},
   "outputs": [],
   "source": [
    "import numpy as np\n",
    "\n",
    "print(np.sqrt(mse))"
   ]
  },
  {
   "cell_type": "code",
   "execution_count": null,
   "id": "851ded8a-a269-458f-b7fa-c1205795c398",
   "metadata": {},
   "outputs": [],
   "source": [
    "best_params = grid_search.best_params_\n",
    "best_score = -grid_search.best_score_\n",
    "test_mse = mean_squared_error(y_test, y_pred)\n",
    "test_r2 = r2_score(y_test, y_pred)\n",
    "\n",
    "print(\"Best Parameters from Grid Search:\", best_params)\n",
    "print(\"Best Cross-Validated MSE:\", best_score)\n",
    "print(\"Test MSE:\", test_mse)\n",
    "print(\"Test R-squared:\", test_r2)"
   ]
  }
 ],
 "metadata": {
  "kernelspec": {
   "display_name": "Python 3 (ipykernel)",
   "language": "python",
   "name": "python3"
  },
  "language_info": {
   "codemirror_mode": {
    "name": "ipython",
    "version": 3
   },
   "file_extension": ".py",
   "mimetype": "text/x-python",
   "name": "python",
   "nbconvert_exporter": "python",
   "pygments_lexer": "ipython3",
   "version": "3.12.7"
  }
 },
 "nbformat": 4,
 "nbformat_minor": 5
}
