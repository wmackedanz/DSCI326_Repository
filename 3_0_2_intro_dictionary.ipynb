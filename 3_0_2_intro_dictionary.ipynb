{
 "cells": [
  {
   "cell_type": "markdown",
   "metadata": {
    "slideshow": {
     "slide_type": "slide"
    }
   },
   "source": [
    "# Introduction to Dictionaries"
   ]
  },
  {
   "cell_type": "markdown",
   "metadata": {
    "slideshow": {
     "slide_type": "slide"
    }
   },
   "source": [
    "## What are dictionaries\n",
    "\n",
    "* Like a `list`\n",
    "    * `list`: index $\\rightarrow$ value\n",
    "    * `dict`: key $\\rightarrow$ value\n",
    "* List index\n",
    "    * must be in between 0 and `len(L)`\n",
    "* Dictionary key\n",
    "    * can be anything\n",
    "        * As long as it is hashable/immutable"
   ]
  },
  {
   "cell_type": "markdown",
   "metadata": {
    "slideshow": {
     "slide_type": "slide"
    }
   },
   "source": [
    "## Inline representation\n",
    "\n",
    "* delimited by braces\n",
    "* key-value of the form KEY:VALUE\n",
    "* key-value pair separated by commas"
   ]
  },
  {
   "cell_type": "code",
   "execution_count": 2,
   "metadata": {
    "collapsed": false,
    "jupyter": {
     "outputs_hidden": false
    },
    "slideshow": {
     "slide_type": "fragment"
    }
   },
   "outputs": [
    {
     "data": {
      "text/plain": [
       "{'Jan': 1, 'Feb': 2, 'Mar': 3}"
      ]
     },
     "execution_count": 2,
     "metadata": {},
     "output_type": "execute_result"
    }
   ],
   "source": [
    "month_number = {'Jan':1, 'Feb': 2, 'Mar':3}\n",
    "month_number"
   ]
  },
  {
   "cell_type": "markdown",
   "metadata": {
    "slideshow": {
     "slide_type": "slide"
    }
   },
   "source": [
    "## Dictionary in memory\n",
    "<img src=\"https://github.com/yardsale8/STAT489/blob/master/img/dictionary_in_memory.png?raw=true\">"
   ]
  },
  {
   "cell_type": "markdown",
   "metadata": {
    "slideshow": {
     "slide_type": "slide"
    }
   },
   "source": [
    "## Accessing values - Index Syntax"
   ]
  },
  {
   "cell_type": "code",
   "execution_count": 4,
   "metadata": {
    "collapsed": false,
    "jupyter": {
     "outputs_hidden": false
    },
    "slideshow": {
     "slide_type": "fragment"
    }
   },
   "outputs": [
    {
     "data": {
      "text/plain": [
       "1"
      ]
     },
     "execution_count": 4,
     "metadata": {},
     "output_type": "execute_result"
    }
   ],
   "source": [
    "month_number['Jan']"
   ]
  },
  {
   "cell_type": "markdown",
   "metadata": {
    "slideshow": {
     "slide_type": "slide"
    }
   },
   "source": [
    "## Accessing values - `get`\n",
    "\n",
    "* Same function for lists and dictionaries\n",
    "* Can get multiple keys\n",
    "* Allows a default value"
   ]
  },
  {
   "cell_type": "code",
   "execution_count": 5,
   "metadata": {
    "collapsed": false,
    "jupyter": {
     "outputs_hidden": false
    },
    "slideshow": {
     "slide_type": "slide"
    }
   },
   "outputs": [
    {
     "data": {
      "text/plain": [
       "1"
      ]
     },
     "execution_count": 5,
     "metadata": {},
     "output_type": "execute_result"
    }
   ],
   "source": [
    "from toolz import get\n",
    "get('Jan', month_number)"
   ]
  },
  {
   "cell_type": "code",
   "execution_count": 6,
   "metadata": {
    "collapsed": false,
    "jupyter": {
     "outputs_hidden": false
    },
    "slideshow": {
     "slide_type": "fragment"
    }
   },
   "outputs": [
    {
     "data": {
      "text/plain": [
       "(1, 2)"
      ]
     },
     "execution_count": 6,
     "metadata": {},
     "output_type": "execute_result"
    }
   ],
   "source": [
    "get(['Jan', 'Feb'], month_number)"
   ]
  },
  {
   "cell_type": "code",
   "execution_count": 7,
   "metadata": {
    "collapsed": false,
    "jupyter": {
     "outputs_hidden": false
    },
    "slideshow": {
     "slide_type": "fragment"
    }
   },
   "outputs": [
    {
     "data": {
      "text/plain": [
       "11"
      ]
     },
     "execution_count": 7,
     "metadata": {},
     "output_type": "execute_result"
    }
   ],
   "source": [
    "# 'Nov' is not in the dict\n",
    "get('Nov', month_number, 11)"
   ]
  },
  {
   "cell_type": "markdown",
   "metadata": {
    "slideshow": {
     "slide_type": "slide"
    }
   },
   "source": [
    "## empty dictionary, `len` and `in`\n",
    "\n",
    "* The empty `dict` is `{}`\n",
    "* `len(d)` returns number of pairs\n",
    "* `in` check for keys"
   ]
  },
  {
   "cell_type": "code",
   "execution_count": 8,
   "metadata": {
    "collapsed": false,
    "jupyter": {
     "outputs_hidden": false
    },
    "scrolled": true,
    "slideshow": {
     "slide_type": "slide"
    }
   },
   "outputs": [
    {
     "data": {
      "text/plain": [
       "0"
      ]
     },
     "execution_count": 8,
     "metadata": {},
     "output_type": "execute_result"
    }
   ],
   "source": [
    "len({})"
   ]
  },
  {
   "cell_type": "code",
   "execution_count": 9,
   "metadata": {
    "collapsed": false,
    "jupyter": {
     "outputs_hidden": false
    },
    "scrolled": true,
    "slideshow": {
     "slide_type": "fragment"
    }
   },
   "outputs": [
    {
     "data": {
      "text/plain": [
       "2"
      ]
     },
     "execution_count": 9,
     "metadata": {},
     "output_type": "execute_result"
    }
   ],
   "source": [
    "d = {1:'a', 2:'b'}\n",
    "len(d)"
   ]
  },
  {
   "cell_type": "code",
   "execution_count": 13,
   "metadata": {
    "collapsed": false,
    "jupyter": {
     "outputs_hidden": false
    },
    "slideshow": {
     "slide_type": "fragment"
    }
   },
   "outputs": [
    {
     "data": {
      "text/plain": [
       "False"
      ]
     },
     "execution_count": 13,
     "metadata": {},
     "output_type": "execute_result"
    }
   ],
   "source": [
    "'b' in d"
   ]
  },
  {
   "cell_type": "code",
   "execution_count": 14,
   "metadata": {
    "collapsed": false,
    "jupyter": {
     "outputs_hidden": false
    },
    "slideshow": {
     "slide_type": "fragment"
    }
   },
   "outputs": [
    {
     "data": {
      "text/plain": [
       "True"
      ]
     },
     "execution_count": 14,
     "metadata": {},
     "output_type": "execute_result"
    }
   ],
   "source": [
    "1 in d"
   ]
  },
  {
   "cell_type": "markdown",
   "metadata": {
    "slideshow": {
     "slide_type": "slide"
    }
   },
   "source": [
    "## Updating a dictionary with `assoc`    \n",
    "\n",
    "* Slower than mutation\n",
    "    * cytoolz version within a factor of 2\n",
    "* Much safer than mutation\n",
    "    * No wories about aliasing\n",
    "    * easier to serialize/parallelize"
   ]
  },
  {
   "cell_type": "code",
   "execution_count": 15,
   "metadata": {
    "collapsed": false,
    "jupyter": {
     "outputs_hidden": false
    },
    "slideshow": {
     "slide_type": "slide"
    }
   },
   "outputs": [
    {
     "data": {
      "text/plain": [
       "{'Jan': 1, 'Feb': 2, 'Mar': 3, 'Apr': 4}"
      ]
     },
     "execution_count": 15,
     "metadata": {},
     "output_type": "execute_result"
    }
   ],
   "source": [
    "from toolz import assoc\n",
    "month_number1 = assoc(month_number, \"Apr\", 4)\n",
    "month_number1"
   ]
  },
  {
   "cell_type": "markdown",
   "metadata": {
    "collapsed": false,
    "jupyter": {
     "outputs_hidden": false
    },
    "slideshow": {
     "slide_type": "fragment"
    }
   },
   "source": [
    "month_number"
   ]
  },
  {
   "cell_type": "code",
   "execution_count": 16,
   "metadata": {
    "collapsed": false,
    "jupyter": {
     "outputs_hidden": false
    },
    "slideshow": {
     "slide_type": "fragment"
    }
   },
   "outputs": [
    {
     "data": {
      "text/plain": [
       "False"
      ]
     },
     "execution_count": 16,
     "metadata": {},
     "output_type": "execute_result"
    }
   ],
   "source": [
    "month_number is month_number1"
   ]
  },
  {
   "cell_type": "markdown",
   "metadata": {
    "slideshow": {
     "slide_type": "slide"
    }
   },
   "source": [
    "## Remove pairs with `dissoc`"
   ]
  },
  {
   "cell_type": "code",
   "execution_count": 17,
   "metadata": {
    "collapsed": false,
    "jupyter": {
     "outputs_hidden": false
    },
    "slideshow": {
     "slide_type": "fragment"
    }
   },
   "outputs": [
    {
     "data": {
      "text/plain": [
       "{'Feb': 2, 'Mar': 3}"
      ]
     },
     "execution_count": 17,
     "metadata": {},
     "output_type": "execute_result"
    }
   ],
   "source": [
    "from toolz import dissoc\n",
    "month_number2 = dissoc(month_number, 'Jan')\n",
    "month_number2"
   ]
  },
  {
   "cell_type": "code",
   "execution_count": 18,
   "metadata": {
    "collapsed": false,
    "jupyter": {
     "outputs_hidden": false
    },
    "slideshow": {
     "slide_type": "fragment"
    }
   },
   "outputs": [
    {
     "data": {
      "text/plain": [
       "{'Jan': 1, 'Feb': 2, 'Mar': 3}"
      ]
     },
     "execution_count": 18,
     "metadata": {},
     "output_type": "execute_result"
    }
   ],
   "source": [
    "month_number"
   ]
  },
  {
   "cell_type": "markdown",
   "metadata": {},
   "source": [
    "## `dict` comprehensions\n",
    "\n",
    "**Syntax.** \n",
    "1. **Without filter.** `{key:val for var in seq}`\n",
    "2. **With filter.** `{key:val for var in seq if bool_expr}`"
   ]
  },
  {
   "cell_type": "markdown",
   "metadata": {},
   "source": [
    "#### Example 1 - Set of vowel for each word."
   ]
  },
  {
   "cell_type": "code",
   "execution_count": 2,
   "metadata": {},
   "outputs": [
    {
     "data": {
      "text/plain": [
       "{'Todd': {'o'}, 'April': {'a', 'i'}, 'Silas': {'a', 'i'}}"
      ]
     },
     "execution_count": 2,
     "metadata": {},
     "output_type": "execute_result"
    }
   ],
   "source": [
    "vowels = \"aeiou\"\n",
    "get_vowels = lambda s: set([ch for ch in s.lower() if ch in vowels])\n",
    "\n",
    "{w:get_vowels(w) for w in [\"Todd\", \"April\", \"Silas\"]}"
   ]
  },
  {
   "cell_type": "markdown",
   "metadata": {},
   "source": [
    "#### Example 2 - Length of title case words."
   ]
  },
  {
   "cell_type": "code",
   "execution_count": 22,
   "metadata": {},
   "outputs": [],
   "source": [
    "seuss1 = \"Today you are you That is truer than true There is no one alive who is you-er than you\"\n",
    "seuss2 = \"You're in pretty good shape for the shape you are in\""
   ]
  },
  {
   "cell_type": "code",
   "execution_count": 23,
   "metadata": {},
   "outputs": [
    {
     "data": {
      "text/plain": [
       "{'today': 5,\n",
       " 'you': 3,\n",
       " 'are': 3,\n",
       " 'that': 4,\n",
       " 'is': 2,\n",
       " 'truer': 5,\n",
       " 'than': 4,\n",
       " 'true': 4,\n",
       " 'there': 5,\n",
       " 'no': 2,\n",
       " 'one': 3,\n",
       " 'alive': 5,\n",
       " 'who': 3,\n",
       " 'you-er': 6}"
      ]
     },
     "execution_count": 23,
     "metadata": {},
     "output_type": "execute_result"
    }
   ],
   "source": [
    "# Note - Both the key and value can be expressions\n",
    "{w.lower():len(w) for w in seuss1.split()}"
   ]
  },
  {
   "cell_type": "markdown",
   "metadata": {},
   "source": [
    "## <font color=\"red\"> Exercise 3.0.2 </font>\n",
    "\n",
    "A common pattern for working with sequences entails \n",
    "1. Writing a function the processes each element of a sequence, then\n",
    "2. Writing a function that applies that function to the sequence using a comprehension.\n",
    "\n",
    "This process is described as **mapping** the element-wise function onto the sequence.  You will used the approach to solve the following problem.\n",
    "\n",
    "**Tasks.** \n",
    "1. Write a lambda function that takes a word (string) and returns the number of vowels.  This can be accomplished using a `list` comprehension and the `len` function.  Be sure to consider case!\n",
    "2. Write a lambda function that takes a sentence and returns a `dict` with the words representing strings and the values representing the number of vowels in said word.  This can be accomplished using a `dict` comprehension."
   ]
  },
  {
   "cell_type": "code",
   "execution_count": 9,
   "metadata": {},
   "outputs": [
    {
     "data": {
      "text/plain": [
       "\"Today you are you That is truer than true There is no one alive who is you-er than you. You're in pretty good shape for the shape you are in\""
      ]
     },
     "execution_count": 9,
     "metadata": {},
     "output_type": "execute_result"
    }
   ],
   "source": [
    "seuss1 = \"Today you are you That is truer than true There is no one alive who is you-er than you\"\n",
    "seuss2 = \"You're in pretty good shape for the shape you are in\"\n",
    "\n",
    "combined_sentance = seuss1+'. ' + seuss2\n",
    "combined_sentance"
   ]
  },
  {
   "cell_type": "code",
   "execution_count": 11,
   "metadata": {},
   "outputs": [
    {
     "data": {
      "text/plain": [
       "{'Today': 2,\n",
       " 'you': 2,\n",
       " 'are': 2,\n",
       " 'That': 1,\n",
       " 'is': 1,\n",
       " 'truer': 2,\n",
       " 'than': 1,\n",
       " 'true': 2,\n",
       " 'There': 2,\n",
       " 'no': 1,\n",
       " 'one': 2,\n",
       " 'alive': 3,\n",
       " 'who': 1,\n",
       " 'you-er': 3,\n",
       " 'you.': 2,\n",
       " \"You're\": 3,\n",
       " 'in': 1,\n",
       " 'pretty': 1,\n",
       " 'good': 2,\n",
       " 'shape': 2,\n",
       " 'for': 1,\n",
       " 'the': 1}"
      ]
     },
     "execution_count": 11,
     "metadata": {},
     "output_type": "execute_result"
    }
   ],
   "source": [
    "# Your code here\n",
    "count_vowels = lambda w: len([char for char in w if char.lower() in vowels])\n",
    "word_vowel_count = lambda sentence: {w: count_vowels(w) for w in sentence.split()}\n",
    "vowelsNumber = word_vowel_count(combined_sentance)\n",
    "vowelsNumber\n"
   ]
  }
 ],
 "metadata": {
  "anaconda-cloud": {},
  "celltoolbar": "Slideshow",
  "kernelspec": {
   "display_name": "Python 3 (ipykernel)",
   "language": "python",
   "name": "python3"
  },
  "language_info": {
   "codemirror_mode": {
    "name": "ipython",
    "version": 3
   },
   "file_extension": ".py",
   "mimetype": "text/x-python",
   "name": "python",
   "nbconvert_exporter": "python",
   "pygments_lexer": "ipython3",
   "version": "3.12.7"
  }
 },
 "nbformat": 4,
 "nbformat_minor": 4
}
