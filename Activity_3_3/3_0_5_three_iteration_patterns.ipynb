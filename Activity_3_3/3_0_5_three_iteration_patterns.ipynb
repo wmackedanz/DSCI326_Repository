{
 "cells": [
  {
   "cell_type": "markdown",
   "metadata": {},
   "source": [
    "### Example - Time between earthquakes\n",
    "\n",
    "Suppose that earthquakes of a certain magnitude in a specific region can be modeled as a Poisson process with a mean of $\\lambda = 4.5$ earthquakes per day.  Let $X$ be the time until the third earth quake.  It can be shown that $X$ has a $Gamma$ distribution with $\\alpha = 3$ (number of events) and $\\beta = \\frac{1}{\\lambda}=\\frac{1}{4.5}$ (average time until the 3rd earthquake).  We can use Python's `random.gammavariate` to simulate the distribution."
   ]
  },
  {
   "cell_type": "code",
   "execution_count": 7,
   "metadata": {},
   "outputs": [],
   "source": [
    "from composable.strict import map, filter\n",
    "from composable import pipeable\n",
    "\n",
    "take = pipeable(lambda k, seq: [val for i, val in enumerate(seq) if i < k])\n",
    "\n",
    "@pipeable\n",
    "def p_reduce(func, xs, init = None):\n",
    "    if init is None:\n",
    "        return reduce(func, xs) # Uses first value as init\n",
    "    else:\n",
    "        return reduce(func, xs, init)"
   ]
  },
  {
   "cell_type": "code",
   "execution_count": 8,
   "metadata": {
    "slideshow": {
     "slide_type": "fragment"
    }
   },
   "outputs": [
    {
     "data": {
      "text/plain": [
       "\u001b[1;31mSignature:\u001b[0m \u001b[0mgammavariate\u001b[0m\u001b[1;33m(\u001b[0m\u001b[0malpha\u001b[0m\u001b[1;33m,\u001b[0m \u001b[0mbeta\u001b[0m\u001b[1;33m)\u001b[0m\u001b[1;33m\u001b[0m\u001b[1;33m\u001b[0m\u001b[0m\n",
       "\u001b[1;31mDocstring:\u001b[0m\n",
       "Gamma distribution.  Not the gamma function!\n",
       "\n",
       "Conditions on the parameters are alpha > 0 and beta > 0.\n",
       "\n",
       "The probability distribution function is:\n",
       "\n",
       "            x ** (alpha - 1) * math.exp(-x / beta)\n",
       "  pdf(x) =  --------------------------------------\n",
       "              math.gamma(alpha) * beta ** alpha\n",
       "\n",
       "The mean (expected value) and variance of the random variable are:\n",
       "\n",
       "    E[X] = alpha * beta\n",
       "    Var[X] = alpha * beta ** 2\n",
       "\u001b[1;31mFile:\u001b[0m      c:\\users\\lb7659fu\\appdata\\local\\anaconda3\\envs\\polars\\lib\\random.py\n",
       "\u001b[1;31mType:\u001b[0m      method"
      ]
     },
     "metadata": {},
     "output_type": "display_data"
    }
   ],
   "source": [
    "from random import gammavariate\n",
    "?gammavariate"
   ]
  },
  {
   "cell_type": "code",
   "execution_count": 9,
   "metadata": {
    "slideshow": {
     "slide_type": "fragment"
    }
   },
   "outputs": [
    {
     "data": {
      "text/plain": [
       "[0.5287238960895799,\n",
       " 0.7749792823152306,\n",
       " 0.8840269470355157,\n",
       " 0.7890996292066312,\n",
       " 0.4152347529098136]"
      ]
     },
     "execution_count": 9,
     "metadata": {},
     "output_type": "execute_result"
    }
   ],
   "source": [
    "from composable.sequence import head\n",
    "N = 1000000\n",
    "time_between_3_quakes = [gammavariate(3,1/4.5) for i in range(N)]\n",
    "time_between_3_quakes >> take(5)"
   ]
  },
  {
   "cell_type": "markdown",
   "metadata": {},
   "source": [
    "## Three `for` loop patterns\n",
    "\n",
    "Most all `for` loops are reinventing one of the following patterns.\n",
    "\n",
    "1. **Map**ping a function/transformation unto each value.\n",
    "2. **Filter**ing the values by some boolean condition.\n",
    "3. **Reduce** values to one or more statistics."
   ]
  },
  {
   "cell_type": "markdown",
   "metadata": {},
   "source": [
    "### Map example - Convert the times from days to hours."
   ]
  },
  {
   "cell_type": "code",
   "execution_count": 10,
   "metadata": {},
   "outputs": [
    {
     "data": {
      "text/plain": [
       "[12.689373506149918,\n",
       " 18.599502775565533,\n",
       " 21.216646728852375,\n",
       " 18.93839110095915,\n",
       " 9.965634069835527]"
      ]
     },
     "execution_count": 10,
     "metadata": {},
     "output_type": "execute_result"
    }
   ],
   "source": [
    "# Loop solution\n",
    "time_in_hours = []\n",
    "for t in time_between_3_quakes:\n",
    "    time_in_hours.append(t*24)\n",
    "time_in_hours >> take(5)"
   ]
  },
  {
   "cell_type": "code",
   "execution_count": 11,
   "metadata": {},
   "outputs": [
    {
     "data": {
      "text/plain": [
       "[12.689373506149918,\n",
       " 18.599502775565533,\n",
       " 21.216646728852375,\n",
       " 18.93839110095915,\n",
       " 9.965634069835527]"
      ]
     },
     "execution_count": 11,
     "metadata": {},
     "output_type": "execute_result"
    }
   ],
   "source": [
    "# Comprehension solution\n",
    "([t*24 for t in time_between_3_quakes]\n",
    " >> take(5)\n",
    ")"
   ]
  },
  {
   "cell_type": "code",
   "execution_count": 12,
   "metadata": {},
   "outputs": [
    {
     "data": {
      "text/plain": [
       "[12.689373506149918,\n",
       " 18.599502775565533,\n",
       " 21.216646728852375,\n",
       " 18.93839110095915,\n",
       " 9.965634069835527]"
      ]
     },
     "execution_count": 12,
     "metadata": {},
     "output_type": "execute_result"
    }
   ],
   "source": [
    "# With pipeable functions\n",
    "from composable.strict import map\n",
    "\n",
    "(time_between_3_quakes\n",
    " >> map(lambda t: t*24)\n",
    " >> take(5)\n",
    ")"
   ]
  },
  {
   "cell_type": "markdown",
   "metadata": {},
   "source": [
    "### Filter Example -  filter out all value less than 1 day."
   ]
  },
  {
   "cell_type": "code",
   "execution_count": 13,
   "metadata": {},
   "outputs": [
    {
     "data": {
      "text/plain": [
       "[0.5287238960895799,\n",
       " 0.7749792823152306,\n",
       " 0.8840269470355157,\n",
       " 0.7890996292066312,\n",
       " 0.4152347529098136]"
      ]
     },
     "execution_count": 13,
     "metadata": {},
     "output_type": "execute_result"
    }
   ],
   "source": [
    "# loop solution\n",
    "less_than_1_day = []\n",
    "for t in time_between_3_quakes:\n",
    "    if t < 1:\n",
    "        less_than_1_day.append(t)\n",
    "less_than_1_day >> take(5)"
   ]
  },
  {
   "cell_type": "code",
   "execution_count": 14,
   "metadata": {},
   "outputs": [
    {
     "data": {
      "text/plain": [
       "[0.5287238960895799,\n",
       " 0.7749792823152306,\n",
       " 0.8840269470355157,\n",
       " 0.7890996292066312,\n",
       " 0.4152347529098136]"
      ]
     },
     "execution_count": 14,
     "metadata": {},
     "output_type": "execute_result"
    }
   ],
   "source": [
    "# comprehension solution\n",
    "([t for t in time_between_3_quakes if t < 1]\n",
    " >> take(5)\n",
    ")"
   ]
  },
  {
   "cell_type": "code",
   "execution_count": 15,
   "metadata": {},
   "outputs": [
    {
     "data": {
      "text/plain": [
       "[0.5287238960895799,\n",
       " 0.7749792823152306,\n",
       " 0.8840269470355157,\n",
       " 0.7890996292066312,\n",
       " 0.4152347529098136]"
      ]
     },
     "execution_count": 15,
     "metadata": {},
     "output_type": "execute_result"
    }
   ],
   "source": [
    "# pipeable functions\n",
    "\n",
    "(time_between_3_quakes\n",
    " >> filter(lambda t: t < 1)\n",
    " >> take(5)\n",
    ")"
   ]
  },
  {
   "cell_type": "markdown",
   "metadata": {
    "slideshow": {
     "slide_type": "slide"
    }
   },
   "source": [
    "### Reduce Example - Accumulating the maximum"
   ]
  },
  {
   "cell_type": "markdown",
   "metadata": {},
   "source": [
    "#### Option 1 - Set a reasonable initial value"
   ]
  },
  {
   "cell_type": "code",
   "execution_count": 16,
   "metadata": {
    "slideshow": {
     "slide_type": "slide"
    }
   },
   "outputs": [
    {
     "data": {
      "text/plain": [
       "4.263561974195057"
      ]
     },
     "execution_count": 16,
     "metadata": {},
     "output_type": "execute_result"
    }
   ],
   "source": [
    "## Loop solution - Use a initial value of zero\n",
    "max_time = 0 # safe since Gamma is non-negative\n",
    "for t in time_between_3_quakes:\n",
    "    max_time = max(max_time, t) # update step\n",
    "max_time"
   ]
  },
  {
   "cell_type": "code",
   "execution_count": 17,
   "metadata": {},
   "outputs": [
    {
     "data": {
      "text/plain": [
       "4.263561974195057"
      ]
     },
     "execution_count": 17,
     "metadata": {},
     "output_type": "execute_result"
    }
   ],
   "source": [
    "# Functional solution - Initial value of zero\n",
    "from functools import reduce\n",
    "\n",
    "reduce(lambda max_time, t: max(max_time, t), time_between_3_quakes, 0)"
   ]
  },
  {
   "cell_type": "code",
   "execution_count": 18,
   "metadata": {},
   "outputs": [
    {
     "data": {
      "text/plain": [
       "4.263561974195057"
      ]
     },
     "execution_count": 18,
     "metadata": {},
     "output_type": "execute_result"
    }
   ],
   "source": [
    "# with init = 0\n",
    "update_max = lambda m, t: max(m, t)\n",
    "\n",
    "(time_between_3_quakes\n",
    " >> p_reduce(update_max, init = 0)\n",
    ")"
   ]
  },
  {
   "cell_type": "markdown",
   "metadata": {},
   "source": [
    "#### Option 2 - Use the first element as the initial value\n",
    "\n",
    "This works because the `max(xs) >= xs[0]`"
   ]
  },
  {
   "cell_type": "code",
   "execution_count": 54,
   "metadata": {
    "slideshow": {
     "slide_type": "slide"
    }
   },
   "outputs": [
    {
     "data": {
      "text/plain": [
       "4.213238623675061"
      ]
     },
     "execution_count": 54,
     "metadata": {},
     "output_type": "execute_result"
    }
   ],
   "source": [
    "## Loop solution - Use a initial value of zero\n",
    "max_time = time_between_3_quakes[0] # safe since Gamma is non-negative\n",
    "for t in time_between_3_quakes[1:]:\n",
    "    max_time = max(max_time, t) # update step\n",
    "max_time"
   ]
  },
  {
   "cell_type": "markdown",
   "metadata": {},
   "source": [
    "#### By default, reduce uses the first element as init"
   ]
  },
  {
   "cell_type": "code",
   "execution_count": 19,
   "metadata": {},
   "outputs": [
    {
     "data": {
      "text/plain": [
       "4.263561974195057"
      ]
     },
     "execution_count": 19,
     "metadata": {},
     "output_type": "execute_result"
    }
   ],
   "source": [
    "# Functional solution - Initial value of zero\n",
    "from functools import reduce\n",
    "\n",
    "reduce(lambda max_time, t: max(max_time, t), time_between_3_quakes) # <--- no third init argument"
   ]
  },
  {
   "cell_type": "code",
   "execution_count": 20,
   "metadata": {},
   "outputs": [
    {
     "data": {
      "text/plain": [
       "4.263561974195057"
      ]
     },
     "execution_count": 20,
     "metadata": {},
     "output_type": "execute_result"
    }
   ],
   "source": [
    "# with init = first value\n",
    "(time_between_3_quakes\n",
    " >> p_reduce(update_max)\n",
    ")"
   ]
  },
  {
   "cell_type": "markdown",
   "metadata": {},
   "source": [
    "### <font color=\"red\"> Exercise 3.0.5 </font>\n",
    "\n",
    "Use the reduce pattern to compute the total time by\n",
    "\n",
    "1. Use a `for` loop with an accumulator first, then\n",
    "2. Refactor the code to use `reduce`, and finally\n",
    "3. Discuss your (A) initial value and (B) update function and how they relate to the loop."
   ]
  },
  {
   "cell_type": "code",
   "execution_count": 26,
   "metadata": {},
   "outputs": [
    {
     "data": {
      "text/plain": [
       "666811.7975961525"
      ]
     },
     "execution_count": 26,
     "metadata": {},
     "output_type": "execute_result"
    }
   ],
   "source": [
    "# Your code here\n",
    "## Loop solution - Use a initial value of zero\n",
    "total_time = time_between_3_quakes[0]\n",
    "for t in time_between_3_quakes[1:]:\n",
    "    total_time = total_time + t\n",
    "\n",
    "total_time\n",
    "    "
   ]
  },
  {
   "cell_type": "code",
   "execution_count": 27,
   "metadata": {},
   "outputs": [
    {
     "data": {
      "text/plain": [
       "666811.7975961525"
      ]
     },
     "execution_count": 27,
     "metadata": {},
     "output_type": "execute_result"
    }
   ],
   "source": [
    "from functools import reduce\n",
    "\n",
    "reduce(lambda total_time, t: total_time+t, time_between_3_quakes)"
   ]
  },
  {
   "cell_type": "markdown",
   "metadata": {},
   "source": [
    "<font color=\"orange\">\n",
    "    Your discussion here. Using 0 or the first initial value has no effect on the sum.\n",
    "</font>"
   ]
  }
 ],
 "metadata": {
  "celltoolbar": "Slideshow",
  "kernelspec": {
   "display_name": "Python 3 (ipykernel)",
   "language": "python",
   "name": "python3"
  },
  "language_info": {
   "codemirror_mode": {
    "name": "ipython",
    "version": 3
   },
   "file_extension": ".py",
   "mimetype": "text/x-python",
   "name": "python",
   "nbconvert_exporter": "python",
   "pygments_lexer": "ipython3",
   "version": "3.12.7"
  },
  "varInspector": {
   "cols": {
    "lenName": 16,
    "lenType": 16,
    "lenVar": 40
   },
   "kernels_config": {
    "python": {
     "delete_cmd_postfix": "",
     "delete_cmd_prefix": "del ",
     "library": "var_list.py",
     "varRefreshCmd": "print(var_dic_list())"
    },
    "r": {
     "delete_cmd_postfix": ") ",
     "delete_cmd_prefix": "rm(",
     "library": "var_list.r",
     "varRefreshCmd": "cat(var_dic_list()) "
    }
   },
   "types_to_exclude": [
    "module",
    "function",
    "builtin_function_or_method",
    "instance",
    "_Feature"
   ],
   "window_display": false
  }
 },
 "nbformat": 4,
 "nbformat_minor": 4
}
