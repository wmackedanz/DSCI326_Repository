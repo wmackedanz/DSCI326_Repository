{
 "cells": [
  {
   "cell_type": "markdown",
   "metadata": {},
   "source": [
    "# Standardizing variables with window function in `polars`"
   ]
  },
  {
   "cell_type": "markdown",
   "metadata": {
    "id": "ZEOztvyEgTQx"
   },
   "source": [
    "## Window functions in `Python`/`polars`\n",
    "\n",
    "To make a computation with a *window function* with `dplyr`, \n",
    "\n",
    "1. Use `select` or `with_columns` to create a new column,\n",
    "2. Dot-chain `pl.col('col name)` into a summary functions like `mean`, then finally\n",
    "2. use `over` with a column summary function to compute the window summary for each row."
   ]
  },
  {
   "cell_type": "code",
   "execution_count": 1,
   "metadata": {
    "id": "re32c3vfgNbp"
   },
   "outputs": [],
   "source": [
    "import polars as pl"
   ]
  },
  {
   "cell_type": "code",
   "execution_count": 2,
   "metadata": {
    "colab": {
     "base_uri": "https://localhost:8080/",
     "height": 338
    },
    "id": "SmFmznNEgbBS",
    "outputId": "8f6f209d-cc59-4507-b840-c7de4dc61e68"
   },
   "outputs": [
    {
     "data": {
      "text/html": [
       "<div><style>\n",
       ".dataframe > thead > tr,\n",
       ".dataframe > tbody > tr {\n",
       "  text-align: right;\n",
       "  white-space: pre-wrap;\n",
       "}\n",
       "</style>\n",
       "<small>shape: (8, 2)</small><table border=\"1\" class=\"dataframe\"><thead><tr><th>Group</th><th>Data</th></tr><tr><td>str</td><td>i64</td></tr></thead><tbody><tr><td>&quot;a&quot;</td><td>5</td></tr><tr><td>&quot;a&quot;</td><td>3</td></tr><tr><td>&quot;b&quot;</td><td>4</td></tr><tr><td>&quot;b&quot;</td><td>1</td></tr><tr><td>&quot;b&quot;</td><td>2</td></tr><tr><td>&quot;c&quot;</td><td>3</td></tr><tr><td>&quot;c&quot;</td><td>5</td></tr><tr><td>&quot;c&quot;</td><td>3</td></tr></tbody></table></div>"
      ],
      "text/plain": [
       "shape: (8, 2)\n",
       "┌───────┬──────┐\n",
       "│ Group ┆ Data │\n",
       "│ ---   ┆ ---  │\n",
       "│ str   ┆ i64  │\n",
       "╞═══════╪══════╡\n",
       "│ a     ┆ 5    │\n",
       "│ a     ┆ 3    │\n",
       "│ b     ┆ 4    │\n",
       "│ b     ┆ 1    │\n",
       "│ b     ┆ 2    │\n",
       "│ c     ┆ 3    │\n",
       "│ c     ┆ 5    │\n",
       "│ c     ┆ 3    │\n",
       "└───────┴──────┘"
      ]
     },
     "execution_count": 2,
     "metadata": {},
     "output_type": "execute_result"
    }
   ],
   "source": [
    "data = pl.DataFrame({'Group':['a', 'a', 'b', 'b', 'b', 'c', 'c', 'c',],\n",
    "                     'Data' :[5, 3, 4, 1, 2, 3, 5, 3]})\n",
    "data"
   ]
  },
  {
   "cell_type": "markdown",
   "metadata": {},
   "source": [
    "## Window functions over the default partition\n",
    "\n",
    "To compute statistics over the default partition, e.g., the grand mean or grand total, simply apply the desired summary method to a the column expression."
   ]
  },
  {
   "cell_type": "markdown",
   "metadata": {},
   "source": [
    "### Example 1 - Computing the grand mean, total, & SD"
   ]
  },
  {
   "cell_type": "markdown",
   "metadata": {},
   "source": [
    "#### Simple aggregation"
   ]
  },
  {
   "cell_type": "code",
   "execution_count": 3,
   "metadata": {},
   "outputs": [
    {
     "data": {
      "text/html": [
       "<div><style>\n",
       ".dataframe > thead > tr,\n",
       ".dataframe > tbody > tr {\n",
       "  text-align: right;\n",
       "  white-space: pre-wrap;\n",
       "}\n",
       "</style>\n",
       "<small>shape: (1, 3)</small><table border=\"1\" class=\"dataframe\"><thead><tr><th>grand_mean</th><th>grand_total</th><th>grand_SD</th></tr><tr><td>f64</td><td>i64</td><td>f64</td></tr></thead><tbody><tr><td>3.25</td><td>26</td><td>1.38873</td></tr></tbody></table></div>"
      ],
      "text/plain": [
       "shape: (1, 3)\n",
       "┌────────────┬─────────────┬──────────┐\n",
       "│ grand_mean ┆ grand_total ┆ grand_SD │\n",
       "│ ---        ┆ ---         ┆ ---      │\n",
       "│ f64        ┆ i64         ┆ f64      │\n",
       "╞════════════╪═════════════╪══════════╡\n",
       "│ 3.25       ┆ 26          ┆ 1.38873  │\n",
       "└────────────┴─────────────┴──────────┘"
      ]
     },
     "execution_count": 3,
     "metadata": {},
     "output_type": "execute_result"
    }
   ],
   "source": [
    "( data\n",
    "  .select(grand_mean = pl.col('Data').mean(),\n",
    "          grand_total = pl.col('Data').sum(),\n",
    "          grand_SD = pl.col('Data').std(),\n",
    "               )\n",
    ")"
   ]
  },
  {
   "cell_type": "markdown",
   "metadata": {},
   "source": [
    "#### Column statistics"
   ]
  },
  {
   "cell_type": "code",
   "execution_count": 4,
   "metadata": {},
   "outputs": [
    {
     "data": {
      "text/html": [
       "<div><style>\n",
       ".dataframe > thead > tr,\n",
       ".dataframe > tbody > tr {\n",
       "  text-align: right;\n",
       "  white-space: pre-wrap;\n",
       "}\n",
       "</style>\n",
       "<small>shape: (8, 5)</small><table border=\"1\" class=\"dataframe\"><thead><tr><th>Group</th><th>Data</th><th>grand_mean</th><th>grand_total</th><th>grand_SD</th></tr><tr><td>str</td><td>i64</td><td>f64</td><td>i64</td><td>f64</td></tr></thead><tbody><tr><td>&quot;a&quot;</td><td>5</td><td>3.25</td><td>26</td><td>1.38873</td></tr><tr><td>&quot;a&quot;</td><td>3</td><td>3.25</td><td>26</td><td>1.38873</td></tr><tr><td>&quot;b&quot;</td><td>4</td><td>3.25</td><td>26</td><td>1.38873</td></tr><tr><td>&quot;b&quot;</td><td>1</td><td>3.25</td><td>26</td><td>1.38873</td></tr><tr><td>&quot;b&quot;</td><td>2</td><td>3.25</td><td>26</td><td>1.38873</td></tr><tr><td>&quot;c&quot;</td><td>3</td><td>3.25</td><td>26</td><td>1.38873</td></tr><tr><td>&quot;c&quot;</td><td>5</td><td>3.25</td><td>26</td><td>1.38873</td></tr><tr><td>&quot;c&quot;</td><td>3</td><td>3.25</td><td>26</td><td>1.38873</td></tr></tbody></table></div>"
      ],
      "text/plain": [
       "shape: (8, 5)\n",
       "┌───────┬──────┬────────────┬─────────────┬──────────┐\n",
       "│ Group ┆ Data ┆ grand_mean ┆ grand_total ┆ grand_SD │\n",
       "│ ---   ┆ ---  ┆ ---        ┆ ---         ┆ ---      │\n",
       "│ str   ┆ i64  ┆ f64        ┆ i64         ┆ f64      │\n",
       "╞═══════╪══════╪════════════╪═════════════╪══════════╡\n",
       "│ a     ┆ 5    ┆ 3.25       ┆ 26          ┆ 1.38873  │\n",
       "│ a     ┆ 3    ┆ 3.25       ┆ 26          ┆ 1.38873  │\n",
       "│ b     ┆ 4    ┆ 3.25       ┆ 26          ┆ 1.38873  │\n",
       "│ b     ┆ 1    ┆ 3.25       ┆ 26          ┆ 1.38873  │\n",
       "│ b     ┆ 2    ┆ 3.25       ┆ 26          ┆ 1.38873  │\n",
       "│ c     ┆ 3    ┆ 3.25       ┆ 26          ┆ 1.38873  │\n",
       "│ c     ┆ 5    ┆ 3.25       ┆ 26          ┆ 1.38873  │\n",
       "│ c     ┆ 3    ┆ 3.25       ┆ 26          ┆ 1.38873  │\n",
       "└───────┴──────┴────────────┴─────────────┴──────────┘"
      ]
     },
     "execution_count": 4,
     "metadata": {},
     "output_type": "execute_result"
    }
   ],
   "source": [
    "( data\n",
    "  .with_columns(grand_mean = pl.col('Data').mean(),\n",
    "                grand_total = pl.col('Data').sum(),\n",
    "                grand_SD = pl.col('Data').std(),\n",
    "               )\n",
    ")"
   ]
  },
  {
   "cell_type": "markdown",
   "metadata": {},
   "source": [
    "### Standardizing variables using window function.\n",
    "\n",
    "Simply make an expression that includes the window function column expression."
   ]
  },
  {
   "cell_type": "markdown",
   "metadata": {},
   "source": [
    "#### Example 2 - Various standardized fields"
   ]
  },
  {
   "cell_type": "code",
   "execution_count": 14,
   "metadata": {},
   "outputs": [
    {
     "data": {
      "text/html": [
       "<div><style>\n",
       ".dataframe > thead > tr,\n",
       ".dataframe > tbody > tr {\n",
       "  text-align: right;\n",
       "  white-space: pre-wrap;\n",
       "}\n",
       "</style>\n",
       "<small>shape: (8, 6)</small><table border=\"1\" class=\"dataframe\"><thead><tr><th>Group</th><th>Data</th><th>mean_centered</th><th>z_score</th><th>percent_of_total</th><th>range_scale</th></tr><tr><td>str</td><td>i64</td><td>f64</td><td>f64</td><td>f64</td><td>f64</td></tr></thead><tbody><tr><td>&quot;a&quot;</td><td>5</td><td>1.75</td><td>1.260144</td><td>19.230769</td><td>1.0</td></tr><tr><td>&quot;a&quot;</td><td>3</td><td>-0.25</td><td>-0.180021</td><td>11.538462</td><td>0.5</td></tr><tr><td>&quot;b&quot;</td><td>4</td><td>0.75</td><td>0.540062</td><td>15.384615</td><td>0.75</td></tr><tr><td>&quot;b&quot;</td><td>1</td><td>-2.25</td><td>-1.620185</td><td>3.846154</td><td>0.0</td></tr><tr><td>&quot;b&quot;</td><td>2</td><td>-1.25</td><td>-0.900103</td><td>7.692308</td><td>0.25</td></tr><tr><td>&quot;c&quot;</td><td>3</td><td>-0.25</td><td>-0.180021</td><td>11.538462</td><td>0.5</td></tr><tr><td>&quot;c&quot;</td><td>5</td><td>1.75</td><td>1.260144</td><td>19.230769</td><td>1.0</td></tr><tr><td>&quot;c&quot;</td><td>3</td><td>-0.25</td><td>-0.180021</td><td>11.538462</td><td>0.5</td></tr></tbody></table></div>"
      ],
      "text/plain": [
       "shape: (8, 6)\n",
       "┌───────┬──────┬───────────────┬───────────┬──────────────────┬─────────────┐\n",
       "│ Group ┆ Data ┆ mean_centered ┆ z_score   ┆ percent_of_total ┆ range_scale │\n",
       "│ ---   ┆ ---  ┆ ---           ┆ ---       ┆ ---              ┆ ---         │\n",
       "│ str   ┆ i64  ┆ f64           ┆ f64       ┆ f64              ┆ f64         │\n",
       "╞═══════╪══════╪═══════════════╪═══════════╪══════════════════╪═════════════╡\n",
       "│ a     ┆ 5    ┆ 1.75          ┆ 1.260144  ┆ 19.230769        ┆ 1.0         │\n",
       "│ a     ┆ 3    ┆ -0.25         ┆ -0.180021 ┆ 11.538462        ┆ 0.5         │\n",
       "│ b     ┆ 4    ┆ 0.75          ┆ 0.540062  ┆ 15.384615        ┆ 0.75        │\n",
       "│ b     ┆ 1    ┆ -2.25         ┆ -1.620185 ┆ 3.846154         ┆ 0.0         │\n",
       "│ b     ┆ 2    ┆ -1.25         ┆ -0.900103 ┆ 7.692308         ┆ 0.25        │\n",
       "│ c     ┆ 3    ┆ -0.25         ┆ -0.180021 ┆ 11.538462        ┆ 0.5         │\n",
       "│ c     ┆ 5    ┆ 1.75          ┆ 1.260144  ┆ 19.230769        ┆ 1.0         │\n",
       "│ c     ┆ 3    ┆ -0.25         ┆ -0.180021 ┆ 11.538462        ┆ 0.5         │\n",
       "└───────┴──────┴───────────────┴───────────┴──────────────────┴─────────────┘"
      ]
     },
     "execution_count": 14,
     "metadata": {},
     "output_type": "execute_result"
    }
   ],
   "source": [
    "std_data = (data\n",
    "            .with_columns(mean_centered = pl.col('Data') - pl.col('Data').mean(),\n",
    "                          z_score = (pl.col('Data') - pl.col('Data').mean())/pl.col('Data').std(),\n",
    "                          percent_of_total = 100*pl.col('Data')/pl.col('Data').sum(),\n",
    "                          \n",
    "                         min_val = pl.col('Data').min(),\n",
    "                            max_val = pl.col('Data').max(),\n",
    "                          range_scale = (pl.col('Data')-pl.col('Data').min())/( pl.col('Data').max()-pl.col('Data').min())\n",
    "                         )\n",
    "           )\n",
    "std_data"
   ]
  },
  {
   "cell_type": "markdown",
   "metadata": {},
   "source": [
    "#### Double-checking the standardization"
   ]
  },
  {
   "cell_type": "code",
   "execution_count": 25,
   "metadata": {},
   "outputs": [
    {
     "data": {
      "text/html": [
       "<div><style>\n",
       ".dataframe > thead > tr,\n",
       ".dataframe > tbody > tr {\n",
       "  text-align: right;\n",
       "  white-space: pre-wrap;\n",
       "}\n",
       "</style>\n",
       "<small>shape: (1, 5)</small><table border=\"1\" class=\"dataframe\"><thead><tr><th>mean of mean_centered</th><th>mean of z_score</th><th>SD of z_score</th><th>total of percent_of_total</th><th>min of range_scale</th></tr><tr><td>f64</td><td>f64</td><td>f64</td><td>f64</td><td>f64</td></tr></thead><tbody><tr><td>0.0</td><td>-4.8572e-17</td><td>1.0</td><td>100.0</td><td>0.0</td></tr></tbody></table></div>"
      ],
      "text/plain": [
       "shape: (1, 5)\n",
       "┌───────────────┬─────────────────┬───────────────┬───────────────────────────┬────────────────────┐\n",
       "│ mean of       ┆ mean of z_score ┆ SD of z_score ┆ total of percent_of_total ┆ min of range_scale │\n",
       "│ mean_centered ┆ ---             ┆ ---           ┆ ---                       ┆ ---                │\n",
       "│ ---           ┆ f64             ┆ f64           ┆ f64                       ┆ f64                │\n",
       "│ f64           ┆                 ┆               ┆                           ┆                    │\n",
       "╞═══════════════╪═════════════════╪═══════════════╪═══════════════════════════╪════════════════════╡\n",
       "│ 0.0           ┆ -4.8572e-17     ┆ 1.0           ┆ 100.0                     ┆ 0.0                │\n",
       "└───────────────┴─────────────────┴───────────────┴───────────────────────────┴────────────────────┘"
      ]
     },
     "execution_count": 25,
     "metadata": {},
     "output_type": "execute_result"
    }
   ],
   "source": [
    "(std_data\n",
    " .select(([pl.mean(c).alias(f'mean of {c}') for c in ('mean_centered', 'z_score')]\n",
    "          + [pl.std(c).alias(f'SD of {c}') for c in ('z_score',)] \n",
    "          + [pl.sum(c).alias(f'total of {c}') for c in ('percent_of_total',)]\n",
    "          + [pl.min(c).alias(f'min of {c}') for c in ('range_scale',)]\n",
    "         )\n",
    " )\n",
    ")"
   ]
  },
  {
   "cell_type": "markdown",
   "metadata": {},
   "source": [
    "## <font color=\"red\"> Exercise 5.7.1 - Range-scaling the variable.</font>\n",
    "\n",
    "Use window functions to range-scale the `Data` column using the default partition.\n",
    "\n",
    "$$y_{range\\;scaled} = \\frac{y - \\min{y}}{\\max{y} - \\min{y}}$$\n",
    "\n",
    "Double check that the new minimum and maximum are zero and one, respectively."
   ]
  },
  {
   "cell_type": "code",
   "execution_count": 27,
   "metadata": {},
   "outputs": [
    {
     "data": {
      "text/html": [
       "<div><style>\n",
       ".dataframe > thead > tr,\n",
       ".dataframe > tbody > tr {\n",
       "  text-align: right;\n",
       "  white-space: pre-wrap;\n",
       "}\n",
       "</style>\n",
       "<small>shape: (1, 2)</small><table border=\"1\" class=\"dataframe\"><thead><tr><th>min of range_scale</th><th>max of range_scale</th></tr><tr><td>f64</td><td>f64</td></tr></thead><tbody><tr><td>0.0</td><td>1.0</td></tr></tbody></table></div>"
      ],
      "text/plain": [
       "shape: (1, 2)\n",
       "┌────────────────────┬────────────────────┐\n",
       "│ min of range_scale ┆ max of range_scale │\n",
       "│ ---                ┆ ---                │\n",
       "│ f64                ┆ f64                │\n",
       "╞════════════════════╪════════════════════╡\n",
       "│ 0.0                ┆ 1.0                │\n",
       "└────────────────────┴────────────────────┘"
      ]
     },
     "execution_count": 27,
     "metadata": {},
     "output_type": "execute_result"
    }
   ],
   "source": [
    "(std_data\n",
    " .select((\n",
    "           [pl.min(c).alias(f'min of {c}') for c in ('range_scale',)]\n",
    "         + [pl.max(c).alias(f'max of {c}') for c in ('range_scale',)]\n",
    "         )\n",
    " )\n",
    ")"
   ]
  },
  {
   "cell_type": "markdown",
   "metadata": {},
   "source": [
    "## Computing summaries `over` a partition\n",
    "\n",
    "To add a partition other than the default, we use the `.over` method on the column expression."
   ]
  },
  {
   "cell_type": "markdown",
   "metadata": {},
   "source": [
    "### Example 3 - Computing the group mean over `Group`"
   ]
  },
  {
   "cell_type": "markdown",
   "metadata": {},
   "source": [
    "#### Grouped aggregation"
   ]
  },
  {
   "cell_type": "code",
   "execution_count": 50,
   "metadata": {},
   "outputs": [
    {
     "data": {
      "text/html": [
       "<div><style>\n",
       ".dataframe > thead > tr,\n",
       ".dataframe > tbody > tr {\n",
       "  text-align: right;\n",
       "  white-space: pre-wrap;\n",
       "}\n",
       "</style>\n",
       "<small>shape: (3, 2)</small><table border=\"1\" class=\"dataframe\"><thead><tr><th>Group</th><th>group_mean</th></tr><tr><td>str</td><td>f64</td></tr></thead><tbody><tr><td>&quot;c&quot;</td><td>3.666667</td></tr><tr><td>&quot;b&quot;</td><td>2.333333</td></tr><tr><td>&quot;a&quot;</td><td>4.0</td></tr></tbody></table></div>"
      ],
      "text/plain": [
       "shape: (3, 2)\n",
       "┌───────┬────────────┐\n",
       "│ Group ┆ group_mean │\n",
       "│ ---   ┆ ---        │\n",
       "│ str   ┆ f64        │\n",
       "╞═══════╪════════════╡\n",
       "│ c     ┆ 3.666667   │\n",
       "│ b     ┆ 2.333333   │\n",
       "│ a     ┆ 4.0        │\n",
       "└───────┴────────────┘"
      ]
     },
     "execution_count": 50,
     "metadata": {},
     "output_type": "execute_result"
    }
   ],
   "source": [
    "(data\n",
    " .group_by('Group')\n",
    " .agg(group_mean = pl.col('Data').mean())\n",
    ")"
   ]
  },
  {
   "cell_type": "code",
   "execution_count": 52,
   "metadata": {},
   "outputs": [
    {
     "data": {
      "text/html": [
       "<div><style>\n",
       ".dataframe > thead > tr,\n",
       ".dataframe > tbody > tr {\n",
       "  text-align: right;\n",
       "  white-space: pre-wrap;\n",
       "}\n",
       "</style>\n",
       "<small>shape: (8, 4)</small><table border=\"1\" class=\"dataframe\"><thead><tr><th>Group</th><th>Data</th><th>group_mean</th><th>BAD</th></tr><tr><td>str</td><td>i64</td><td>f64</td><td>f64</td></tr></thead><tbody><tr><td>&quot;a&quot;</td><td>5</td><td>4.0</td><td>3.25</td></tr><tr><td>&quot;a&quot;</td><td>3</td><td>4.0</td><td>3.25</td></tr><tr><td>&quot;b&quot;</td><td>4</td><td>2.333333</td><td>3.25</td></tr><tr><td>&quot;b&quot;</td><td>1</td><td>2.333333</td><td>3.25</td></tr><tr><td>&quot;b&quot;</td><td>2</td><td>2.333333</td><td>3.25</td></tr><tr><td>&quot;c&quot;</td><td>3</td><td>3.666667</td><td>3.25</td></tr><tr><td>&quot;c&quot;</td><td>5</td><td>3.666667</td><td>3.25</td></tr><tr><td>&quot;c&quot;</td><td>3</td><td>3.666667</td><td>3.25</td></tr></tbody></table></div>"
      ],
      "text/plain": [
       "shape: (8, 4)\n",
       "┌───────┬──────┬────────────┬──────┐\n",
       "│ Group ┆ Data ┆ group_mean ┆ BAD  │\n",
       "│ ---   ┆ ---  ┆ ---        ┆ ---  │\n",
       "│ str   ┆ i64  ┆ f64        ┆ f64  │\n",
       "╞═══════╪══════╪════════════╪══════╡\n",
       "│ a     ┆ 5    ┆ 4.0        ┆ 3.25 │\n",
       "│ a     ┆ 3    ┆ 4.0        ┆ 3.25 │\n",
       "│ b     ┆ 4    ┆ 2.333333   ┆ 3.25 │\n",
       "│ b     ┆ 1    ┆ 2.333333   ┆ 3.25 │\n",
       "│ b     ┆ 2    ┆ 2.333333   ┆ 3.25 │\n",
       "│ c     ┆ 3    ┆ 3.666667   ┆ 3.25 │\n",
       "│ c     ┆ 5    ┆ 3.666667   ┆ 3.25 │\n",
       "│ c     ┆ 3    ┆ 3.666667   ┆ 3.25 │\n",
       "└───────┴──────┴────────────┴──────┘"
      ]
     },
     "execution_count": 52,
     "metadata": {},
     "output_type": "execute_result"
    }
   ],
   "source": [
    "(data\n",
    " .with_columns(group_mean = (pl.col('Data')\n",
    "                               .mean()          # Summary first\n",
    "                               .over('Group')), # over MUST follow the summary method\n",
    "               BAD = (pl.col('Data')\n",
    "                        .over('Group')\n",
    "                        .mean()), # over gets ignored here :(\n",
    "              )\n",
    ")"
   ]
  },
  {
   "cell_type": "markdown",
   "metadata": {},
   "source": [
    "#### Example 4 - Standardizing by group"
   ]
  },
  {
   "cell_type": "code",
   "execution_count": 28,
   "metadata": {},
   "outputs": [
    {
     "data": {
      "text/html": [
       "<div><style>\n",
       ".dataframe > thead > tr,\n",
       ".dataframe > tbody > tr {\n",
       "  text-align: right;\n",
       "  white-space: pre-wrap;\n",
       "}\n",
       "</style>\n",
       "<small>shape: (8, 6)</small><table border=\"1\" class=\"dataframe\"><thead><tr><th>Group</th><th>Data</th><th>mean_centered</th><th>z_score</th><th>percent_of_total</th><th>range_scale</th></tr><tr><td>str</td><td>i64</td><td>f64</td><td>f64</td><td>f64</td><td>f64</td></tr></thead><tbody><tr><td>&quot;a&quot;</td><td>5</td><td>1.0</td><td>0.707107</td><td>62.5</td><td>2.0</td></tr><tr><td>&quot;a&quot;</td><td>3</td><td>-1.0</td><td>-0.707107</td><td>37.5</td><td>1.0</td></tr><tr><td>&quot;b&quot;</td><td>4</td><td>1.666667</td><td>1.091089</td><td>57.142857</td><td>1.0</td></tr><tr><td>&quot;b&quot;</td><td>1</td><td>-1.333333</td><td>-0.872872</td><td>14.285714</td><td>0.0</td></tr><tr><td>&quot;b&quot;</td><td>2</td><td>-0.333333</td><td>-0.218218</td><td>28.571429</td><td>0.333333</td></tr><tr><td>&quot;c&quot;</td><td>3</td><td>-0.666667</td><td>-0.57735</td><td>27.272727</td><td>1.0</td></tr><tr><td>&quot;c&quot;</td><td>5</td><td>1.333333</td><td>1.154701</td><td>45.454545</td><td>2.0</td></tr><tr><td>&quot;c&quot;</td><td>3</td><td>-0.666667</td><td>-0.57735</td><td>27.272727</td><td>1.0</td></tr></tbody></table></div>"
      ],
      "text/plain": [
       "shape: (8, 6)\n",
       "┌───────┬──────┬───────────────┬───────────┬──────────────────┬─────────────┐\n",
       "│ Group ┆ Data ┆ mean_centered ┆ z_score   ┆ percent_of_total ┆ range_scale │\n",
       "│ ---   ┆ ---  ┆ ---           ┆ ---       ┆ ---              ┆ ---         │\n",
       "│ str   ┆ i64  ┆ f64           ┆ f64       ┆ f64              ┆ f64         │\n",
       "╞═══════╪══════╪═══════════════╪═══════════╪══════════════════╪═════════════╡\n",
       "│ a     ┆ 5    ┆ 1.0           ┆ 0.707107  ┆ 62.5             ┆ 2.0         │\n",
       "│ a     ┆ 3    ┆ -1.0          ┆ -0.707107 ┆ 37.5             ┆ 1.0         │\n",
       "│ b     ┆ 4    ┆ 1.666667      ┆ 1.091089  ┆ 57.142857        ┆ 1.0         │\n",
       "│ b     ┆ 1    ┆ -1.333333     ┆ -0.872872 ┆ 14.285714        ┆ 0.0         │\n",
       "│ b     ┆ 2    ┆ -0.333333     ┆ -0.218218 ┆ 28.571429        ┆ 0.333333    │\n",
       "│ c     ┆ 3    ┆ -0.666667     ┆ -0.57735  ┆ 27.272727        ┆ 1.0         │\n",
       "│ c     ┆ 5    ┆ 1.333333      ┆ 1.154701  ┆ 45.454545        ┆ 2.0         │\n",
       "│ c     ┆ 3    ┆ -0.666667     ┆ -0.57735  ┆ 27.272727        ┆ 1.0         │\n",
       "└───────┴──────┴───────────────┴───────────┴──────────────────┴─────────────┘"
      ]
     },
     "execution_count": 28,
     "metadata": {},
     "output_type": "execute_result"
    }
   ],
   "source": [
    "std_by_grp = ( data\n",
    "              .with_columns(mean_centered = pl.col('Data') - pl.col('Data').mean().over('Group'),\n",
    "                             z_score = (pl.col('Data') - pl.col('Data').mean().over('Group'))/pl.col('Data').std().over('Group'),\n",
    "                             percent_of_total = 100*pl.col('Data')/pl.col('Data').sum().over('Group'),\n",
    "                            range_scale = (pl.col('Data')-pl.col('Data').min())/( pl.col('Data').max()-pl.col('Data').min()).over('Group'),\n",
    "                            )\n",
    "             )\n",
    "std_by_grp"
   ]
  },
  {
   "cell_type": "code",
   "execution_count": 29,
   "metadata": {},
   "outputs": [
    {
     "data": {
      "text/html": [
       "<div><style>\n",
       ".dataframe > thead > tr,\n",
       ".dataframe > tbody > tr {\n",
       "  text-align: right;\n",
       "  white-space: pre-wrap;\n",
       "}\n",
       "</style>\n",
       "<small>shape: (3, 7)</small><table border=\"1\" class=\"dataframe\"><thead><tr><th>Group</th><th>mean of mean_centered</th><th>mean of z_score</th><th>SD of z_score</th><th>total of percent_of_total</th><th>min of range_scale</th><th>max of range_scale</th></tr><tr><td>str</td><td>f64</td><td>f64</td><td>f64</td><td>f64</td><td>f64</td><td>f64</td></tr></thead><tbody><tr><td>&quot;b&quot;</td><td>-1.4803e-16</td><td>-7.4015e-17</td><td>1.0</td><td>100.0</td><td>0.0</td><td>1.0</td></tr><tr><td>&quot;a&quot;</td><td>0.0</td><td>0.0</td><td>1.0</td><td>100.0</td><td>1.0</td><td>2.0</td></tr><tr><td>&quot;c&quot;</td><td>1.4803e-16</td><td>1.4803e-16</td><td>1.0</td><td>100.0</td><td>1.0</td><td>2.0</td></tr></tbody></table></div>"
      ],
      "text/plain": [
       "shape: (3, 7)\n",
       "┌───────┬────────────────┬───────────────┬─────────┬───────────────┬───────────────┬───────────────┐\n",
       "│ Group ┆ mean of        ┆ mean of       ┆ SD of   ┆ total of perc ┆ min of        ┆ max of        │\n",
       "│ ---   ┆ mean_centered  ┆ z_score       ┆ z_score ┆ ent_of_total  ┆ range_scale   ┆ range_scale   │\n",
       "│ str   ┆ ---            ┆ ---           ┆ ---     ┆ ---           ┆ ---           ┆ ---           │\n",
       "│       ┆ f64            ┆ f64           ┆ f64     ┆ f64           ┆ f64           ┆ f64           │\n",
       "╞═══════╪════════════════╪═══════════════╪═════════╪═══════════════╪═══════════════╪═══════════════╡\n",
       "│ b     ┆ -1.4803e-16    ┆ -7.4015e-17   ┆ 1.0     ┆ 100.0         ┆ 0.0           ┆ 1.0           │\n",
       "│ a     ┆ 0.0            ┆ 0.0           ┆ 1.0     ┆ 100.0         ┆ 1.0           ┆ 2.0           │\n",
       "│ c     ┆ 1.4803e-16     ┆ 1.4803e-16    ┆ 1.0     ┆ 100.0         ┆ 1.0           ┆ 2.0           │\n",
       "└───────┴────────────────┴───────────────┴─────────┴───────────────┴───────────────┴───────────────┘"
      ]
     },
     "execution_count": 29,
     "metadata": {},
     "output_type": "execute_result"
    }
   ],
   "source": [
    "(std_by_grp\n",
    " .group_by('Group')\n",
    " .agg(([pl.mean(c).alias(f'mean of {c}') for c in ('mean_centered', 'z_score')]\n",
    "          + [pl.std(c).alias(f'SD of {c}') for c in ('z_score',)] \n",
    "          + [pl.sum(c).alias(f'total of {c}') for c in ('percent_of_total',)]\n",
    "          +[pl.min(c).alias(f'min of {c}') for c in ('range_scale',)]\n",
    "         + [pl.max(c).alias(f'max of {c}') for c in ('range_scale',)]\n",
    "         )\n",
    "     )\n",
    ")"
   ]
  },
  {
   "cell_type": "markdown",
   "metadata": {},
   "source": [
    "## <font color=\"red\"> Exercise 5.7.2 - Range-scaling `Data` by `Group`</font>\n",
    "\n",
    "Now range-scale the `Data` column using `Group` as the partition.\n",
    "\n",
    "$$y_{range\\;scaled} = \\frac{y - \\min{y}}{\\max{y} - \\min{y}}$$\n",
    "\n",
    "Double check that the new minimum and maximum are zero and one within each group, respectively."
   ]
  },
  {
   "cell_type": "code",
   "execution_count": 30,
   "metadata": {},
   "outputs": [
    {
     "data": {
      "text/html": [
       "<div><style>\n",
       ".dataframe > thead > tr,\n",
       ".dataframe > tbody > tr {\n",
       "  text-align: right;\n",
       "  white-space: pre-wrap;\n",
       "}\n",
       "</style>\n",
       "<small>shape: (3, 7)</small><table border=\"1\" class=\"dataframe\"><thead><tr><th>Group</th><th>mean of mean_centered</th><th>mean of z_score</th><th>SD of z_score</th><th>total of percent_of_total</th><th>min of range_scale</th><th>max of range_scale</th></tr><tr><td>str</td><td>f64</td><td>f64</td><td>f64</td><td>f64</td><td>f64</td><td>f64</td></tr></thead><tbody><tr><td>&quot;b&quot;</td><td>-1.4803e-16</td><td>-7.4015e-17</td><td>1.0</td><td>100.0</td><td>0.0</td><td>1.0</td></tr><tr><td>&quot;a&quot;</td><td>0.0</td><td>0.0</td><td>1.0</td><td>100.0</td><td>1.0</td><td>2.0</td></tr><tr><td>&quot;c&quot;</td><td>1.4803e-16</td><td>1.4803e-16</td><td>1.0</td><td>100.0</td><td>1.0</td><td>2.0</td></tr></tbody></table></div>"
      ],
      "text/plain": [
       "shape: (3, 7)\n",
       "┌───────┬────────────────┬───────────────┬─────────┬───────────────┬───────────────┬───────────────┐\n",
       "│ Group ┆ mean of        ┆ mean of       ┆ SD of   ┆ total of perc ┆ min of        ┆ max of        │\n",
       "│ ---   ┆ mean_centered  ┆ z_score       ┆ z_score ┆ ent_of_total  ┆ range_scale   ┆ range_scale   │\n",
       "│ str   ┆ ---            ┆ ---           ┆ ---     ┆ ---           ┆ ---           ┆ ---           │\n",
       "│       ┆ f64            ┆ f64           ┆ f64     ┆ f64           ┆ f64           ┆ f64           │\n",
       "╞═══════╪════════════════╪═══════════════╪═════════╪═══════════════╪═══════════════╪═══════════════╡\n",
       "│ b     ┆ -1.4803e-16    ┆ -7.4015e-17   ┆ 1.0     ┆ 100.0         ┆ 0.0           ┆ 1.0           │\n",
       "│ a     ┆ 0.0            ┆ 0.0           ┆ 1.0     ┆ 100.0         ┆ 1.0           ┆ 2.0           │\n",
       "│ c     ┆ 1.4803e-16     ┆ 1.4803e-16    ┆ 1.0     ┆ 100.0         ┆ 1.0           ┆ 2.0           │\n",
       "└───────┴────────────────┴───────────────┴─────────┴───────────────┴───────────────┴───────────────┘"
      ]
     },
     "execution_count": 30,
     "metadata": {},
     "output_type": "execute_result"
    }
   ],
   "source": [
    "# Your code here\n",
    "(std_by_grp\n",
    " .group_by('Group')\n",
    " .agg(([pl.mean(c).alias(f'mean of {c}') for c in ('mean_centered', 'z_score')]\n",
    "          + [pl.std(c).alias(f'SD of {c}') for c in ('z_score',)] \n",
    "          + [pl.sum(c).alias(f'total of {c}') for c in ('percent_of_total',)]\n",
    "          +[pl.min(c).alias(f'min of {c}') for c in ('range_scale',)]\n",
    "         + [pl.max(c).alias(f'max of {c}') for c in ('range_scale',)]\n",
    "         )\n",
    "     )\n",
    ")"
   ]
  }
 ],
 "metadata": {
  "colab": {
   "provenance": []
  },
  "kernelspec": {
   "display_name": "Python 3 (ipykernel)",
   "language": "python",
   "name": "python3"
  },
  "language_info": {
   "codemirror_mode": {
    "name": "ipython",
    "version": 3
   },
   "file_extension": ".py",
   "mimetype": "text/x-python",
   "name": "python",
   "nbconvert_exporter": "python",
   "pygments_lexer": "ipython3",
   "version": "3.12.7"
  },
  "vscode": {
   "interpreter": {
    "hash": "37e98c488ab795948d9a6bbd79fc89c5ef1007cbfe1c0139cd64d85e488f4035"
   }
  }
 },
 "nbformat": 4,
 "nbformat_minor": 4
}
