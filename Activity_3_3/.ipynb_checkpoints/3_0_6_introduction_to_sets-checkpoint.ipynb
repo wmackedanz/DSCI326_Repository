{
 "cells": [
  {
   "cell_type": "markdown",
   "metadata": {
    "slideshow": {
     "slide_type": "slide"
    }
   },
   "source": [
    "# Introduction to Sets"
   ]
  },
  {
   "cell_type": "markdown",
   "metadata": {
    "slideshow": {
     "slide_type": "slide"
    }
   },
   "source": [
    "## What are `sets`\n",
    "\n",
    "* Like a mathematical set\n",
    "    * All items are either *in* or *not in*\n",
    "    * No repeats\n",
    "* Set entries must be hashable/immutable"
   ]
  },
  {
   "cell_type": "markdown",
   "metadata": {
    "slideshow": {
     "slide_type": "slide"
    }
   },
   "source": [
    "## Inline representation\n",
    "\n",
    "* delimited by braces\n",
    "* values separated by commas"
   ]
  },
  {
   "cell_type": "code",
   "execution_count": 2,
   "metadata": {
    "collapsed": false,
    "jupyter": {
     "outputs_hidden": false
    },
    "slideshow": {
     "slide_type": "fragment"
    }
   },
   "outputs": [
    {
     "data": {
      "text/plain": [
       "{'Feb', 'Jan', 'Mar'}"
      ]
     },
     "execution_count": 2,
     "metadata": {},
     "output_type": "execute_result"
    }
   ],
   "source": [
    "months = {'Jan', 'Feb', 'Mar'}\n",
    "months"
   ]
  },
  {
   "cell_type": "code",
   "execution_count": 3,
   "metadata": {
    "collapsed": false,
    "jupyter": {
     "outputs_hidden": false
    },
    "slideshow": {
     "slide_type": "fragment"
    }
   },
   "outputs": [
    {
     "data": {
      "text/plain": [
       "set()"
      ]
     },
     "execution_count": 3,
     "metadata": {},
     "output_type": "execute_result"
    }
   ],
   "source": [
    "# Empty set can't be {}\n",
    "set([])"
   ]
  },
  {
   "cell_type": "markdown",
   "metadata": {
    "slideshow": {
     "slide_type": "slide"
    }
   },
   "source": [
    "## Using `set`s to count unique values\n",
    "\n",
    "* Useful application\n",
    "* Use set conversion on a list of values"
   ]
  },
  {
   "cell_type": "code",
   "execution_count": 4,
   "metadata": {
    "collapsed": false,
    "jupyter": {
     "outputs_hidden": false
    },
    "slideshow": {
     "slide_type": "slide"
    }
   },
   "outputs": [
    {
     "data": {
      "text/plain": [
       "['i',\n",
       " 'do',\n",
       " 'not',\n",
       " 'like',\n",
       " 'green',\n",
       " 'eggs',\n",
       " 'and',\n",
       " 'ham',\n",
       " 'i',\n",
       " 'do',\n",
       " 'not',\n",
       " 'like',\n",
       " 'them',\n",
       " 'sam-i-am']"
      ]
     },
     "execution_count": 4,
     "metadata": {},
     "output_type": "execute_result"
    }
   ],
   "source": [
    "s = \"i do not like green eggs and ham i do not like them sam-i-am\"\n",
    "\n",
    "(words := \n",
    " s.split()\n",
    ")"
   ]
  },
  {
   "cell_type": "code",
   "execution_count": 5,
   "metadata": {
    "collapsed": false,
    "jupyter": {
     "outputs_hidden": false
    },
    "slideshow": {
     "slide_type": "slide"
    }
   },
   "outputs": [
    {
     "data": {
      "text/plain": [
       "{'and', 'do', 'eggs', 'green', 'ham', 'i', 'like', 'not', 'sam-i-am', 'them'}"
      ]
     },
     "execution_count": 5,
     "metadata": {},
     "output_type": "execute_result"
    }
   ],
   "source": [
    "(unique_words := \n",
    " set(words)\n",
    ")"
   ]
  },
  {
   "cell_type": "code",
   "execution_count": 6,
   "metadata": {
    "collapsed": false,
    "jupyter": {
     "outputs_hidden": false
    },
    "slideshow": {
     "slide_type": "fragment"
    }
   },
   "outputs": [
    {
     "data": {
      "text/plain": [
       "10"
      ]
     },
     "execution_count": 6,
     "metadata": {},
     "output_type": "execute_result"
    }
   ],
   "source": [
    "len(unique_words)"
   ]
  },
  {
   "cell_type": "code",
   "execution_count": 7,
   "metadata": {
    "collapsed": false,
    "jupyter": {
     "outputs_hidden": false
    },
    "slideshow": {
     "slide_type": "fragment"
    }
   },
   "outputs": [
    {
     "data": {
      "text/plain": [
       "4"
      ]
     },
     "execution_count": 7,
     "metadata": {},
     "output_type": "execute_result"
    }
   ],
   "source": [
    "repeats = len(words) - len(unique_words)\n",
    "repeats"
   ]
  },
  {
   "cell_type": "markdown",
   "metadata": {
    "slideshow": {
     "slide_type": "slide"
    }
   },
   "source": [
    "## Checking membership with `in`\n",
    "\n",
    "* `in` checks membership\n",
    "* much more efficient than using `in` on lists\n",
    "    * Sets - $O(log(n))$\n",
    "    * Lists - $O(n)$"
   ]
  },
  {
   "cell_type": "code",
   "execution_count": 8,
   "metadata": {
    "collapsed": false,
    "jupyter": {
     "outputs_hidden": false
    },
    "scrolled": true,
    "slideshow": {
     "slide_type": "slide"
    }
   },
   "outputs": [
    {
     "data": {
      "text/plain": [
       "False"
      ]
     },
     "execution_count": 8,
     "metadata": {},
     "output_type": "execute_result"
    }
   ],
   "source": [
    "'the' in unique_words"
   ]
  },
  {
   "cell_type": "code",
   "execution_count": 9,
   "metadata": {
    "collapsed": false,
    "jupyter": {
     "outputs_hidden": false
    },
    "scrolled": true,
    "slideshow": {
     "slide_type": "fragment"
    }
   },
   "outputs": [
    {
     "data": {
      "text/plain": [
       "True"
      ]
     },
     "execution_count": 9,
     "metadata": {},
     "output_type": "execute_result"
    }
   ],
   "source": [
    "'green' in unique_words"
   ]
  },
  {
   "cell_type": "markdown",
   "metadata": {
    "slideshow": {
     "slide_type": "slide"
    }
   },
   "source": [
    "## Using `set` methods\n",
    "\n",
    "* All important set comparisons from math\n",
    "    * `union`\n",
    "    * `intersection`\n",
    "    * `difference`\n",
    "    * `symmetric difference`\n",
    "    * `issubset`\n",
    "    * `issuperset`"
   ]
  },
  {
   "cell_type": "code",
   "execution_count": 10,
   "metadata": {
    "collapsed": false,
    "jupyter": {
     "outputs_hidden": false
    },
    "slideshow": {
     "slide_type": "slide"
    }
   },
   "outputs": [],
   "source": [
    "seuss1 = \"Today you are you That is truer than true There is no one alive who is you-er than you\"\n",
    "seuss2 = \"You're in pretty good shape for the shape you are in\""
   ]
  },
  {
   "cell_type": "code",
   "execution_count": 11,
   "metadata": {
    "collapsed": false,
    "jupyter": {
     "outputs_hidden": false
    },
    "slideshow": {
     "slide_type": "fragment"
    }
   },
   "outputs": [
    {
     "data": {
      "text/plain": [
       "{'alive',\n",
       " 'are',\n",
       " 'is',\n",
       " 'no',\n",
       " 'one',\n",
       " 'than',\n",
       " 'that',\n",
       " 'there',\n",
       " 'today',\n",
       " 'true',\n",
       " 'truer',\n",
       " 'who',\n",
       " 'you',\n",
       " 'you-er'}"
      ]
     },
     "execution_count": 11,
     "metadata": {},
     "output_type": "execute_result"
    }
   ],
   "source": [
    "(s1 := \n",
    " set(seuss1.lower().split())\n",
    ")"
   ]
  },
  {
   "cell_type": "code",
   "execution_count": 12,
   "metadata": {
    "collapsed": false,
    "jupyter": {
     "outputs_hidden": false
    },
    "slideshow": {
     "slide_type": "fragment"
    }
   },
   "outputs": [
    {
     "data": {
      "text/plain": [
       "{'are', 'for', 'good', 'in', 'pretty', 'shape', 'the', 'you', \"you're\"}"
      ]
     },
     "execution_count": 12,
     "metadata": {},
     "output_type": "execute_result"
    }
   ],
   "source": [
    "(s2 := \n",
    " set(seuss2.lower().split())\n",
    ")"
   ]
  },
  {
   "cell_type": "markdown",
   "metadata": {},
   "source": [
    "#### The `union` is the collection of element in *one or both* sets"
   ]
  },
  {
   "cell_type": "code",
   "execution_count": 13,
   "metadata": {
    "collapsed": false,
    "jupyter": {
     "outputs_hidden": false
    },
    "slideshow": {
     "slide_type": "slide"
    }
   },
   "outputs": [
    {
     "data": {
      "text/plain": [
       "{'alive',\n",
       " 'are',\n",
       " 'for',\n",
       " 'good',\n",
       " 'in',\n",
       " 'is',\n",
       " 'no',\n",
       " 'one',\n",
       " 'pretty',\n",
       " 'shape',\n",
       " 'than',\n",
       " 'that',\n",
       " 'the',\n",
       " 'there',\n",
       " 'today',\n",
       " 'true',\n",
       " 'truer',\n",
       " 'who',\n",
       " 'you',\n",
       " \"you're\",\n",
       " 'you-er'}"
      ]
     },
     "execution_count": 13,
     "metadata": {},
     "output_type": "execute_result"
    }
   ],
   "source": [
    "# union is combined elements\n",
    "s1.union(s2)"
   ]
  },
  {
   "cell_type": "markdown",
   "metadata": {},
   "source": [
    "#### The `intersection` is the collection of element in *both* sets"
   ]
  },
  {
   "cell_type": "code",
   "execution_count": 14,
   "metadata": {
    "collapsed": false,
    "jupyter": {
     "outputs_hidden": false
    },
    "slideshow": {
     "slide_type": "slide"
    }
   },
   "outputs": [
    {
     "data": {
      "text/plain": [
       "{'are', 'you'}"
      ]
     },
     "execution_count": 14,
     "metadata": {},
     "output_type": "execute_result"
    }
   ],
   "source": [
    "# intersection is elements in common\n",
    "s1.intersection(s2)"
   ]
  },
  {
   "cell_type": "markdown",
   "metadata": {},
   "source": [
    "#### The `difference` is the collection of element in *the first but not the second* sets"
   ]
  },
  {
   "cell_type": "code",
   "execution_count": 15,
   "metadata": {
    "collapsed": false,
    "jupyter": {
     "outputs_hidden": false
    },
    "slideshow": {
     "slide_type": "slide"
    }
   },
   "outputs": [
    {
     "data": {
      "text/plain": [
       "{'alive',\n",
       " 'is',\n",
       " 'no',\n",
       " 'one',\n",
       " 'than',\n",
       " 'that',\n",
       " 'there',\n",
       " 'today',\n",
       " 'true',\n",
       " 'truer',\n",
       " 'who',\n",
       " 'you-er'}"
      ]
     },
     "execution_count": 15,
     "metadata": {},
     "output_type": "execute_result"
    }
   ],
   "source": [
    "# difference takes away members from the second\n",
    "s1.difference(s2)"
   ]
  },
  {
   "cell_type": "markdown",
   "metadata": {},
   "source": [
    "#### The `symmetric_difference` is the collection of element in *exactly one* set"
   ]
  },
  {
   "cell_type": "code",
   "execution_count": 16,
   "metadata": {
    "collapsed": false,
    "jupyter": {
     "outputs_hidden": false
    },
    "slideshow": {
     "slide_type": "slide"
    }
   },
   "outputs": [
    {
     "data": {
      "text/plain": [
       "{'alive',\n",
       " 'for',\n",
       " 'good',\n",
       " 'in',\n",
       " 'is',\n",
       " 'no',\n",
       " 'one',\n",
       " 'pretty',\n",
       " 'shape',\n",
       " 'than',\n",
       " 'that',\n",
       " 'the',\n",
       " 'there',\n",
       " 'today',\n",
       " 'true',\n",
       " 'truer',\n",
       " 'who',\n",
       " \"you're\",\n",
       " 'you-er'}"
      ]
     },
     "execution_count": 16,
     "metadata": {},
     "output_type": "execute_result"
    }
   ],
   "source": [
    "# Symmetric differences is all elements in exactly one set\n",
    "s1.symmetric_difference(s2)"
   ]
  },
  {
   "cell_type": "markdown",
   "metadata": {},
   "source": [
    "## `set` comprehensions\n",
    "\n",
    "**Syntax.** \n",
    "1. **Without filter.** `{expr for var in seq}`\n",
    "2. **With filter.** `{expr for var in seq if bool_expr}`"
   ]
  },
  {
   "cell_type": "markdown",
   "metadata": {},
   "source": [
    "#### Example 1 - All unique words in `seuss2`"
   ]
  },
  {
   "cell_type": "code",
   "execution_count": 17,
   "metadata": {},
   "outputs": [
    {
     "data": {
      "text/plain": [
       "{\"You're\", 'are', 'for', 'good', 'in', 'pretty', 'shape', 'the', 'you'}"
      ]
     },
     "execution_count": 17,
     "metadata": {},
     "output_type": "execute_result"
    }
   ],
   "source": [
    "{w for w in seuss2.split()}"
   ]
  },
  {
   "cell_type": "markdown",
   "metadata": {},
   "source": [
    "#### Example 2 - all unique proper nouns in `seuss1` (first letter is caps)"
   ]
  },
  {
   "cell_type": "code",
   "execution_count": 18,
   "metadata": {},
   "outputs": [
    {
     "data": {
      "text/plain": [
       "{'That', 'There', 'Today'}"
      ]
     },
     "execution_count": 18,
     "metadata": {},
     "output_type": "execute_result"
    }
   ],
   "source": [
    "{w for w in seuss1.split() if w.istitle()}"
   ]
  },
  {
   "cell_type": "markdown",
   "metadata": {},
   "source": [
    "## Performing set operations over a sequence"
   ]
  },
  {
   "cell_type": "markdown",
   "metadata": {},
   "source": [
    "### The WET solution"
   ]
  },
  {
   "cell_type": "code",
   "execution_count": 19,
   "metadata": {},
   "outputs": [],
   "source": [
    "words1  = set(\"Let us go then, you and I\".lower().split())\n",
    "words2  = set(\"When the evening is spread out against the sky\".lower().split())\n",
    "words3  = set(\"Like a patient etherized upon a table\".lower().split())\n",
    "words4  = set(\"Let us go, through certain half-deserted streets\".lower().split())\n",
    "words5  = set(\"The muttering retreats\".lower().split())\n",
    "words6  = set(\"Of restless nights in one-night cheap hotels\".lower().split())\n",
    "words7  = set(\"And sawdust restaurants with oyster-shells\".lower().split())\n",
    "words8  = set(\"Streets that follow like a tedious argument\".lower().split())\n",
    "words9  = set(\"Of insidious intent\".lower().split())\n",
    "words10 = set(\"To lead you to an overwhelming question\".lower().split())"
   ]
  },
  {
   "cell_type": "code",
   "execution_count": 20,
   "metadata": {},
   "outputs": [
    {
     "data": {
      "text/plain": [
       "{'a',\n",
       " 'against',\n",
       " 'an',\n",
       " 'and',\n",
       " 'argument',\n",
       " 'certain',\n",
       " 'cheap',\n",
       " 'etherized',\n",
       " 'evening',\n",
       " 'follow',\n",
       " 'go',\n",
       " 'go,',\n",
       " 'half-deserted',\n",
       " 'hotels',\n",
       " 'i',\n",
       " 'in',\n",
       " 'insidious',\n",
       " 'intent',\n",
       " 'is',\n",
       " 'lead',\n",
       " 'let',\n",
       " 'like',\n",
       " 'muttering',\n",
       " 'nights',\n",
       " 'of',\n",
       " 'one-night',\n",
       " 'out',\n",
       " 'overwhelming',\n",
       " 'oyster-shells',\n",
       " 'patient',\n",
       " 'question',\n",
       " 'restaurants',\n",
       " 'restless',\n",
       " 'retreats',\n",
       " 'sawdust',\n",
       " 'sky',\n",
       " 'spread',\n",
       " 'streets',\n",
       " 'table',\n",
       " 'tedious',\n",
       " 'that',\n",
       " 'the',\n",
       " 'then,',\n",
       " 'through',\n",
       " 'to',\n",
       " 'upon',\n",
       " 'us',\n",
       " 'when',\n",
       " 'with',\n",
       " 'you'}"
      ]
     },
     "execution_count": 20,
     "metadata": {},
     "output_type": "execute_result"
    }
   ],
   "source": [
    "(all_words :=\n",
    " words1  \n",
    " .union(words2)\n",
    " .union(words3)\n",
    " .union(words4)\n",
    " .union(words5)\n",
    " .union(words6)\n",
    " .union(words7)\n",
    " .union(words8)\n",
    " .union(words9)\n",
    " .union(words10)\n",
    ")"
   ]
  },
  {
   "cell_type": "code",
   "execution_count": 21,
   "metadata": {},
   "outputs": [
    {
     "data": {
      "text/plain": [
       "set()"
      ]
     },
     "execution_count": 21,
     "metadata": {},
     "output_type": "execute_result"
    }
   ],
   "source": [
    "(common_words :=\n",
    " words1  \n",
    " .intersection(words2)\n",
    " .intersection(words3)\n",
    " .intersection(words4)\n",
    " .intersection(words5)\n",
    " .intersection(words6)\n",
    " .intersection(words7)\n",
    " .intersection(words8)\n",
    " .intersection(words9)\n",
    " .intersection(words10)\n",
    ")"
   ]
  },
  {
   "cell_type": "markdown",
   "metadata": {},
   "source": [
    "### Applying the accumulator pattern."
   ]
  },
  {
   "cell_type": "code",
   "execution_count": 22,
   "metadata": {},
   "outputs": [
    {
     "data": {
      "text/plain": [
       "['Let us go then, you and I',\n",
       " 'When the evening is spread out against the sky',\n",
       " 'Like a patient etherized upon a table',\n",
       " 'Let us go, through certain half-deserted streets',\n",
       " 'The muttering retreats',\n",
       " 'Of restless nights in one-night cheap hotels',\n",
       " 'And sawdust restaurants with oyster-shells',\n",
       " 'Streets that follow like a tedious argument',\n",
       " 'Of insidious intent',\n",
       " 'To lead you to an overwhelming question']"
      ]
     },
     "execution_count": 22,
     "metadata": {},
     "output_type": "execute_result"
    }
   ],
   "source": [
    "(lines :=\n",
    " [\"Let us go then, you and I\",\n",
    "  \"When the evening is spread out against the sky\",\n",
    "  \"Like a patient etherized upon a table\",\n",
    "  \"Let us go, through certain half-deserted streets\",\n",
    "  \"The muttering retreats\",\n",
    "  \"Of restless nights in one-night cheap hotels\",\n",
    "  \"And sawdust restaurants with oyster-shells\",\n",
    "  \"Streets that follow like a tedious argument\",\n",
    "  \"Of insidious intent\",\n",
    "  \"To lead you to an overwhelming question\",\n",
    " ]\n",
    ")"
   ]
  },
  {
   "cell_type": "code",
   "execution_count": 30,
   "metadata": {},
   "outputs": [
    {
     "data": {
      "text/plain": [
       "[{'and', 'go', 'i', 'let', 'then,', 'us', 'you'},\n",
       " {'against', 'evening', 'is', 'out', 'sky', 'spread', 'the', 'when'},\n",
       " {'a', 'etherized', 'like', 'patient', 'table', 'upon'},\n",
       " {'certain', 'go,', 'half-deserted', 'let', 'streets', 'through', 'us'},\n",
       " {'muttering', 'retreats', 'the'},\n",
       " {'cheap', 'hotels', 'in', 'nights', 'of', 'one-night', 'restless'},\n",
       " {'and', 'oyster-shells', 'restaurants', 'sawdust', 'with'},\n",
       " {'a', 'argument', 'follow', 'like', 'streets', 'tedious', 'that'},\n",
       " {'insidious', 'intent', 'of'},\n",
       " {'an', 'lead', 'overwhelming', 'question', 'to', 'you'}]"
      ]
     },
     "execution_count": 30,
     "metadata": {},
     "output_type": "execute_result"
    }
   ],
   "source": [
    "(word_sets := \n",
    " [set(l.lower().split()) for l in lines]\n",
    ")"
   ]
  },
  {
   "cell_type": "markdown",
   "metadata": {},
   "source": [
    "### With a `for` loop  ... BAD!!!11!!one!"
   ]
  },
  {
   "cell_type": "code",
   "execution_count": 33,
   "metadata": {},
   "outputs": [
    {
     "data": {
      "text/plain": [
       "{'a',\n",
       " 'against',\n",
       " 'an',\n",
       " 'and',\n",
       " 'argument',\n",
       " 'certain',\n",
       " 'cheap',\n",
       " 'etherized',\n",
       " 'evening',\n",
       " 'follow',\n",
       " 'go',\n",
       " 'go,',\n",
       " 'half-deserted',\n",
       " 'hotels',\n",
       " 'i',\n",
       " 'in',\n",
       " 'insidious',\n",
       " 'intent',\n",
       " 'is',\n",
       " 'lead',\n",
       " 'let',\n",
       " 'like',\n",
       " 'muttering',\n",
       " 'nights',\n",
       " 'of',\n",
       " 'one-night',\n",
       " 'out',\n",
       " 'overwhelming',\n",
       " 'oyster-shells',\n",
       " 'patient',\n",
       " 'question',\n",
       " 'restaurants',\n",
       " 'restless',\n",
       " 'retreats',\n",
       " 'sawdust',\n",
       " 'sky',\n",
       " 'spread',\n",
       " 'streets',\n",
       " 'table',\n",
       " 'tedious',\n",
       " 'that',\n",
       " 'the',\n",
       " 'then,',\n",
       " 'through',\n",
       " 'to',\n",
       " 'upon',\n",
       " 'us',\n",
       " 'when',\n",
       " 'with',\n",
       " 'you'}"
      ]
     },
     "execution_count": 33,
     "metadata": {},
     "output_type": "execute_result"
    }
   ],
   "source": [
    "acc = word_sets[0]      # Initialize with the first set\n",
    "for s in word_sets[1:]:\n",
    "    acc = acc.union(s)  # Update using .union method on the next value\n",
    "\n",
    "acc"
   ]
  },
  {
   "cell_type": "markdown",
   "metadata": {},
   "source": [
    "### Refactor with `reduce`"
   ]
  },
  {
   "cell_type": "code",
   "execution_count": 34,
   "metadata": {},
   "outputs": [
    {
     "data": {
      "text/plain": [
       "{'a',\n",
       " 'against',\n",
       " 'an',\n",
       " 'and',\n",
       " 'argument',\n",
       " 'certain',\n",
       " 'cheap',\n",
       " 'etherized',\n",
       " 'evening',\n",
       " 'follow',\n",
       " 'go',\n",
       " 'go,',\n",
       " 'half-deserted',\n",
       " 'hotels',\n",
       " 'i',\n",
       " 'in',\n",
       " 'insidious',\n",
       " 'intent',\n",
       " 'is',\n",
       " 'lead',\n",
       " 'let',\n",
       " 'like',\n",
       " 'muttering',\n",
       " 'nights',\n",
       " 'of',\n",
       " 'one-night',\n",
       " 'out',\n",
       " 'overwhelming',\n",
       " 'oyster-shells',\n",
       " 'patient',\n",
       " 'question',\n",
       " 'restaurants',\n",
       " 'restless',\n",
       " 'retreats',\n",
       " 'sawdust',\n",
       " 'sky',\n",
       " 'spread',\n",
       " 'streets',\n",
       " 'table',\n",
       " 'tedious',\n",
       " 'that',\n",
       " 'the',\n",
       " 'then,',\n",
       " 'through',\n",
       " 'to',\n",
       " 'upon',\n",
       " 'us',\n",
       " 'when',\n",
       " 'with',\n",
       " 'you'}"
      ]
     },
     "execution_count": 34,
     "metadata": {},
     "output_type": "execute_result"
    }
   ],
   "source": [
    "from functools import reduce\n",
    "\n",
    "(all_words_reduce :=\n",
    "reduce(lambda acc, s: acc.union(s), word_sets)\n",
    ")"
   ]
  },
  {
   "cell_type": "markdown",
   "metadata": {},
   "source": [
    "## <font color=\"red\"> Exercise 3.0.6 </font>\n",
    "\n",
    "**Tasks.**\n",
    "1. Refactor the WET solution for performing the intersections using a `for` loop, specifically using the pattern with the first set as the initial value, then\n",
    "2. Refactor the `for` loop into a call to `reduce`."
   ]
  },
  {
   "cell_type": "code",
   "execution_count": 26,
   "metadata": {},
   "outputs": [
    {
     "data": {
      "text/plain": [
       "['Let us go then, you and I',\n",
       " 'When the evening is spread out against the sky',\n",
       " 'Like a patient etherized upon a table',\n",
       " 'Let us go, through certain half-deserted streets',\n",
       " 'The muttering retreats',\n",
       " 'Of restless nights in one-night cheap hotels',\n",
       " 'And sawdust restaurants with oyster-shells',\n",
       " 'Streets that follow like a tedious argument',\n",
       " 'Of insidious intent',\n",
       " 'To lead you to an overwhelming question']"
      ]
     },
     "execution_count": 26,
     "metadata": {},
     "output_type": "execute_result"
    }
   ],
   "source": [
    "(lines :=\n",
    " [\"Let us go then, you and I\",\n",
    "  \"When the evening is spread out against the sky\",\n",
    "  \"Like a patient etherized upon a table\",\n",
    "  \"Let us go, through certain half-deserted streets\",\n",
    "  \"The muttering retreats\",\n",
    "  \"Of restless nights in one-night cheap hotels\",\n",
    "  \"And sawdust restaurants with oyster-shells\",\n",
    "  \"Streets that follow like a tedious argument\",\n",
    "  \"Of insidious intent\",\n",
    "  \"To lead you to an overwhelming question\",\n",
    " ]\n",
    ")\n",
    "\n"
   ]
  },
  {
   "cell_type": "code",
   "execution_count": 35,
   "metadata": {},
   "outputs": [
    {
     "data": {
      "text/plain": [
       "[{'I', 'Let', 'and', 'go', 'then,', 'us', 'you'}]"
      ]
     },
     "execution_count": 35,
     "metadata": {},
     "output_type": "execute_result"
    }
   ],
   "source": [
    "(common_words := \n",
    " [set(lines[0].split())]\n",
    ")"
   ]
  },
  {
   "cell_type": "code",
   "execution_count": 45,
   "metadata": {},
   "outputs": [
    {
     "data": {
      "text/plain": [
       "set()"
      ]
     },
     "execution_count": 45,
     "metadata": {},
     "output_type": "execute_result"
    }
   ],
   "source": [
    "# Your for-loop code here\n",
    "\n",
    "\n",
    "for line in lines[1:]:\n",
    "    current_words = set(line.split())\n",
    "    common_words = {word for word in common_words if word in current_words}\n",
    "\n",
    "common_words"
   ]
  },
  {
   "cell_type": "code",
   "execution_count": 44,
   "metadata": {},
   "outputs": [
    {
     "data": {
      "text/plain": [
       "set()"
      ]
     },
     "execution_count": 44,
     "metadata": {},
     "output_type": "execute_result"
    }
   ],
   "source": [
    "# Your reduce code here\n",
    "from functools import reduce\n",
    "\n",
    "(common_words := \n",
    " reduce(lambda acc, line: acc.intersection(set(line.split())),\n",
    "    lines[1:],\n",
    "    set(lines[0].split()))\n",
    ")"
   ]
  }
 ],
 "metadata": {
  "anaconda-cloud": {},
  "kernelspec": {
   "display_name": "Python 3 (ipykernel)",
   "language": "python",
   "name": "python3"
  },
  "language_info": {
   "codemirror_mode": {
    "name": "ipython",
    "version": 3
   },
   "file_extension": ".py",
   "mimetype": "text/x-python",
   "name": "python",
   "nbconvert_exporter": "python",
   "pygments_lexer": "ipython3",
   "version": "3.12.7"
  }
 },
 "nbformat": 4,
 "nbformat_minor": 4
}
