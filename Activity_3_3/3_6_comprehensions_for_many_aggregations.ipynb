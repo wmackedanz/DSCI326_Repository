{
 "cells": [
  {
   "cell_type": "markdown",
   "metadata": {},
   "source": [
    "# Applying many similar aggregations.\n",
    "\n",
    "Now suppose we want to compute a large number of similar aggregations, one for each of a collection of columns.  A similar approach will allow us to accomplish this task regardless of the number of columns."
   ]
  },
  {
   "cell_type": "code",
   "execution_count": 1,
   "metadata": {},
   "outputs": [],
   "source": [
    "import polars as pl"
   ]
  },
  {
   "cell_type": "markdown",
   "metadata": {},
   "source": [
    "## Data set\n",
    "\n",
    "We will be using two of the data sets provided by the Museam of Modern Art (MoMA) in this lecture.  Make sure that you have downloaded each repository.  [Download Instructions](./get_MOMA_data.ipynb)"
   ]
  },
  {
   "cell_type": "markdown",
   "metadata": {},
   "source": [
    "#### MoMA Artwork"
   ]
  },
  {
   "cell_type": "markdown",
   "metadata": {},
   "source": [
    "**Note.** The last two columns should also be of type `pl.Float`.  Let's define a schema using a `dict` comprehension."
   ]
  },
  {
   "cell_type": "code",
   "execution_count": 2,
   "metadata": {},
   "outputs": [
    {
     "data": {
      "text/html": [
       "<div><style>\n",
       ".dataframe > thead > tr,\n",
       ".dataframe > tbody > tr {\n",
       "  text-align: right;\n",
       "  white-space: pre-wrap;\n",
       "}\n",
       "</style>\n",
       "<small>shape: (2, 29)</small><table border=\"1\" class=\"dataframe\"><thead><tr><th>Title</th><th>Artist</th><th>ConstituentID</th><th>ArtistBio</th><th>Nationality</th><th>BeginDate</th><th>EndDate</th><th>Gender</th><th>Date</th><th>Medium</th><th>Dimensions</th><th>CreditLine</th><th>AccessionNumber</th><th>Classification</th><th>Department</th><th>DateAcquired</th><th>Cataloged</th><th>ObjectID</th><th>URL</th><th>ThumbnailURL</th><th>Circumference (cm)</th><th>Depth (cm)</th><th>Diameter (cm)</th><th>Height (cm)</th><th>Length (cm)</th><th>Weight (kg)</th><th>Width (cm)</th><th>Seat Height (cm)</th><th>Duration (sec.)</th></tr><tr><td>str</td><td>str</td><td>str</td><td>str</td><td>str</td><td>str</td><td>str</td><td>str</td><td>str</td><td>str</td><td>str</td><td>str</td><td>str</td><td>str</td><td>str</td><td>str</td><td>str</td><td>i64</td><td>str</td><td>str</td><td>f64</td><td>f64</td><td>f64</td><td>f64</td><td>f64</td><td>f64</td><td>f64</td><td>str</td><td>str</td></tr></thead><tbody><tr><td>&quot;Ferdinandsbrücke Project, Vien…</td><td>&quot;Otto Wagner&quot;</td><td>&quot;6210&quot;</td><td>&quot;(Austrian, 1841–1918)&quot;</td><td>&quot;(Austrian)&quot;</td><td>&quot;(1841)&quot;</td><td>&quot;(1918)&quot;</td><td>&quot;(Male)&quot;</td><td>&quot;1896&quot;</td><td>&quot;Ink and cut-and-pasted painted…</td><td>&quot;19 1/8 x 66 1/2&quot; (48.6 x 168.9…</td><td>&quot;Fractional and promised gift o…</td><td>&quot;885.1996&quot;</td><td>&quot;Architecture&quot;</td><td>&quot;Architecture &amp; Design&quot;</td><td>&quot;1996-04-09&quot;</td><td>&quot;Y&quot;</td><td>2</td><td>&quot;http://www.moma.org/collection…</td><td>&quot;http://www.moma.org/media/W1si…</td><td>null</td><td>null</td><td>null</td><td>48.6</td><td>null</td><td>null</td><td>168.9</td><td>null</td><td>null</td></tr><tr><td>&quot;City of Music, National Superi…</td><td>&quot;Christian de Portzamparc&quot;</td><td>&quot;7470&quot;</td><td>&quot;(French, born 1944)&quot;</td><td>&quot;(French)&quot;</td><td>&quot;(1944)&quot;</td><td>&quot;(0)&quot;</td><td>&quot;(Male)&quot;</td><td>&quot;1987&quot;</td><td>&quot;Paint and colored pencil on pr…</td><td>&quot;16 x 11 3/4&quot; (40.6 x 29.8 cm)&quot;</td><td>&quot;Gift of the architect in honor…</td><td>&quot;1.1995&quot;</td><td>&quot;Architecture&quot;</td><td>&quot;Architecture &amp; Design&quot;</td><td>&quot;1995-01-17&quot;</td><td>&quot;Y&quot;</td><td>3</td><td>&quot;http://www.moma.org/collection…</td><td>&quot;http://www.moma.org/media/W1si…</td><td>null</td><td>null</td><td>null</td><td>40.6401</td><td>null</td><td>null</td><td>29.8451</td><td>null</td><td>null</td></tr></tbody></table></div>"
      ],
      "text/plain": [
       "shape: (2, 29)\n",
       "┌───────────┬───────────┬───────────┬───────────┬───┬───────────┬───────────┬───────────┬──────────┐\n",
       "│ Title     ┆ Artist    ┆ Constitue ┆ ArtistBio ┆ … ┆ Weight    ┆ Width     ┆ Seat      ┆ Duration │\n",
       "│ ---       ┆ ---       ┆ ntID      ┆ ---       ┆   ┆ (kg)      ┆ (cm)      ┆ Height    ┆ (sec.)   │\n",
       "│ str       ┆ str       ┆ ---       ┆ str       ┆   ┆ ---       ┆ ---       ┆ (cm)      ┆ ---      │\n",
       "│           ┆           ┆ str       ┆           ┆   ┆ f64       ┆ f64       ┆ ---       ┆ str      │\n",
       "│           ┆           ┆           ┆           ┆   ┆           ┆           ┆ str       ┆          │\n",
       "╞═══════════╪═══════════╪═══════════╪═══════════╪═══╪═══════════╪═══════════╪═══════════╪══════════╡\n",
       "│ Ferdinand ┆ Otto      ┆ 6210      ┆ (Austrian ┆ … ┆ null      ┆ 168.9     ┆ null      ┆ null     │\n",
       "│ sbrücke   ┆ Wagner    ┆           ┆ , 1841–19 ┆   ┆           ┆           ┆           ┆          │\n",
       "│ Project,  ┆           ┆           ┆ 18)       ┆   ┆           ┆           ┆           ┆          │\n",
       "│ Vien…     ┆           ┆           ┆           ┆   ┆           ┆           ┆           ┆          │\n",
       "│ City of   ┆ Christian ┆ 7470      ┆ (French,  ┆ … ┆ null      ┆ 29.8451   ┆ null      ┆ null     │\n",
       "│ Music,    ┆ de Portza ┆           ┆ born      ┆   ┆           ┆           ┆           ┆          │\n",
       "│ National  ┆ mparc     ┆           ┆ 1944)     ┆   ┆           ┆           ┆           ┆          │\n",
       "│ Superi…   ┆           ┆           ┆           ┆   ┆           ┆           ┆           ┆          │\n",
       "└───────────┴───────────┴───────────┴───────────┴───┴───────────┴───────────┴───────────┴──────────┘"
      ]
     },
     "execution_count": 2,
     "metadata": {},
     "output_type": "execute_result"
    }
   ],
   "source": [
    "artwork = (pl.read_csv(\"./data/Artworks.csv\", infer_schema_length=50000)\n",
    "          )\n",
    "artwork.head(2)"
   ]
  },
  {
   "cell_type": "markdown",
   "metadata": {},
   "source": [
    "###  Comprehensions EVERYWHERE!\n",
    "\n",
    "**Comprehension mindset.** Whenever creating a `list`/`tuple`/`dict`/`set`, automate the process with a comprehension.\n",
    "\n",
    "**Current task.** Create a schema `dict` that correctly sets all dimension columns to `float`.\n",
    "\n",
    "**Strategy.** Use a comprehension and the fact all dimension columns end in `')'` to create the schema."
   ]
  },
  {
   "cell_type": "code",
   "execution_count": 3,
   "metadata": {},
   "outputs": [
    {
     "data": {
      "text/plain": [
       "{'Title': String,\n",
       " 'Artist': String,\n",
       " 'ConstituentID': String,\n",
       " 'ArtistBio': String,\n",
       " 'Nationality': String,\n",
       " 'BeginDate': String,\n",
       " 'EndDate': String,\n",
       " 'Gender': String,\n",
       " 'Date': String,\n",
       " 'Medium': String,\n",
       " 'Dimensions': String,\n",
       " 'CreditLine': String,\n",
       " 'AccessionNumber': String,\n",
       " 'Classification': String,\n",
       " 'Department': String,\n",
       " 'DateAcquired': String,\n",
       " 'Cataloged': String,\n",
       " 'ObjectID': String,\n",
       " 'URL': String,\n",
       " 'ThumbnailURL': String,\n",
       " 'Circumference (cm)': Float64,\n",
       " 'Depth (cm)': Float64,\n",
       " 'Diameter (cm)': Float64,\n",
       " 'Height (cm)': Float64,\n",
       " 'Length (cm)': Float64,\n",
       " 'Weight (kg)': Float64,\n",
       " 'Width (cm)': Float64,\n",
       " 'Seat Height (cm)': Float64,\n",
       " 'Duration (sec.)': Float64}"
      ]
     },
     "execution_count": 3,
     "metadata": {},
     "output_type": "execute_result"
    }
   ],
   "source": [
    "artwork_schema = {col: pl.Float64 if col.endswith(')') else pl.String for col in artwork.columns}\n",
    "\n",
    "artwork_schema"
   ]
  },
  {
   "cell_type": "code",
   "execution_count": 4,
   "metadata": {},
   "outputs": [
    {
     "data": {
      "text/html": [
       "<div><style>\n",
       ".dataframe > thead > tr,\n",
       ".dataframe > tbody > tr {\n",
       "  text-align: right;\n",
       "  white-space: pre-wrap;\n",
       "}\n",
       "</style>\n",
       "<small>shape: (2, 29)</small><table border=\"1\" class=\"dataframe\"><thead><tr><th>Title</th><th>Artist</th><th>ConstituentID</th><th>ArtistBio</th><th>Nationality</th><th>BeginDate</th><th>EndDate</th><th>Gender</th><th>Date</th><th>Medium</th><th>Dimensions</th><th>CreditLine</th><th>AccessionNumber</th><th>Classification</th><th>Department</th><th>DateAcquired</th><th>Cataloged</th><th>ObjectID</th><th>URL</th><th>ThumbnailURL</th><th>Circumference (cm)</th><th>Depth (cm)</th><th>Diameter (cm)</th><th>Height (cm)</th><th>Length (cm)</th><th>Weight (kg)</th><th>Width (cm)</th><th>Seat Height (cm)</th><th>Duration (sec.)</th></tr><tr><td>str</td><td>str</td><td>str</td><td>str</td><td>str</td><td>str</td><td>str</td><td>str</td><td>str</td><td>str</td><td>str</td><td>str</td><td>str</td><td>str</td><td>str</td><td>str</td><td>str</td><td>str</td><td>str</td><td>str</td><td>f64</td><td>f64</td><td>f64</td><td>f64</td><td>f64</td><td>f64</td><td>f64</td><td>f64</td><td>f64</td></tr></thead><tbody><tr><td>&quot;Ferdinandsbrücke Project, Vien…</td><td>&quot;Otto Wagner&quot;</td><td>&quot;6210&quot;</td><td>&quot;(Austrian, 1841–1918)&quot;</td><td>&quot;(Austrian)&quot;</td><td>&quot;(1841)&quot;</td><td>&quot;(1918)&quot;</td><td>&quot;(Male)&quot;</td><td>&quot;1896&quot;</td><td>&quot;Ink and cut-and-pasted painted…</td><td>&quot;19 1/8 x 66 1/2&quot; (48.6 x 168.9…</td><td>&quot;Fractional and promised gift o…</td><td>&quot;885.1996&quot;</td><td>&quot;Architecture&quot;</td><td>&quot;Architecture &amp; Design&quot;</td><td>&quot;1996-04-09&quot;</td><td>&quot;Y&quot;</td><td>&quot;2&quot;</td><td>&quot;http://www.moma.org/collection…</td><td>&quot;http://www.moma.org/media/W1si…</td><td>null</td><td>null</td><td>null</td><td>48.6</td><td>null</td><td>null</td><td>168.9</td><td>null</td><td>null</td></tr><tr><td>&quot;City of Music, National Superi…</td><td>&quot;Christian de Portzamparc&quot;</td><td>&quot;7470&quot;</td><td>&quot;(French, born 1944)&quot;</td><td>&quot;(French)&quot;</td><td>&quot;(1944)&quot;</td><td>&quot;(0)&quot;</td><td>&quot;(Male)&quot;</td><td>&quot;1987&quot;</td><td>&quot;Paint and colored pencil on pr…</td><td>&quot;16 x 11 3/4&quot; (40.6 x 29.8 cm)&quot;</td><td>&quot;Gift of the architect in honor…</td><td>&quot;1.1995&quot;</td><td>&quot;Architecture&quot;</td><td>&quot;Architecture &amp; Design&quot;</td><td>&quot;1995-01-17&quot;</td><td>&quot;Y&quot;</td><td>&quot;3&quot;</td><td>&quot;http://www.moma.org/collection…</td><td>&quot;http://www.moma.org/media/W1si…</td><td>null</td><td>null</td><td>null</td><td>40.6401</td><td>null</td><td>null</td><td>29.8451</td><td>null</td><td>null</td></tr></tbody></table></div>"
      ],
      "text/plain": [
       "shape: (2, 29)\n",
       "┌───────────┬───────────┬───────────┬───────────┬───┬───────────┬───────────┬───────────┬──────────┐\n",
       "│ Title     ┆ Artist    ┆ Constitue ┆ ArtistBio ┆ … ┆ Weight    ┆ Width     ┆ Seat      ┆ Duration │\n",
       "│ ---       ┆ ---       ┆ ntID      ┆ ---       ┆   ┆ (kg)      ┆ (cm)      ┆ Height    ┆ (sec.)   │\n",
       "│ str       ┆ str       ┆ ---       ┆ str       ┆   ┆ ---       ┆ ---       ┆ (cm)      ┆ ---      │\n",
       "│           ┆           ┆ str       ┆           ┆   ┆ f64       ┆ f64       ┆ ---       ┆ f64      │\n",
       "│           ┆           ┆           ┆           ┆   ┆           ┆           ┆ f64       ┆          │\n",
       "╞═══════════╪═══════════╪═══════════╪═══════════╪═══╪═══════════╪═══════════╪═══════════╪══════════╡\n",
       "│ Ferdinand ┆ Otto      ┆ 6210      ┆ (Austrian ┆ … ┆ null      ┆ 168.9     ┆ null      ┆ null     │\n",
       "│ sbrücke   ┆ Wagner    ┆           ┆ , 1841–19 ┆   ┆           ┆           ┆           ┆          │\n",
       "│ Project,  ┆           ┆           ┆ 18)       ┆   ┆           ┆           ┆           ┆          │\n",
       "│ Vien…     ┆           ┆           ┆           ┆   ┆           ┆           ┆           ┆          │\n",
       "│ City of   ┆ Christian ┆ 7470      ┆ (French,  ┆ … ┆ null      ┆ 29.8451   ┆ null      ┆ null     │\n",
       "│ Music,    ┆ de Portza ┆           ┆ born      ┆   ┆           ┆           ┆           ┆          │\n",
       "│ National  ┆ mparc     ┆           ┆ 1944)     ┆   ┆           ┆           ┆           ┆          │\n",
       "│ Superi…   ┆           ┆           ┆           ┆   ┆           ┆           ┆           ┆          │\n",
       "└───────────┴───────────┴───────────┴───────────┴───┴───────────┴───────────┴───────────┴──────────┘"
      ]
     },
     "execution_count": 4,
     "metadata": {},
     "output_type": "execute_result"
    }
   ],
   "source": [
    "artwork = (pl.read_csv(\"./data/Artworks.csv\", schema=artwork_schema)\n",
    "          )\n",
    "artwork.head(2)"
   ]
  },
  {
   "cell_type": "markdown",
   "metadata": {},
   "source": [
    "## A WET transformation - using alias\n",
    "\n",
    "This solution is WET, not DRY, as all 9 of the expressions in mutate are very similar ... if only here was a way to perform these similar expressions all at once ..."
   ]
  },
  {
   "cell_type": "code",
   "execution_count": 5,
   "metadata": {},
   "outputs": [
    {
     "data": {
      "text/html": [
       "<div><style>\n",
       ".dataframe > thead > tr,\n",
       ".dataframe > tbody > tr {\n",
       "  text-align: right;\n",
       "  white-space: pre-wrap;\n",
       "}\n",
       "</style>\n",
       "<small>shape: (32, 10)</small><table border=\"1\" class=\"dataframe\"><thead><tr><th>Classification</th><th>Mean Circumference (cm)</th><th>Mean Depth (cm)</th><th>Mean Diameter (cm)</th><th>Mean Height (cm)</th><th>Mean Length (cm)</th><th>Mean Weight (kg)</th><th>Mean Width (cm)</th><th>Mean Seat Height (cm)</th><th>Mean Duration (sec.)</th></tr><tr><td>str</td><td>f64</td><td>f64</td><td>f64</td><td>f64</td><td>f64</td><td>f64</td><td>f64</td><td>f64</td><td>f64</td></tr></thead><tbody><tr><td>&quot;Publication&quot;</td><td>null</td><td>null</td><td>null</td><td>31.25</td><td>null</td><td>null</td><td>22.65</td><td>null</td><td>null</td></tr><tr><td>&quot;Digital&quot;</td><td>null</td><td>null</td><td>null</td><td>null</td><td>null</td><td>null</td><td>null</td><td>null</td><td>4590.0</td></tr><tr><td>&quot;Mies van der Rohe Archive&quot;</td><td>null</td><td>22.5</td><td>null</td><td>41.44568</td><td>null</td><td>90.7194</td><td>56.195844</td><td>null</td><td>null</td></tr><tr><td>&quot;Architecture&quot;</td><td>null</td><td>39.439213</td><td>47.879818</td><td>46.990801</td><td>145.520935</td><td>11.04081</td><td>59.985583</td><td>null</td><td>2160.461538</td></tr><tr><td>&quot;Performance&quot;</td><td>null</td><td>29.111299</td><td>null</td><td>130.39205</td><td>null</td><td>null</td><td>131.951426</td><td>null</td><td>600.0</td></tr><tr><td>&hellip;</td><td>&hellip;</td><td>&hellip;</td><td>&hellip;</td><td>&hellip;</td><td>&hellip;</td><td>&hellip;</td><td>&hellip;</td><td>&hellip;</td><td>&hellip;</td></tr><tr><td>&quot;Work on Paper&quot;</td><td>null</td><td>1.209352</td><td>null</td><td>83.666016</td><td>null</td><td>null</td><td>78.392955</td><td>null</td><td>null</td></tr><tr><td>&quot;Print&quot;</td><td>38.0</td><td>1.716388</td><td>49.066169</td><td>40.158467</td><td>14.5</td><td>1.5</td><td>37.848143</td><td>null</td><td>0.0</td></tr><tr><td>&quot;Textile&quot;</td><td>null</td><td>8.724003</td><td>null</td><td>108.386216</td><td>103.0</td><td>null</td><td>118.780417</td><td>null</td><td>null</td></tr><tr><td>&quot;(not assigned)&quot;</td><td>null</td><td>2.026985</td><td>4.075</td><td>7.325643</td><td>null</td><td>null</td><td>7.436155</td><td>null</td><td>null</td></tr><tr><td>&quot;Poster&quot;</td><td>null</td><td>0.0</td><td>null</td><td>98.16542</td><td>null</td><td>null</td><td>70.427396</td><td>null</td><td>null</td></tr></tbody></table></div>"
      ],
      "text/plain": [
       "shape: (32, 10)\n",
       "┌───────────┬───────────┬───────────┬───────────┬───┬───────────┬───────────┬───────────┬──────────┐\n",
       "│ Classific ┆ Mean Circ ┆ Mean      ┆ Mean      ┆ … ┆ Mean      ┆ Mean      ┆ Mean Seat ┆ Mean     │\n",
       "│ ation     ┆ umference ┆ Depth     ┆ Diameter  ┆   ┆ Weight    ┆ Width     ┆ Height    ┆ Duration │\n",
       "│ ---       ┆ (cm)      ┆ (cm)      ┆ (cm)      ┆   ┆ (kg)      ┆ (cm)      ┆ (cm)      ┆ (sec.)   │\n",
       "│ str       ┆ ---       ┆ ---       ┆ ---       ┆   ┆ ---       ┆ ---       ┆ ---       ┆ ---      │\n",
       "│           ┆ f64       ┆ f64       ┆ f64       ┆   ┆ f64       ┆ f64       ┆ f64       ┆ f64      │\n",
       "╞═══════════╪═══════════╪═══════════╪═══════════╪═══╪═══════════╪═══════════╪═══════════╪══════════╡\n",
       "│ Publicati ┆ null      ┆ null      ┆ null      ┆ … ┆ null      ┆ 22.65     ┆ null      ┆ null     │\n",
       "│ on        ┆           ┆           ┆           ┆   ┆           ┆           ┆           ┆          │\n",
       "│ Digital   ┆ null      ┆ null      ┆ null      ┆ … ┆ null      ┆ null      ┆ null      ┆ 4590.0   │\n",
       "│ Mies van  ┆ null      ┆ 22.5      ┆ null      ┆ … ┆ 90.7194   ┆ 56.195844 ┆ null      ┆ null     │\n",
       "│ der Rohe  ┆           ┆           ┆           ┆   ┆           ┆           ┆           ┆          │\n",
       "│ Archive   ┆           ┆           ┆           ┆   ┆           ┆           ┆           ┆          │\n",
       "│ Architect ┆ null      ┆ 39.439213 ┆ 47.879818 ┆ … ┆ 11.04081  ┆ 59.985583 ┆ null      ┆ 2160.461 │\n",
       "│ ure       ┆           ┆           ┆           ┆   ┆           ┆           ┆           ┆ 538      │\n",
       "│ Performan ┆ null      ┆ 29.111299 ┆ null      ┆ … ┆ null      ┆ 131.95142 ┆ null      ┆ 600.0    │\n",
       "│ ce        ┆           ┆           ┆           ┆   ┆           ┆ 6         ┆           ┆          │\n",
       "│ …         ┆ …         ┆ …         ┆ …         ┆ … ┆ …         ┆ …         ┆ …         ┆ …        │\n",
       "│ Work on   ┆ null      ┆ 1.209352  ┆ null      ┆ … ┆ null      ┆ 78.392955 ┆ null      ┆ null     │\n",
       "│ Paper     ┆           ┆           ┆           ┆   ┆           ┆           ┆           ┆          │\n",
       "│ Print     ┆ 38.0      ┆ 1.716388  ┆ 49.066169 ┆ … ┆ 1.5       ┆ 37.848143 ┆ null      ┆ 0.0      │\n",
       "│ Textile   ┆ null      ┆ 8.724003  ┆ null      ┆ … ┆ null      ┆ 118.78041 ┆ null      ┆ null     │\n",
       "│           ┆           ┆           ┆           ┆   ┆           ┆ 7         ┆           ┆          │\n",
       "│ (not      ┆ null      ┆ 2.026985  ┆ 4.075     ┆ … ┆ null      ┆ 7.436155  ┆ null      ┆ null     │\n",
       "│ assigned) ┆           ┆           ┆           ┆   ┆           ┆           ┆           ┆          │\n",
       "│ Poster    ┆ null      ┆ 0.0       ┆ null      ┆ … ┆ null      ┆ 70.427396 ┆ null      ┆ null     │\n",
       "└───────────┴───────────┴───────────┴───────────┴───┴───────────┴───────────┴───────────┴──────────┘"
      ]
     },
     "execution_count": 5,
     "metadata": {},
     "output_type": "execute_result"
    }
   ],
   "source": [
    "# Input expressions as positional arguments.\n",
    "(artwork\n",
    " .group_by('Classification')\n",
    " .agg(pl.col('Circumference (cm)').mean().alias('Mean Circumference (cm)'),\n",
    "      pl.col('Depth (cm)').mean().alias('Mean Depth (cm)'),\n",
    "      pl.col('Diameter (cm)').mean().alias('Mean Diameter (cm)'),\n",
    "      pl.col('Height (cm)').mean().alias('Mean Height (cm)'),\n",
    "      pl.col('Length (cm)').mean().alias('Mean Length (cm)'),\n",
    "      pl.col('Weight (kg)').mean().alias('Mean Weight (kg)'),\n",
    "      pl.col('Width (cm)').mean().alias('Mean Width (cm)'),\n",
    "      pl.col('Seat Height (cm)').mean().alias('Mean Seat Height (cm)'),\n",
    "      pl.col('Duration (sec.)').mean().alias('Mean Duration (sec.)'),\n",
    "     )\n",
    ")"
   ]
  },
  {
   "cell_type": "code",
   "execution_count": 6,
   "metadata": {},
   "outputs": [
    {
     "data": {
      "text/html": [
       "<div><style>\n",
       ".dataframe > thead > tr,\n",
       ".dataframe > tbody > tr {\n",
       "  text-align: right;\n",
       "  white-space: pre-wrap;\n",
       "}\n",
       "</style>\n",
       "<small>shape: (32, 10)</small><table border=\"1\" class=\"dataframe\"><thead><tr><th>Classification</th><th>Mean Circumference (cm)</th><th>Mean Depth (cm)</th><th>Mean Diameter (cm)</th><th>Mean Height (cm)</th><th>Mean Length (cm)</th><th>Mean Weight (kg)</th><th>Mean Width (cm)</th><th>Mean Seat Height (cm)</th><th>Mean Duration (sec.)</th></tr><tr><td>str</td><td>f64</td><td>f64</td><td>f64</td><td>f64</td><td>f64</td><td>f64</td><td>f64</td><td>f64</td><td>f64</td></tr></thead><tbody><tr><td>&quot;Audio&quot;</td><td>NaN</td><td>0.17894</td><td>19.685039</td><td>11.84564</td><td>NaN</td><td>NaN</td><td>11.942762</td><td>NaN</td><td>1327.666667</td></tr><tr><td>&quot;Architectural Model&quot;</td><td>NaN</td><td>8.890018</td><td>NaN</td><td>44.450089</td><td>NaN</td><td>NaN</td><td>44.450089</td><td>NaN</td><td>NaN</td></tr><tr><td>&quot;Frank Lloyd Wright Archive&quot;</td><td>NaN</td><td>3.738871</td><td>26.670053</td><td>55.780718</td><td>NaN</td><td>NaN</td><td>70.306716</td><td>NaN</td><td>NaN</td></tr><tr><td>&quot;Performance&quot;</td><td>NaN</td><td>29.111299</td><td>NaN</td><td>130.39205</td><td>NaN</td><td>NaN</td><td>131.951426</td><td>NaN</td><td>600.0</td></tr><tr><td>&quot;Drawing&quot;</td><td>NaN</td><td>1.353477</td><td>72.246</td><td>43.344329</td><td>213.4</td><td>15.4223</td><td>45.738161</td><td>NaN</td><td>NaN</td></tr><tr><td>&hellip;</td><td>&hellip;</td><td>&hellip;</td><td>&hellip;</td><td>&hellip;</td><td>&hellip;</td><td>&hellip;</td><td>&hellip;</td><td>&hellip;</td><td>&hellip;</td></tr><tr><td>&quot;Publication&quot;</td><td>NaN</td><td>NaN</td><td>NaN</td><td>31.25</td><td>NaN</td><td>NaN</td><td>22.65</td><td>NaN</td><td>NaN</td></tr><tr><td>&quot;Ephemera&quot;</td><td>NaN</td><td>1.322905</td><td>4.75</td><td>27.317681</td><td>25.08255</td><td>NaN</td><td>24.492504</td><td>NaN</td><td>NaN</td></tr><tr><td>&quot;Photograph&quot;</td><td>NaN</td><td>3.372236</td><td>8.041579</td><td>28.519292</td><td>NaN</td><td>226.798512</td><td>31.585365</td><td>NaN</td><td>280.0</td></tr><tr><td>&quot;Multiple&quot;</td><td>29.516667</td><td>7.796307</td><td>9.303058</td><td>19.382265</td><td>26.65</td><td>2.783105</td><td>20.988888</td><td>NaN</td><td>60.0</td></tr><tr><td>&quot;Software&quot;</td><td>NaN</td><td>NaN</td><td>NaN</td><td>NaN</td><td>NaN</td><td>NaN</td><td>NaN</td><td>NaN</td><td>NaN</td></tr></tbody></table></div>"
      ],
      "text/plain": [
       "shape: (32, 10)\n",
       "┌───────────┬───────────┬───────────┬───────────┬───┬───────────┬───────────┬───────────┬──────────┐\n",
       "│ Classific ┆ Mean Circ ┆ Mean      ┆ Mean      ┆ … ┆ Mean      ┆ Mean      ┆ Mean Seat ┆ Mean     │\n",
       "│ ation     ┆ umference ┆ Depth     ┆ Diameter  ┆   ┆ Weight    ┆ Width     ┆ Height    ┆ Duration │\n",
       "│ ---       ┆ (cm)      ┆ (cm)      ┆ (cm)      ┆   ┆ (kg)      ┆ (cm)      ┆ (cm)      ┆ (sec.)   │\n",
       "│ str       ┆ ---       ┆ ---       ┆ ---       ┆   ┆ ---       ┆ ---       ┆ ---       ┆ ---      │\n",
       "│           ┆ f64       ┆ f64       ┆ f64       ┆   ┆ f64       ┆ f64       ┆ f64       ┆ f64      │\n",
       "╞═══════════╪═══════════╪═══════════╪═══════════╪═══╪═══════════╪═══════════╪═══════════╪══════════╡\n",
       "│ Audio     ┆ NaN       ┆ 0.17894   ┆ 19.685039 ┆ … ┆ NaN       ┆ 11.942762 ┆ NaN       ┆ 1327.666 │\n",
       "│           ┆           ┆           ┆           ┆   ┆           ┆           ┆           ┆ 667      │\n",
       "│ Architect ┆ NaN       ┆ 8.890018  ┆ NaN       ┆ … ┆ NaN       ┆ 44.450089 ┆ NaN       ┆ NaN      │\n",
       "│ ural      ┆           ┆           ┆           ┆   ┆           ┆           ┆           ┆          │\n",
       "│ Model     ┆           ┆           ┆           ┆   ┆           ┆           ┆           ┆          │\n",
       "│ Frank     ┆ NaN       ┆ 3.738871  ┆ 26.670053 ┆ … ┆ NaN       ┆ 70.306716 ┆ NaN       ┆ NaN      │\n",
       "│ Lloyd     ┆           ┆           ┆           ┆   ┆           ┆           ┆           ┆          │\n",
       "│ Wright    ┆           ┆           ┆           ┆   ┆           ┆           ┆           ┆          │\n",
       "│ Archive   ┆           ┆           ┆           ┆   ┆           ┆           ┆           ┆          │\n",
       "│ Performan ┆ NaN       ┆ 29.111299 ┆ NaN       ┆ … ┆ NaN       ┆ 131.95142 ┆ NaN       ┆ 600.0    │\n",
       "│ ce        ┆           ┆           ┆           ┆   ┆           ┆ 6         ┆           ┆          │\n",
       "│ Drawing   ┆ NaN       ┆ 1.353477  ┆ 72.246    ┆ … ┆ 15.4223   ┆ 45.738161 ┆ NaN       ┆ NaN      │\n",
       "│ …         ┆ …         ┆ …         ┆ …         ┆ … ┆ …         ┆ …         ┆ …         ┆ …        │\n",
       "│ Publicati ┆ NaN       ┆ NaN       ┆ NaN       ┆ … ┆ NaN       ┆ 22.65     ┆ NaN       ┆ NaN      │\n",
       "│ on        ┆           ┆           ┆           ┆   ┆           ┆           ┆           ┆          │\n",
       "│ Ephemera  ┆ NaN       ┆ 1.322905  ┆ 4.75      ┆ … ┆ NaN       ┆ 24.492504 ┆ NaN       ┆ NaN      │\n",
       "│ Photograp ┆ NaN       ┆ 3.372236  ┆ 8.041579  ┆ … ┆ 226.79851 ┆ 31.585365 ┆ NaN       ┆ 280.0    │\n",
       "│ h         ┆           ┆           ┆           ┆   ┆ 2         ┆           ┆           ┆          │\n",
       "│ Multiple  ┆ 29.516667 ┆ 7.796307  ┆ 9.303058  ┆ … ┆ 2.783105  ┆ 20.988888 ┆ NaN       ┆ 60.0     │\n",
       "│ Software  ┆ NaN       ┆ NaN       ┆ NaN       ┆ … ┆ NaN       ┆ NaN       ┆ NaN       ┆ NaN      │\n",
       "└───────────┴───────────┴───────────┴───────────┴───┴───────────┴───────────┴───────────┴──────────┘"
      ]
     },
     "execution_count": 6,
     "metadata": {},
     "output_type": "execute_result"
    }
   ],
   "source": [
    "# Input a list of expressions\n",
    "(artwork\n",
    " .group_by('Classification')\n",
    " .agg([pl.col('Circumference (cm)').mean().alias('Mean Circumference (cm)'),\n",
    "       pl.col('Depth (cm)').mean().alias('Mean Depth (cm)'),\n",
    "       pl.col('Diameter (cm)').mean().alias('Mean Diameter (cm)'),\n",
    "       pl.col('Height (cm)').mean().alias('Mean Height (cm)'),\n",
    "       pl.col('Length (cm)').mean().alias('Mean Length (cm)'),\n",
    "       pl.col('Weight (kg)').mean().alias('Mean Weight (kg)'),\n",
    "       pl.col('Width (cm)').mean().alias('Mean Width (cm)'),\n",
    "       pl.col('Seat Height (cm)').mean().alias('Mean Seat Height (cm)'),\n",
    "       pl.col('Duration (sec.)').mean().alias('Mean Duration (sec.)'),\n",
    "      ],\n",
    "     )\n",
    ")"
   ]
  },
  {
   "cell_type": "code",
   "execution_count": 7,
   "metadata": {},
   "outputs": [
    {
     "name": "stdout",
     "output_type": "stream",
     "text": [
      "Help on method agg in module polars.dataframe.group_by:\n",
      "\n",
      "agg(*aggs: 'IntoExpr | Iterable[IntoExpr]', **named_aggs: 'IntoExpr') -> 'DataFrame' method of polars.dataframe.group_by.GroupBy instance\n",
      "    Compute aggregations for each group of a group by operation.\n",
      "\n",
      "    Parameters\n",
      "    ----------\n",
      "    *aggs\n",
      "        Aggregations to compute for each group of the group by operation,\n",
      "        specified as positional arguments.\n",
      "        Accepts expression input. Strings are parsed as column names.\n",
      "    **named_aggs\n",
      "        Additional aggregations, specified as keyword arguments.\n",
      "        The resulting columns will be renamed to the keyword used.\n",
      "\n",
      "    Examples\n",
      "    --------\n",
      "    Compute the aggregation of the columns for each group.\n",
      "\n",
      "    >>> df = pl.DataFrame(\n",
      "    ...     {\n",
      "    ...         \"a\": [\"a\", \"b\", \"a\", \"b\", \"c\"],\n",
      "    ...         \"b\": [1, 2, 1, 3, 3],\n",
      "    ...         \"c\": [5, 4, 3, 2, 1],\n",
      "    ...     }\n",
      "    ... )\n",
      "    >>> df.group_by(\"a\").agg(pl.col(\"b\"), pl.col(\"c\"))  # doctest: +IGNORE_RESULT\n",
      "    shape: (3, 3)\n",
      "    ┌─────┬───────────┬───────────┐\n",
      "    │ a   ┆ b         ┆ c         │\n",
      "    │ --- ┆ ---       ┆ ---       │\n",
      "    │ str ┆ list[i64] ┆ list[i64] │\n",
      "    ╞═════╪═══════════╪═══════════╡\n",
      "    │ a   ┆ [1, 1]    ┆ [5, 3]    │\n",
      "    ├╌╌╌╌╌┼╌╌╌╌╌╌╌╌╌╌╌┼╌╌╌╌╌╌╌╌╌╌╌┤\n",
      "    │ b   ┆ [2, 3]    ┆ [4, 2]    │\n",
      "    ├╌╌╌╌╌┼╌╌╌╌╌╌╌╌╌╌╌┼╌╌╌╌╌╌╌╌╌╌╌┤\n",
      "    │ c   ┆ [3]       ┆ [1]       │\n",
      "    └─────┴───────────┴───────────┘\n",
      "\n",
      "    Compute the sum of a column for each group.\n",
      "\n",
      "    >>> df.group_by(\"a\").agg(pl.col(\"b\").sum())  # doctest: +IGNORE_RESULT\n",
      "    shape: (3, 2)\n",
      "    ┌─────┬─────┐\n",
      "    │ a   ┆ b   │\n",
      "    │ --- ┆ --- │\n",
      "    │ str ┆ i64 │\n",
      "    ╞═════╪═════╡\n",
      "    │ a   ┆ 2   │\n",
      "    │ b   ┆ 5   │\n",
      "    │ c   ┆ 3   │\n",
      "    └─────┴─────┘\n",
      "\n",
      "    Compute multiple aggregates at once by passing a list of expressions.\n",
      "\n",
      "    >>> df.group_by(\"a\").agg([pl.sum(\"b\"), pl.mean(\"c\")])  # doctest: +IGNORE_RESULT\n",
      "    shape: (3, 3)\n",
      "    ┌─────┬─────┬─────┐\n",
      "    │ a   ┆ b   ┆ c   │\n",
      "    │ --- ┆ --- ┆ --- │\n",
      "    │ str ┆ i64 ┆ f64 │\n",
      "    ╞═════╪═════╪═════╡\n",
      "    │ c   ┆ 3   ┆ 1.0 │\n",
      "    │ a   ┆ 2   ┆ 4.0 │\n",
      "    │ b   ┆ 5   ┆ 3.0 │\n",
      "    └─────┴─────┴─────┘\n",
      "\n",
      "    Or use positional arguments to compute multiple aggregations in the same way.\n",
      "\n",
      "    >>> df.group_by(\"a\").agg(\n",
      "    ...     pl.sum(\"b\").name.suffix(\"_sum\"),\n",
      "    ...     (pl.col(\"c\") ** 2).mean().name.suffix(\"_mean_squared\"),\n",
      "    ... )  # doctest: +IGNORE_RESULT\n",
      "    shape: (3, 3)\n",
      "    ┌─────┬───────┬────────────────┐\n",
      "    │ a   ┆ b_sum ┆ c_mean_squared │\n",
      "    │ --- ┆ ---   ┆ ---            │\n",
      "    │ str ┆ i64   ┆ f64            │\n",
      "    ╞═════╪═══════╪════════════════╡\n",
      "    │ a   ┆ 2     ┆ 17.0           │\n",
      "    │ c   ┆ 3     ┆ 1.0            │\n",
      "    │ b   ┆ 5     ┆ 10.0           │\n",
      "    └─────┴───────┴────────────────┘\n",
      "\n",
      "    Use keyword arguments to easily name your expression inputs.\n",
      "\n",
      "    >>> df.group_by(\"a\").agg(\n",
      "    ...     b_sum=pl.sum(\"b\"),\n",
      "    ...     c_mean_squared=(pl.col(\"c\") ** 2).mean(),\n",
      "    ... )  # doctest: +IGNORE_RESULT\n",
      "    shape: (3, 3)\n",
      "    ┌─────┬───────┬────────────────┐\n",
      "    │ a   ┆ b_sum ┆ c_mean_squared │\n",
      "    │ --- ┆ ---   ┆ ---            │\n",
      "    │ str ┆ i64   ┆ f64            │\n",
      "    ╞═════╪═══════╪════════════════╡\n",
      "    │ a   ┆ 2     ┆ 17.0           │\n",
      "    │ c   ┆ 3     ┆ 1.0            │\n",
      "    │ b   ┆ 5     ┆ 10.0           │\n",
      "    └─────┴───────┴────────────────┘\n",
      "\n"
     ]
    }
   ],
   "source": [
    "help(artwork.group_by().agg)"
   ]
  },
  {
   "cell_type": "code",
   "execution_count": 8,
   "metadata": {},
   "outputs": [],
   "source": [
    "compute_mean = lambda col: pl.col(col).mean().alias(f'Mean {col}')"
   ]
  },
  {
   "cell_type": "code",
   "execution_count": 9,
   "metadata": {},
   "outputs": [
    {
     "data": {
      "text/html": [
       "<div><style>\n",
       ".dataframe > thead > tr,\n",
       ".dataframe > tbody > tr {\n",
       "  text-align: right;\n",
       "  white-space: pre-wrap;\n",
       "}\n",
       "</style>\n",
       "<small>shape: (32, 10)</small><table border=\"1\" class=\"dataframe\"><thead><tr><th>Classification</th><th>Mean Circumference (cm)</th><th>Mean Depth (cm)</th><th>Mean Diameter (cm)</th><th>Mean Height (cm)</th><th>Mean Length (cm)</th><th>Mean Weight (kg)</th><th>Mean Width (cm)</th><th>Mean Seat Height (cm)</th><th>Mean Duration (sec.)</th></tr><tr><td>str</td><td>f64</td><td>f64</td><td>f64</td><td>f64</td><td>f64</td><td>f64</td><td>f64</td><td>f64</td><td>f64</td></tr></thead><tbody><tr><td>&quot;Photography Research/Reference&quot;</td><td>null</td><td>null</td><td>null</td><td>45.55</td><td>null</td><td>null</td><td>34.8</td><td>null</td><td>6120.0</td></tr><tr><td>&quot;Sculpture&quot;</td><td>null</td><td>57.139591</td><td>106.085079</td><td>105.494561</td><td>465.3702</td><td>1387.632147</td><td>103.907527</td><td>null</td><td>1860.0</td></tr><tr><td>&quot;Architecture&quot;</td><td>null</td><td>39.439213</td><td>47.879818</td><td>46.990801</td><td>145.520935</td><td>11.04081</td><td>59.985583</td><td>null</td><td>2160.461538</td></tr><tr><td>&quot;Media&quot;</td><td>null</td><td>1.696429</td><td>null</td><td>12.47931</td><td>null</td><td>null</td><td>13.668966</td><td>null</td><td>null</td></tr><tr><td>&quot;Photograph&quot;</td><td>null</td><td>3.372236</td><td>8.041579</td><td>28.519292</td><td>null</td><td>226.798512</td><td>31.585365</td><td>null</td><td>280.0</td></tr><tr><td>&hellip;</td><td>&hellip;</td><td>&hellip;</td><td>&hellip;</td><td>&hellip;</td><td>&hellip;</td><td>&hellip;</td><td>&hellip;</td><td>&hellip;</td><td>&hellip;</td></tr><tr><td>&quot;Publication&quot;</td><td>null</td><td>null</td><td>null</td><td>31.25</td><td>null</td><td>null</td><td>22.65</td><td>null</td><td>null</td></tr><tr><td>&quot;Collage&quot;</td><td>null</td><td>2.1875</td><td>null</td><td>70.355261</td><td>null</td><td>null</td><td>103.505515</td><td>null</td><td>null</td></tr><tr><td>&quot;Graphic Design&quot;</td><td>null</td><td>0.0</td><td>null</td><td>326.597574</td><td>null</td><td>null</td><td>54.28382</td><td>null</td><td>null</td></tr><tr><td>&quot;Drawing&quot;</td><td>null</td><td>1.353477</td><td>72.246</td><td>43.344329</td><td>213.4</td><td>15.4223</td><td>45.738161</td><td>null</td><td>null</td></tr><tr><td>&quot;Film&quot;</td><td>null</td><td>5.89144</td><td>null</td><td>6.097442</td><td>0.0</td><td>null</td><td>10.666683</td><td>null</td><td>31653.865471</td></tr></tbody></table></div>"
      ],
      "text/plain": [
       "shape: (32, 10)\n",
       "┌───────────┬───────────┬───────────┬───────────┬───┬───────────┬───────────┬───────────┬──────────┐\n",
       "│ Classific ┆ Mean Circ ┆ Mean      ┆ Mean      ┆ … ┆ Mean      ┆ Mean      ┆ Mean Seat ┆ Mean     │\n",
       "│ ation     ┆ umference ┆ Depth     ┆ Diameter  ┆   ┆ Weight    ┆ Width     ┆ Height    ┆ Duration │\n",
       "│ ---       ┆ (cm)      ┆ (cm)      ┆ (cm)      ┆   ┆ (kg)      ┆ (cm)      ┆ (cm)      ┆ (sec.)   │\n",
       "│ str       ┆ ---       ┆ ---       ┆ ---       ┆   ┆ ---       ┆ ---       ┆ ---       ┆ ---      │\n",
       "│           ┆ f64       ┆ f64       ┆ f64       ┆   ┆ f64       ┆ f64       ┆ f64       ┆ f64      │\n",
       "╞═══════════╪═══════════╪═══════════╪═══════════╪═══╪═══════════╪═══════════╪═══════════╪══════════╡\n",
       "│ Photograp ┆ null      ┆ null      ┆ null      ┆ … ┆ null      ┆ 34.8      ┆ null      ┆ 6120.0   │\n",
       "│ hy Resear ┆           ┆           ┆           ┆   ┆           ┆           ┆           ┆          │\n",
       "│ ch/Refere ┆           ┆           ┆           ┆   ┆           ┆           ┆           ┆          │\n",
       "│ nce       ┆           ┆           ┆           ┆   ┆           ┆           ┆           ┆          │\n",
       "│ Sculpture ┆ null      ┆ 57.139591 ┆ 106.08507 ┆ … ┆ 1387.6321 ┆ 103.90752 ┆ null      ┆ 1860.0   │\n",
       "│           ┆           ┆           ┆ 9         ┆   ┆ 47        ┆ 7         ┆           ┆          │\n",
       "│ Architect ┆ null      ┆ 39.439213 ┆ 47.879818 ┆ … ┆ 11.04081  ┆ 59.985583 ┆ null      ┆ 2160.461 │\n",
       "│ ure       ┆           ┆           ┆           ┆   ┆           ┆           ┆           ┆ 538      │\n",
       "│ Media     ┆ null      ┆ 1.696429  ┆ null      ┆ … ┆ null      ┆ 13.668966 ┆ null      ┆ null     │\n",
       "│ Photograp ┆ null      ┆ 3.372236  ┆ 8.041579  ┆ … ┆ 226.79851 ┆ 31.585365 ┆ null      ┆ 280.0    │\n",
       "│ h         ┆           ┆           ┆           ┆   ┆ 2         ┆           ┆           ┆          │\n",
       "│ …         ┆ …         ┆ …         ┆ …         ┆ … ┆ …         ┆ …         ┆ …         ┆ …        │\n",
       "│ Publicati ┆ null      ┆ null      ┆ null      ┆ … ┆ null      ┆ 22.65     ┆ null      ┆ null     │\n",
       "│ on        ┆           ┆           ┆           ┆   ┆           ┆           ┆           ┆          │\n",
       "│ Collage   ┆ null      ┆ 2.1875    ┆ null      ┆ … ┆ null      ┆ 103.50551 ┆ null      ┆ null     │\n",
       "│           ┆           ┆           ┆           ┆   ┆           ┆ 5         ┆           ┆          │\n",
       "│ Graphic   ┆ null      ┆ 0.0       ┆ null      ┆ … ┆ null      ┆ 54.28382  ┆ null      ┆ null     │\n",
       "│ Design    ┆           ┆           ┆           ┆   ┆           ┆           ┆           ┆          │\n",
       "│ Drawing   ┆ null      ┆ 1.353477  ┆ 72.246    ┆ … ┆ 15.4223   ┆ 45.738161 ┆ null      ┆ null     │\n",
       "│ Film      ┆ null      ┆ 5.89144   ┆ null      ┆ … ┆ null      ┆ 10.666683 ┆ null      ┆ 31653.86 │\n",
       "│           ┆           ┆           ┆           ┆   ┆           ┆           ┆           ┆ 5471     │\n",
       "└───────────┴───────────┴───────────┴───────────┴───┴───────────┴───────────┴───────────┴──────────┘"
      ]
     },
     "execution_count": 9,
     "metadata": {},
     "output_type": "execute_result"
    }
   ],
   "source": [
    "# Input a list of expressions\n",
    "(artwork\n",
    " .group_by('Classification')\n",
    " .agg([compute_mean(c) for c in artwork.columns if c.endswith(')')]\n",
    "     )\n",
    ")"
   ]
  },
  {
   "cell_type": "code",
   "execution_count": 10,
   "metadata": {},
   "outputs": [
    {
     "data": {
      "text/html": [
       "<div><style>\n",
       ".dataframe > thead > tr,\n",
       ".dataframe > tbody > tr {\n",
       "  text-align: right;\n",
       "  white-space: pre-wrap;\n",
       "}\n",
       "</style>\n",
       "<small>shape: (32, 10)</small><table border=\"1\" class=\"dataframe\"><thead><tr><th>Classification</th><th>Mean Circumference (cm)</th><th>Mean Depth (cm)</th><th>Mean Diameter (cm)</th><th>Mean Height (cm)</th><th>Mean Length (cm)</th><th>Mean Weight (kg)</th><th>Mean Width (cm)</th><th>Mean Seat Height (cm)</th><th>Mean Duration (sec.)</th></tr><tr><td>str</td><td>f64</td><td>f64</td><td>f64</td><td>f64</td><td>f64</td><td>f64</td><td>f64</td><td>f64</td><td>f64</td></tr></thead><tbody><tr><td>&quot;Architectural Model&quot;</td><td>NaN</td><td>8.890018</td><td>NaN</td><td>44.450089</td><td>NaN</td><td>NaN</td><td>44.450089</td><td>NaN</td><td>NaN</td></tr><tr><td>&quot;Film&quot;</td><td>NaN</td><td>5.89144</td><td>NaN</td><td>6.097442</td><td>0.0</td><td>NaN</td><td>10.666683</td><td>NaN</td><td>31653.865471</td></tr><tr><td>&quot;Graphic Design&quot;</td><td>NaN</td><td>0.0</td><td>NaN</td><td>326.597574</td><td>NaN</td><td>NaN</td><td>54.28382</td><td>NaN</td><td>NaN</td></tr><tr><td>&quot;Photography Research/Reference&quot;</td><td>NaN</td><td>NaN</td><td>NaN</td><td>45.55</td><td>NaN</td><td>NaN</td><td>34.8</td><td>NaN</td><td>6120.0</td></tr><tr><td>&quot;Ephemera&quot;</td><td>NaN</td><td>1.322905</td><td>4.75</td><td>27.317681</td><td>25.08255</td><td>NaN</td><td>24.492504</td><td>NaN</td><td>NaN</td></tr><tr><td>&hellip;</td><td>&hellip;</td><td>&hellip;</td><td>&hellip;</td><td>&hellip;</td><td>&hellip;</td><td>&hellip;</td><td>&hellip;</td><td>&hellip;</td><td>&hellip;</td></tr><tr><td>&quot;Work on Paper&quot;</td><td>NaN</td><td>1.209352</td><td>NaN</td><td>83.666016</td><td>NaN</td><td>NaN</td><td>78.392955</td><td>NaN</td><td>NaN</td></tr><tr><td>&quot;Drawing&quot;</td><td>NaN</td><td>1.353477</td><td>72.246</td><td>43.344329</td><td>213.4</td><td>15.4223</td><td>45.738161</td><td>NaN</td><td>NaN</td></tr><tr><td>&quot;Film (object)&quot;</td><td>NaN</td><td>NaN</td><td>NaN</td><td>8.7</td><td>NaN</td><td>NaN</td><td>9.4</td><td>NaN</td><td>NaN</td></tr><tr><td>&quot;Frank Lloyd Wright Archive&quot;</td><td>NaN</td><td>3.738871</td><td>26.670053</td><td>55.780718</td><td>NaN</td><td>NaN</td><td>70.306716</td><td>NaN</td><td>NaN</td></tr><tr><td>&quot;Media&quot;</td><td>NaN</td><td>1.696429</td><td>NaN</td><td>12.47931</td><td>NaN</td><td>NaN</td><td>13.668966</td><td>NaN</td><td>NaN</td></tr></tbody></table></div>"
      ],
      "text/plain": [
       "shape: (32, 10)\n",
       "┌───────────┬───────────┬───────────┬───────────┬───┬───────────┬───────────┬───────────┬──────────┐\n",
       "│ Classific ┆ Mean Circ ┆ Mean      ┆ Mean      ┆ … ┆ Mean      ┆ Mean      ┆ Mean Seat ┆ Mean     │\n",
       "│ ation     ┆ umference ┆ Depth     ┆ Diameter  ┆   ┆ Weight    ┆ Width     ┆ Height    ┆ Duration │\n",
       "│ ---       ┆ (cm)      ┆ (cm)      ┆ (cm)      ┆   ┆ (kg)      ┆ (cm)      ┆ (cm)      ┆ (sec.)   │\n",
       "│ str       ┆ ---       ┆ ---       ┆ ---       ┆   ┆ ---       ┆ ---       ┆ ---       ┆ ---      │\n",
       "│           ┆ f64       ┆ f64       ┆ f64       ┆   ┆ f64       ┆ f64       ┆ f64       ┆ f64      │\n",
       "╞═══════════╪═══════════╪═══════════╪═══════════╪═══╪═══════════╪═══════════╪═══════════╪══════════╡\n",
       "│ Architect ┆ NaN       ┆ 8.890018  ┆ NaN       ┆ … ┆ NaN       ┆ 44.450089 ┆ NaN       ┆ NaN      │\n",
       "│ ural      ┆           ┆           ┆           ┆   ┆           ┆           ┆           ┆          │\n",
       "│ Model     ┆           ┆           ┆           ┆   ┆           ┆           ┆           ┆          │\n",
       "│ Film      ┆ NaN       ┆ 5.89144   ┆ NaN       ┆ … ┆ NaN       ┆ 10.666683 ┆ NaN       ┆ 31653.86 │\n",
       "│           ┆           ┆           ┆           ┆   ┆           ┆           ┆           ┆ 5471     │\n",
       "│ Graphic   ┆ NaN       ┆ 0.0       ┆ NaN       ┆ … ┆ NaN       ┆ 54.28382  ┆ NaN       ┆ NaN      │\n",
       "│ Design    ┆           ┆           ┆           ┆   ┆           ┆           ┆           ┆          │\n",
       "│ Photograp ┆ NaN       ┆ NaN       ┆ NaN       ┆ … ┆ NaN       ┆ 34.8      ┆ NaN       ┆ 6120.0   │\n",
       "│ hy Resear ┆           ┆           ┆           ┆   ┆           ┆           ┆           ┆          │\n",
       "│ ch/Refere ┆           ┆           ┆           ┆   ┆           ┆           ┆           ┆          │\n",
       "│ nce       ┆           ┆           ┆           ┆   ┆           ┆           ┆           ┆          │\n",
       "│ Ephemera  ┆ NaN       ┆ 1.322905  ┆ 4.75      ┆ … ┆ NaN       ┆ 24.492504 ┆ NaN       ┆ NaN      │\n",
       "│ …         ┆ …         ┆ …         ┆ …         ┆ … ┆ …         ┆ …         ┆ …         ┆ …        │\n",
       "│ Work on   ┆ NaN       ┆ 1.209352  ┆ NaN       ┆ … ┆ NaN       ┆ 78.392955 ┆ NaN       ┆ NaN      │\n",
       "│ Paper     ┆           ┆           ┆           ┆   ┆           ┆           ┆           ┆          │\n",
       "│ Drawing   ┆ NaN       ┆ 1.353477  ┆ 72.246    ┆ … ┆ 15.4223   ┆ 45.738161 ┆ NaN       ┆ NaN      │\n",
       "│ Film      ┆ NaN       ┆ NaN       ┆ NaN       ┆ … ┆ NaN       ┆ 9.4       ┆ NaN       ┆ NaN      │\n",
       "│ (object)  ┆           ┆           ┆           ┆   ┆           ┆           ┆           ┆          │\n",
       "│ Frank     ┆ NaN       ┆ 3.738871  ┆ 26.670053 ┆ … ┆ NaN       ┆ 70.306716 ┆ NaN       ┆ NaN      │\n",
       "│ Lloyd     ┆           ┆           ┆           ┆   ┆           ┆           ┆           ┆          │\n",
       "│ Wright    ┆           ┆           ┆           ┆   ┆           ┆           ┆           ┆          │\n",
       "│ Archive   ┆           ┆           ┆           ┆   ┆           ┆           ┆           ┆          │\n",
       "│ Media     ┆ NaN       ┆ 1.696429  ┆ NaN       ┆ … ┆ NaN       ┆ 13.668966 ┆ NaN       ┆ NaN      │\n",
       "└───────────┴───────────┴───────────┴───────────┴───┴───────────┴───────────┴───────────┴──────────┘"
      ]
     },
     "execution_count": 10,
     "metadata": {},
     "output_type": "execute_result"
    }
   ],
   "source": [
    "# Unpacking positional arguments\n",
    "(artwork\n",
    " .group_by('Classification')\n",
    " .agg(*[compute_mean(c) for c in artwork.columns if c.endswith(')')]\n",
    "     )\n",
    ")"
   ]
  },
  {
   "cell_type": "code",
   "execution_count": 11,
   "metadata": {},
   "outputs": [],
   "source": [
    "dimension_col_means = lambda df: [compute_mean(c) for c in df.columns if c.endswith(')')]"
   ]
  },
  {
   "cell_type": "code",
   "execution_count": 12,
   "metadata": {},
   "outputs": [
    {
     "data": {
      "text/html": [
       "<div><style>\n",
       ".dataframe > thead > tr,\n",
       ".dataframe > tbody > tr {\n",
       "  text-align: right;\n",
       "  white-space: pre-wrap;\n",
       "}\n",
       "</style>\n",
       "<small>shape: (32, 10)</small><table border=\"1\" class=\"dataframe\"><thead><tr><th>Classification</th><th>Mean Circumference (cm)</th><th>Mean Depth (cm)</th><th>Mean Diameter (cm)</th><th>Mean Height (cm)</th><th>Mean Length (cm)</th><th>Mean Weight (kg)</th><th>Mean Width (cm)</th><th>Mean Seat Height (cm)</th><th>Mean Duration (sec.)</th></tr><tr><td>str</td><td>f64</td><td>f64</td><td>f64</td><td>f64</td><td>f64</td><td>f64</td><td>f64</td><td>f64</td><td>f64</td></tr></thead><tbody><tr><td>&quot;Collage&quot;</td><td>null</td><td>2.1875</td><td>null</td><td>70.355261</td><td>null</td><td>null</td><td>103.505515</td><td>null</td><td>null</td></tr><tr><td>&quot;Graphic Design&quot;</td><td>null</td><td>0.0</td><td>null</td><td>326.597574</td><td>null</td><td>null</td><td>54.28382</td><td>null</td><td>null</td></tr><tr><td>&quot;Software&quot;</td><td>null</td><td>null</td><td>null</td><td>null</td><td>null</td><td>null</td><td>null</td><td>null</td><td>null</td></tr><tr><td>&quot;Architecture&quot;</td><td>null</td><td>39.439213</td><td>47.879818</td><td>46.990801</td><td>145.520935</td><td>11.04081</td><td>59.985583</td><td>null</td><td>2160.461538</td></tr><tr><td>&quot;Painting&quot;</td><td>null</td><td>8.087142</td><td>138.357934</td><td>122.422894</td><td>null</td><td>96.285524</td><td>130.379904</td><td>null</td><td>null</td></tr><tr><td>&hellip;</td><td>&hellip;</td><td>&hellip;</td><td>&hellip;</td><td>&hellip;</td><td>&hellip;</td><td>&hellip;</td><td>&hellip;</td><td>&hellip;</td><td>&hellip;</td></tr><tr><td>&quot;Multiple&quot;</td><td>29.516667</td><td>7.796307</td><td>9.303058</td><td>19.382265</td><td>26.65</td><td>2.783105</td><td>20.988888</td><td>null</td><td>60.0</td></tr><tr><td>&quot;Photography Research/Reference&quot;</td><td>null</td><td>null</td><td>null</td><td>45.55</td><td>null</td><td>null</td><td>34.8</td><td>null</td><td>6120.0</td></tr><tr><td>&quot;Installation&quot;</td><td>null</td><td>70.281632</td><td>136.220202</td><td>111.509097</td><td>582.520444</td><td>317.517917</td><td>116.929314</td><td>null</td><td>4917.898089</td></tr><tr><td>&quot;Media&quot;</td><td>null</td><td>1.696429</td><td>null</td><td>12.47931</td><td>null</td><td>null</td><td>13.668966</td><td>null</td><td>null</td></tr><tr><td>&quot;Textile&quot;</td><td>null</td><td>8.724003</td><td>null</td><td>108.386216</td><td>103.0</td><td>null</td><td>118.780417</td><td>null</td><td>null</td></tr></tbody></table></div>"
      ],
      "text/plain": [
       "shape: (32, 10)\n",
       "┌───────────┬───────────┬───────────┬───────────┬───┬───────────┬───────────┬───────────┬──────────┐\n",
       "│ Classific ┆ Mean Circ ┆ Mean      ┆ Mean      ┆ … ┆ Mean      ┆ Mean      ┆ Mean Seat ┆ Mean     │\n",
       "│ ation     ┆ umference ┆ Depth     ┆ Diameter  ┆   ┆ Weight    ┆ Width     ┆ Height    ┆ Duration │\n",
       "│ ---       ┆ (cm)      ┆ (cm)      ┆ (cm)      ┆   ┆ (kg)      ┆ (cm)      ┆ (cm)      ┆ (sec.)   │\n",
       "│ str       ┆ ---       ┆ ---       ┆ ---       ┆   ┆ ---       ┆ ---       ┆ ---       ┆ ---      │\n",
       "│           ┆ f64       ┆ f64       ┆ f64       ┆   ┆ f64       ┆ f64       ┆ f64       ┆ f64      │\n",
       "╞═══════════╪═══════════╪═══════════╪═══════════╪═══╪═══════════╪═══════════╪═══════════╪══════════╡\n",
       "│ Collage   ┆ null      ┆ 2.1875    ┆ null      ┆ … ┆ null      ┆ 103.50551 ┆ null      ┆ null     │\n",
       "│           ┆           ┆           ┆           ┆   ┆           ┆ 5         ┆           ┆          │\n",
       "│ Graphic   ┆ null      ┆ 0.0       ┆ null      ┆ … ┆ null      ┆ 54.28382  ┆ null      ┆ null     │\n",
       "│ Design    ┆           ┆           ┆           ┆   ┆           ┆           ┆           ┆          │\n",
       "│ Software  ┆ null      ┆ null      ┆ null      ┆ … ┆ null      ┆ null      ┆ null      ┆ null     │\n",
       "│ Architect ┆ null      ┆ 39.439213 ┆ 47.879818 ┆ … ┆ 11.04081  ┆ 59.985583 ┆ null      ┆ 2160.461 │\n",
       "│ ure       ┆           ┆           ┆           ┆   ┆           ┆           ┆           ┆ 538      │\n",
       "│ Painting  ┆ null      ┆ 8.087142  ┆ 138.35793 ┆ … ┆ 96.285524 ┆ 130.37990 ┆ null      ┆ null     │\n",
       "│           ┆           ┆           ┆ 4         ┆   ┆           ┆ 4         ┆           ┆          │\n",
       "│ …         ┆ …         ┆ …         ┆ …         ┆ … ┆ …         ┆ …         ┆ …         ┆ …        │\n",
       "│ Multiple  ┆ 29.516667 ┆ 7.796307  ┆ 9.303058  ┆ … ┆ 2.783105  ┆ 20.988888 ┆ null      ┆ 60.0     │\n",
       "│ Photograp ┆ null      ┆ null      ┆ null      ┆ … ┆ null      ┆ 34.8      ┆ null      ┆ 6120.0   │\n",
       "│ hy Resear ┆           ┆           ┆           ┆   ┆           ┆           ┆           ┆          │\n",
       "│ ch/Refere ┆           ┆           ┆           ┆   ┆           ┆           ┆           ┆          │\n",
       "│ nce       ┆           ┆           ┆           ┆   ┆           ┆           ┆           ┆          │\n",
       "│ Installat ┆ null      ┆ 70.281632 ┆ 136.22020 ┆ … ┆ 317.51791 ┆ 116.92931 ┆ null      ┆ 4917.898 │\n",
       "│ ion       ┆           ┆           ┆ 2         ┆   ┆ 7         ┆ 4         ┆           ┆ 089      │\n",
       "│ Media     ┆ null      ┆ 1.696429  ┆ null      ┆ … ┆ null      ┆ 13.668966 ┆ null      ┆ null     │\n",
       "│ Textile   ┆ null      ┆ 8.724003  ┆ null      ┆ … ┆ null      ┆ 118.78041 ┆ null      ┆ null     │\n",
       "│           ┆           ┆           ┆           ┆   ┆           ┆ 7         ┆           ┆          │\n",
       "└───────────┴───────────┴───────────┴───────────┴───┴───────────┴───────────┴───────────┴──────────┘"
      ]
     },
     "execution_count": 12,
     "metadata": {},
     "output_type": "execute_result"
    }
   ],
   "source": [
    "# List of input expressions\n",
    "(artwork\n",
    " .group_by('Classification')\n",
    " .agg(dimension_col_means(artwork)\n",
    "     )\n",
    ")"
   ]
  },
  {
   "cell_type": "code",
   "execution_count": 13,
   "metadata": {},
   "outputs": [
    {
     "data": {
      "text/html": [
       "<div><style>\n",
       ".dataframe > thead > tr,\n",
       ".dataframe > tbody > tr {\n",
       "  text-align: right;\n",
       "  white-space: pre-wrap;\n",
       "}\n",
       "</style>\n",
       "<small>shape: (32, 10)</small><table border=\"1\" class=\"dataframe\"><thead><tr><th>Classification</th><th>Mean Circumference (cm)</th><th>Mean Depth (cm)</th><th>Mean Diameter (cm)</th><th>Mean Height (cm)</th><th>Mean Length (cm)</th><th>Mean Weight (kg)</th><th>Mean Width (cm)</th><th>Mean Seat Height (cm)</th><th>Mean Duration (sec.)</th></tr><tr><td>str</td><td>f64</td><td>f64</td><td>f64</td><td>f64</td><td>f64</td><td>f64</td><td>f64</td><td>f64</td><td>f64</td></tr></thead><tbody><tr><td>&quot;Sculpture&quot;</td><td>NaN</td><td>57.139591</td><td>106.085079</td><td>105.494561</td><td>465.3702</td><td>1387.632147</td><td>103.907527</td><td>NaN</td><td>1860.0</td></tr><tr><td>&quot;Film (object)&quot;</td><td>NaN</td><td>NaN</td><td>NaN</td><td>8.7</td><td>NaN</td><td>NaN</td><td>9.4</td><td>NaN</td><td>NaN</td></tr><tr><td>&quot;Film&quot;</td><td>NaN</td><td>5.89144</td><td>NaN</td><td>6.097442</td><td>0.0</td><td>NaN</td><td>10.666683</td><td>NaN</td><td>31653.865471</td></tr><tr><td>&quot;Digital&quot;</td><td>NaN</td><td>NaN</td><td>NaN</td><td>NaN</td><td>NaN</td><td>NaN</td><td>NaN</td><td>NaN</td><td>4590.0</td></tr><tr><td>&quot;Mies van der Rohe Archive&quot;</td><td>NaN</td><td>22.5</td><td>NaN</td><td>41.44568</td><td>NaN</td><td>90.7194</td><td>56.195844</td><td>NaN</td><td>NaN</td></tr><tr><td>&hellip;</td><td>&hellip;</td><td>&hellip;</td><td>&hellip;</td><td>&hellip;</td><td>&hellip;</td><td>&hellip;</td><td>&hellip;</td><td>&hellip;</td><td>&hellip;</td></tr><tr><td>&quot;Audio&quot;</td><td>NaN</td><td>0.17894</td><td>19.685039</td><td>11.84564</td><td>NaN</td><td>NaN</td><td>11.942762</td><td>NaN</td><td>1327.666667</td></tr><tr><td>&quot;Architectural Model&quot;</td><td>NaN</td><td>8.890018</td><td>NaN</td><td>44.450089</td><td>NaN</td><td>NaN</td><td>44.450089</td><td>NaN</td><td>NaN</td></tr><tr><td>&quot;Print&quot;</td><td>38.0</td><td>1.716388</td><td>49.066169</td><td>40.158467</td><td>14.5</td><td>1.5</td><td>37.848143</td><td>NaN</td><td>0.0</td></tr><tr><td>&quot;Media&quot;</td><td>NaN</td><td>1.696429</td><td>NaN</td><td>12.47931</td><td>NaN</td><td>NaN</td><td>13.668966</td><td>NaN</td><td>NaN</td></tr><tr><td>&quot;Publication&quot;</td><td>NaN</td><td>NaN</td><td>NaN</td><td>31.25</td><td>NaN</td><td>NaN</td><td>22.65</td><td>NaN</td><td>NaN</td></tr></tbody></table></div>"
      ],
      "text/plain": [
       "shape: (32, 10)\n",
       "┌───────────┬───────────┬───────────┬───────────┬───┬───────────┬───────────┬───────────┬──────────┐\n",
       "│ Classific ┆ Mean Circ ┆ Mean      ┆ Mean      ┆ … ┆ Mean      ┆ Mean      ┆ Mean Seat ┆ Mean     │\n",
       "│ ation     ┆ umference ┆ Depth     ┆ Diameter  ┆   ┆ Weight    ┆ Width     ┆ Height    ┆ Duration │\n",
       "│ ---       ┆ (cm)      ┆ (cm)      ┆ (cm)      ┆   ┆ (kg)      ┆ (cm)      ┆ (cm)      ┆ (sec.)   │\n",
       "│ str       ┆ ---       ┆ ---       ┆ ---       ┆   ┆ ---       ┆ ---       ┆ ---       ┆ ---      │\n",
       "│           ┆ f64       ┆ f64       ┆ f64       ┆   ┆ f64       ┆ f64       ┆ f64       ┆ f64      │\n",
       "╞═══════════╪═══════════╪═══════════╪═══════════╪═══╪═══════════╪═══════════╪═══════════╪══════════╡\n",
       "│ Sculpture ┆ NaN       ┆ 57.139591 ┆ 106.08507 ┆ … ┆ 1387.6321 ┆ 103.90752 ┆ NaN       ┆ 1860.0   │\n",
       "│           ┆           ┆           ┆ 9         ┆   ┆ 47        ┆ 7         ┆           ┆          │\n",
       "│ Film      ┆ NaN       ┆ NaN       ┆ NaN       ┆ … ┆ NaN       ┆ 9.4       ┆ NaN       ┆ NaN      │\n",
       "│ (object)  ┆           ┆           ┆           ┆   ┆           ┆           ┆           ┆          │\n",
       "│ Film      ┆ NaN       ┆ 5.89144   ┆ NaN       ┆ … ┆ NaN       ┆ 10.666683 ┆ NaN       ┆ 31653.86 │\n",
       "│           ┆           ┆           ┆           ┆   ┆           ┆           ┆           ┆ 5471     │\n",
       "│ Digital   ┆ NaN       ┆ NaN       ┆ NaN       ┆ … ┆ NaN       ┆ NaN       ┆ NaN       ┆ 4590.0   │\n",
       "│ Mies van  ┆ NaN       ┆ 22.5      ┆ NaN       ┆ … ┆ 90.7194   ┆ 56.195844 ┆ NaN       ┆ NaN      │\n",
       "│ der Rohe  ┆           ┆           ┆           ┆   ┆           ┆           ┆           ┆          │\n",
       "│ Archive   ┆           ┆           ┆           ┆   ┆           ┆           ┆           ┆          │\n",
       "│ …         ┆ …         ┆ …         ┆ …         ┆ … ┆ …         ┆ …         ┆ …         ┆ …        │\n",
       "│ Audio     ┆ NaN       ┆ 0.17894   ┆ 19.685039 ┆ … ┆ NaN       ┆ 11.942762 ┆ NaN       ┆ 1327.666 │\n",
       "│           ┆           ┆           ┆           ┆   ┆           ┆           ┆           ┆ 667      │\n",
       "│ Architect ┆ NaN       ┆ 8.890018  ┆ NaN       ┆ … ┆ NaN       ┆ 44.450089 ┆ NaN       ┆ NaN      │\n",
       "│ ural      ┆           ┆           ┆           ┆   ┆           ┆           ┆           ┆          │\n",
       "│ Model     ┆           ┆           ┆           ┆   ┆           ┆           ┆           ┆          │\n",
       "│ Print     ┆ 38.0      ┆ 1.716388  ┆ 49.066169 ┆ … ┆ 1.5       ┆ 37.848143 ┆ NaN       ┆ 0.0      │\n",
       "│ Media     ┆ NaN       ┆ 1.696429  ┆ NaN       ┆ … ┆ NaN       ┆ 13.668966 ┆ NaN       ┆ NaN      │\n",
       "│ Publicati ┆ NaN       ┆ NaN       ┆ NaN       ┆ … ┆ NaN       ┆ 22.65     ┆ NaN       ┆ NaN      │\n",
       "│ on        ┆           ┆           ┆           ┆   ┆           ┆           ┆           ┆          │\n",
       "└───────────┴───────────┴───────────┴───────────┴───┴───────────┴───────────┴───────────┴──────────┘"
      ]
     },
     "execution_count": 13,
     "metadata": {},
     "output_type": "execute_result"
    }
   ],
   "source": [
    "# Unpacking positional arguments\n",
    "(artwork\n",
    " .group_by('Classification')\n",
    " .agg(*dimension_col_means(artwork)\n",
    "     )\n",
    ")"
   ]
  },
  {
   "cell_type": "markdown",
   "metadata": {},
   "source": [
    "## <font color=\"red\"> Exercise 3.6</font>\n",
    "\n",
    "Now suppose that we want to compute both the mean and standard deviation of each dimension.  Perform this task using an approach to the one shown above, this the results as DRY as possible. **Hint.** You can add two lists of transformations."
   ]
  },
  {
   "cell_type": "code",
   "execution_count": 10,
   "metadata": {},
   "outputs": [],
   "source": [
    "# Your code here"
   ]
  }
 ],
 "metadata": {
  "kernelspec": {
   "display_name": "Python 3 (ipykernel)",
   "language": "python",
   "name": "python3"
  },
  "language_info": {
   "codemirror_mode": {
    "name": "ipython",
    "version": 3
   },
   "file_extension": ".py",
   "mimetype": "text/x-python",
   "name": "python",
   "nbconvert_exporter": "python",
   "pygments_lexer": "ipython3",
   "version": "3.12.5"
  },
  "varInspector": {
   "cols": {
    "lenName": 16,
    "lenType": 16,
    "lenVar": 40
   },
   "kernels_config": {
    "python": {
     "delete_cmd_postfix": "",
     "delete_cmd_prefix": "del ",
     "library": "var_list.py",
     "varRefreshCmd": "print(var_dic_list())"
    },
    "r": {
     "delete_cmd_postfix": ") ",
     "delete_cmd_prefix": "rm(",
     "library": "var_list.r",
     "varRefreshCmd": "cat(var_dic_list()) "
    }
   },
   "types_to_exclude": [
    "module",
    "function",
    "builtin_function_or_method",
    "instance",
    "_Feature"
   ],
   "window_display": false
  }
 },
 "nbformat": 4,
 "nbformat_minor": 4
}
