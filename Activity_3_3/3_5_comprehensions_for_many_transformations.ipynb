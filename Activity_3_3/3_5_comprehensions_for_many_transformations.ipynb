{
 "cells": [
  {
   "cell_type": "markdown",
   "metadata": {},
   "source": [
    "# Advanced Applications of Mutate\n",
    "\n",
    "## DRY and many transformations"
   ]
  },
  {
   "cell_type": "code",
   "execution_count": 57,
   "metadata": {},
   "outputs": [],
   "source": [
    "import polars as pl"
   ]
  },
  {
   "cell_type": "markdown",
   "metadata": {},
   "source": [
    "## Data set\n",
    "\n",
    "We will be using two of the data sets provided by the Museam of Modern Art (MoMA) in this lecture.  Make sure that you have downloaded each repository.  [Download Instructions](./get_MOMA_data.ipynb)"
   ]
  },
  {
   "cell_type": "code",
   "execution_count": 58,
   "metadata": {},
   "outputs": [
    {
     "data": {
      "text/html": [
       "<div><style>\n",
       ".dataframe > thead > tr,\n",
       ".dataframe > tbody > tr {\n",
       "  text-align: right;\n",
       "  white-space: pre-wrap;\n",
       "}\n",
       "</style>\n",
       "<small>shape: (34_558, 28)</small><table border=\"1\" class=\"dataframe\"><thead><tr><th>ExhibitionID</th><th>ExhibitionNumber</th><th>ExhibitionTitle</th><th>ExhibitionCitationDate</th><th>ExhibitionBeginDate</th><th>ExhibitionEndDate</th><th>ExhibitionSortOrder</th><th>ExhibitionURL</th><th>ExhibitionRole</th><th>ExhibitionRoleinPressRelease</th><th>ConstituentID</th><th>ConstituentType</th><th>DisplayName</th><th>AlphaSort</th><th>FirstName</th><th>MiddleName</th><th>LastName</th><th>Suffix</th><th>Institution</th><th>Nationality</th><th>ConstituentBeginDate</th><th>ConstituentEndDate</th><th>ArtistBio</th><th>Gender</th><th>VIAFID</th><th>WikidataID</th><th>ULANID</th><th>ConstituentURL</th></tr><tr><td>i64</td><td>str</td><td>str</td><td>str</td><td>str</td><td>str</td><td>f64</td><td>str</td><td>str</td><td>str</td><td>i64</td><td>str</td><td>str</td><td>str</td><td>str</td><td>str</td><td>str</td><td>str</td><td>str</td><td>str</td><td>i64</td><td>i64</td><td>str</td><td>str</td><td>i64</td><td>str</td><td>i64</td><td>str</td></tr></thead><tbody><tr><td>2557</td><td>&quot;1&quot;</td><td>&quot;CÈzanne, Gauguin, Seurat, Van …</td><td>&quot;[MoMA Exh. #1, November 7-Dece…</td><td>&quot;11/7/29&quot;</td><td>&quot;12/7/29&quot;</td><td>1.0</td><td>&quot;moma.org/calendar/exhibitions/…</td><td>&quot;Curator&quot;</td><td>&quot;Director&quot;</td><td>9168</td><td>&quot;Individual&quot;</td><td>&quot;Alfred H. Barr, Jr.&quot;</td><td>&quot;Barr Alfred H. Jr.&quot;</td><td>&quot;Alfred&quot;</td><td>&quot;H.&quot;</td><td>&quot;Barr&quot;</td><td>&quot;Jr.&quot;</td><td>null</td><td>&quot;American&quot;</td><td>1902</td><td>1981</td><td>&quot;American, 1902ñ1981&quot;</td><td>&quot;Male&quot;</td><td>109252853</td><td>&quot;Q711362&quot;</td><td>500241556</td><td>&quot;moma.org/artists/9168&quot;</td></tr><tr><td>2557</td><td>&quot;1&quot;</td><td>&quot;CÈzanne, Gauguin, Seurat, Van …</td><td>&quot;[MoMA Exh. #1, November 7-Dece…</td><td>&quot;11/7/29&quot;</td><td>&quot;12/7/29&quot;</td><td>1.0</td><td>&quot;moma.org/calendar/exhibitions/…</td><td>&quot;Artist&quot;</td><td>&quot;Artist&quot;</td><td>1053</td><td>&quot;Individual&quot;</td><td>&quot;Paul CÈzanne&quot;</td><td>&quot;CÈzanne Paul&quot;</td><td>&quot;Paul&quot;</td><td>null</td><td>&quot;CÈzanne&quot;</td><td>null</td><td>null</td><td>&quot;French&quot;</td><td>1839</td><td>1906</td><td>&quot;French, 1839ñ1906&quot;</td><td>&quot;Male&quot;</td><td>39374836</td><td>&quot;Q35548&quot;</td><td>500004793</td><td>&quot;moma.org/artists/1053&quot;</td></tr><tr><td>2557</td><td>&quot;1&quot;</td><td>&quot;CÈzanne, Gauguin, Seurat, Van …</td><td>&quot;[MoMA Exh. #1, November 7-Dece…</td><td>&quot;11/7/29&quot;</td><td>&quot;12/7/29&quot;</td><td>1.0</td><td>&quot;moma.org/calendar/exhibitions/…</td><td>&quot;Artist&quot;</td><td>&quot;Artist&quot;</td><td>2098</td><td>&quot;Individual&quot;</td><td>&quot;Paul Gauguin&quot;</td><td>&quot;Gauguin Paul&quot;</td><td>&quot;Paul&quot;</td><td>null</td><td>&quot;Gauguin&quot;</td><td>null</td><td>null</td><td>&quot;French&quot;</td><td>1848</td><td>1903</td><td>&quot;French, 1848ñ1903&quot;</td><td>&quot;Male&quot;</td><td>27064953</td><td>&quot;Q37693&quot;</td><td>500011421</td><td>&quot;moma.org/artists/2098&quot;</td></tr><tr><td>2557</td><td>&quot;1&quot;</td><td>&quot;CÈzanne, Gauguin, Seurat, Van …</td><td>&quot;[MoMA Exh. #1, November 7-Dece…</td><td>&quot;11/7/29&quot;</td><td>&quot;12/7/29&quot;</td><td>1.0</td><td>&quot;moma.org/calendar/exhibitions/…</td><td>&quot;Artist&quot;</td><td>&quot;Artist&quot;</td><td>2206</td><td>&quot;Individual&quot;</td><td>&quot;Vincent van Gogh&quot;</td><td>&quot;Gogh Vincent van&quot;</td><td>&quot;Vincent&quot;</td><td>null</td><td>&quot;van Gogh&quot;</td><td>null</td><td>null</td><td>&quot;Dutch&quot;</td><td>1853</td><td>1890</td><td>&quot;Dutch, 1853ñ1890&quot;</td><td>&quot;Male&quot;</td><td>9854560</td><td>&quot;Q5582&quot;</td><td>500115588</td><td>&quot;moma.org/artists/2206&quot;</td></tr><tr><td>2557</td><td>&quot;1&quot;</td><td>&quot;CÈzanne, Gauguin, Seurat, Van …</td><td>&quot;[MoMA Exh. #1, November 7-Dece…</td><td>&quot;11/7/29&quot;</td><td>&quot;12/7/29&quot;</td><td>1.0</td><td>&quot;moma.org/calendar/exhibitions/…</td><td>&quot;Artist&quot;</td><td>&quot;Artist&quot;</td><td>5358</td><td>&quot;Individual&quot;</td><td>&quot;Georges-Pierre Seurat&quot;</td><td>&quot;Seurat Georges-Pierre&quot;</td><td>&quot;Georges-Pierre&quot;</td><td>null</td><td>&quot;Seurat&quot;</td><td>null</td><td>null</td><td>&quot;French&quot;</td><td>1859</td><td>1891</td><td>&quot;French, 1859ñ1891&quot;</td><td>&quot;Male&quot;</td><td>24608076</td><td>&quot;Q34013&quot;</td><td>500008873</td><td>&quot;moma.org/artists/5358&quot;</td></tr><tr><td>&hellip;</td><td>&hellip;</td><td>&hellip;</td><td>&hellip;</td><td>&hellip;</td><td>&hellip;</td><td>&hellip;</td><td>&hellip;</td><td>&hellip;</td><td>&hellip;</td><td>&hellip;</td><td>&hellip;</td><td>&hellip;</td><td>&hellip;</td><td>&hellip;</td><td>&hellip;</td><td>&hellip;</td><td>&hellip;</td><td>&hellip;</td><td>&hellip;</td><td>&hellip;</td><td>&hellip;</td><td>&hellip;</td><td>&hellip;</td><td>&hellip;</td><td>&hellip;</td><td>&hellip;</td><td>&hellip;</td></tr><tr><td>288</td><td>&quot;1536&quot;</td><td>&quot;Recent Japanese Posters from t…</td><td>&quot;[MoMA Exh. #1536, December 9, …</td><td>&quot;12/9/89&quot;</td><td>&quot;4/16/90&quot;</td><td>1767.0</td><td>&quot;moma.org/calendar/exhibitions/…</td><td>&quot;Artist&quot;</td><td>&quot;Artist&quot;</td><td>6215</td><td>&quot;Individual&quot;</td><td>&quot;Aijiro Wakita&quot;</td><td>&quot;Wakita Aijiro&quot;</td><td>&quot;Aijiro&quot;</td><td>null</td><td>&quot;Wakita&quot;</td><td>null</td><td>null</td><td>&quot;Japanese&quot;</td><td>1942</td><td>null</td><td>&quot;Japanese, born 1942&quot;</td><td>&quot;Male&quot;</td><td>18484958</td><td>null</td><td>null</td><td>&quot;moma.org/artists/6215&quot;</td></tr><tr><td>288</td><td>&quot;1536&quot;</td><td>&quot;Recent Japanese Posters from t…</td><td>&quot;[MoMA Exh. #1536, December 9, …</td><td>&quot;12/9/89&quot;</td><td>&quot;4/16/90&quot;</td><td>1767.0</td><td>&quot;moma.org/calendar/exhibitions/…</td><td>&quot;Artist&quot;</td><td>&quot;Artist&quot;</td><td>6486</td><td>&quot;Individual&quot;</td><td>&quot;Yoji Yamamoto&quot;</td><td>&quot;Yamamoto Yoji&quot;</td><td>&quot;Yoji&quot;</td><td>null</td><td>&quot;Yamamoto&quot;</td><td>null</td><td>null</td><td>&quot;Japanese&quot;</td><td>1943</td><td>null</td><td>&quot;Japanese, born 1943&quot;</td><td>&quot;Male&quot;</td><td>null</td><td>null</td><td>null</td><td>&quot;moma.org/artists/6486&quot;</td></tr><tr><td>288</td><td>&quot;1536&quot;</td><td>&quot;Recent Japanese Posters from t…</td><td>&quot;[MoMA Exh. #1536, December 9, …</td><td>&quot;12/9/89&quot;</td><td>&quot;4/16/90&quot;</td><td>1767.0</td><td>&quot;moma.org/calendar/exhibitions/…</td><td>&quot;Artist&quot;</td><td>&quot;Artist&quot;</td><td>6487</td><td>&quot;Individual&quot;</td><td>&quot;Ryuichi Yamashiro&quot;</td><td>&quot;Yamashiro Ryuichi&quot;</td><td>&quot;Ryuichi&quot;</td><td>null</td><td>&quot;Yamashiro&quot;</td><td>null</td><td>null</td><td>&quot;Japanese&quot;</td><td>1920</td><td>null</td><td>&quot;Japanese, born 1920&quot;</td><td>&quot;Male&quot;</td><td>119202488</td><td>&quot;Q2178400&quot;</td><td>null</td><td>&quot;moma.org/artists/6487&quot;</td></tr><tr><td>288</td><td>&quot;1536&quot;</td><td>&quot;Recent Japanese Posters from t…</td><td>&quot;[MoMA Exh. #1536, December 9, …</td><td>&quot;12/9/89&quot;</td><td>&quot;4/16/90&quot;</td><td>1767.0</td><td>&quot;moma.org/calendar/exhibitions/…</td><td>&quot;Artist&quot;</td><td>&quot;Artist&quot;</td><td>6502</td><td>&quot;Individual&quot;</td><td>&quot;Tadanori Yokoo&quot;</td><td>&quot;Yokoo Tadanori&quot;</td><td>&quot;Tadanori&quot;</td><td>null</td><td>&quot;Yokoo&quot;</td><td>null</td><td>null</td><td>&quot;Japanese&quot;</td><td>1936</td><td>null</td><td>&quot;Japanese, born 1936&quot;</td><td>&quot;Male&quot;</td><td>96086073</td><td>&quot;Q3513688&quot;</td><td>500060125</td><td>&quot;moma.org/artists/6502&quot;</td></tr><tr><td>3367</td><td>&quot;1537&quot;</td><td>&quot;Directed by Vincente Minnelli&quot;</td><td>&quot;[MoMA Exh. #1537, December 15,…</td><td>&quot;12/15/89&quot;</td><td>&quot;1/28/90&quot;</td><td>1768.0</td><td>&quot;moma.org/calendar/exhibitions/…</td><td>&quot;Curator&quot;</td><td>&quot;Organizer&quot;</td><td>25529</td><td>&quot;Individual&quot;</td><td>&quot;Mary Corliss&quot;</td><td>&quot;Corliss Mary&quot;</td><td>&quot;Mary&quot;</td><td>null</td><td>&quot;Corliss&quot;</td><td>null</td><td>null</td><td>null</td><td>null</td><td>null</td><td>null</td><td>null</td><td>250655373</td><td>null</td><td>null</td><td>&quot;moma.org/artists/25529&quot;</td></tr></tbody></table></div>"
      ],
      "text/plain": [
       "shape: (34_558, 28)\n",
       "┌───────────┬───────────┬───────────┬───────────┬───┬───────────┬───────────┬───────────┬──────────┐\n",
       "│ Exhibitio ┆ Exhibitio ┆ Exhibitio ┆ Exhibitio ┆ … ┆ VIAFID    ┆ WikidataI ┆ ULANID    ┆ Constitu │\n",
       "│ nID       ┆ nNumber   ┆ nTitle    ┆ nCitation ┆   ┆ ---       ┆ D         ┆ ---       ┆ entURL   │\n",
       "│ ---       ┆ ---       ┆ ---       ┆ Date      ┆   ┆ i64       ┆ ---       ┆ i64       ┆ ---      │\n",
       "│ i64       ┆ str       ┆ str       ┆ ---       ┆   ┆           ┆ str       ┆           ┆ str      │\n",
       "│           ┆           ┆           ┆ str       ┆   ┆           ┆           ┆           ┆          │\n",
       "╞═══════════╪═══════════╪═══════════╪═══════════╪═══╪═══════════╪═══════════╪═══════════╪══════════╡\n",
       "│ 2557      ┆ 1         ┆ CÈzanne,  ┆ [MoMA     ┆ … ┆ 109252853 ┆ Q711362   ┆ 500241556 ┆ moma.org │\n",
       "│           ┆           ┆ Gauguin,  ┆ Exh. #1,  ┆   ┆           ┆           ┆           ┆ /artists │\n",
       "│           ┆           ┆ Seurat,   ┆ November  ┆   ┆           ┆           ┆           ┆ /9168    │\n",
       "│           ┆           ┆ Van …     ┆ 7-Dece…   ┆   ┆           ┆           ┆           ┆          │\n",
       "│ 2557      ┆ 1         ┆ CÈzanne,  ┆ [MoMA     ┆ … ┆ 39374836  ┆ Q35548    ┆ 500004793 ┆ moma.org │\n",
       "│           ┆           ┆ Gauguin,  ┆ Exh. #1,  ┆   ┆           ┆           ┆           ┆ /artists │\n",
       "│           ┆           ┆ Seurat,   ┆ November  ┆   ┆           ┆           ┆           ┆ /1053    │\n",
       "│           ┆           ┆ Van …     ┆ 7-Dece…   ┆   ┆           ┆           ┆           ┆          │\n",
       "│ 2557      ┆ 1         ┆ CÈzanne,  ┆ [MoMA     ┆ … ┆ 27064953  ┆ Q37693    ┆ 500011421 ┆ moma.org │\n",
       "│           ┆           ┆ Gauguin,  ┆ Exh. #1,  ┆   ┆           ┆           ┆           ┆ /artists │\n",
       "│           ┆           ┆ Seurat,   ┆ November  ┆   ┆           ┆           ┆           ┆ /2098    │\n",
       "│           ┆           ┆ Van …     ┆ 7-Dece…   ┆   ┆           ┆           ┆           ┆          │\n",
       "│ 2557      ┆ 1         ┆ CÈzanne,  ┆ [MoMA     ┆ … ┆ 9854560   ┆ Q5582     ┆ 500115588 ┆ moma.org │\n",
       "│           ┆           ┆ Gauguin,  ┆ Exh. #1,  ┆   ┆           ┆           ┆           ┆ /artists │\n",
       "│           ┆           ┆ Seurat,   ┆ November  ┆   ┆           ┆           ┆           ┆ /2206    │\n",
       "│           ┆           ┆ Van …     ┆ 7-Dece…   ┆   ┆           ┆           ┆           ┆          │\n",
       "│ 2557      ┆ 1         ┆ CÈzanne,  ┆ [MoMA     ┆ … ┆ 24608076  ┆ Q34013    ┆ 500008873 ┆ moma.org │\n",
       "│           ┆           ┆ Gauguin,  ┆ Exh. #1,  ┆   ┆           ┆           ┆           ┆ /artists │\n",
       "│           ┆           ┆ Seurat,   ┆ November  ┆   ┆           ┆           ┆           ┆ /5358    │\n",
       "│           ┆           ┆ Van …     ┆ 7-Dece…   ┆   ┆           ┆           ┆           ┆          │\n",
       "│ …         ┆ …         ┆ …         ┆ …         ┆ … ┆ …         ┆ …         ┆ …         ┆ …        │\n",
       "│ 288       ┆ 1536      ┆ Recent    ┆ [MoMA     ┆ … ┆ 18484958  ┆ null      ┆ null      ┆ moma.org │\n",
       "│           ┆           ┆ Japanese  ┆ Exh.      ┆   ┆           ┆           ┆           ┆ /artists │\n",
       "│           ┆           ┆ Posters   ┆ #1536,    ┆   ┆           ┆           ┆           ┆ /6215    │\n",
       "│           ┆           ┆ from t…   ┆ December  ┆   ┆           ┆           ┆           ┆          │\n",
       "│           ┆           ┆           ┆ 9, …      ┆   ┆           ┆           ┆           ┆          │\n",
       "│ 288       ┆ 1536      ┆ Recent    ┆ [MoMA     ┆ … ┆ null      ┆ null      ┆ null      ┆ moma.org │\n",
       "│           ┆           ┆ Japanese  ┆ Exh.      ┆   ┆           ┆           ┆           ┆ /artists │\n",
       "│           ┆           ┆ Posters   ┆ #1536,    ┆   ┆           ┆           ┆           ┆ /6486    │\n",
       "│           ┆           ┆ from t…   ┆ December  ┆   ┆           ┆           ┆           ┆          │\n",
       "│           ┆           ┆           ┆ 9, …      ┆   ┆           ┆           ┆           ┆          │\n",
       "│ 288       ┆ 1536      ┆ Recent    ┆ [MoMA     ┆ … ┆ 119202488 ┆ Q2178400  ┆ null      ┆ moma.org │\n",
       "│           ┆           ┆ Japanese  ┆ Exh.      ┆   ┆           ┆           ┆           ┆ /artists │\n",
       "│           ┆           ┆ Posters   ┆ #1536,    ┆   ┆           ┆           ┆           ┆ /6487    │\n",
       "│           ┆           ┆ from t…   ┆ December  ┆   ┆           ┆           ┆           ┆          │\n",
       "│           ┆           ┆           ┆ 9, …      ┆   ┆           ┆           ┆           ┆          │\n",
       "│ 288       ┆ 1536      ┆ Recent    ┆ [MoMA     ┆ … ┆ 96086073  ┆ Q3513688  ┆ 500060125 ┆ moma.org │\n",
       "│           ┆           ┆ Japanese  ┆ Exh.      ┆   ┆           ┆           ┆           ┆ /artists │\n",
       "│           ┆           ┆ Posters   ┆ #1536,    ┆   ┆           ┆           ┆           ┆ /6502    │\n",
       "│           ┆           ┆ from t…   ┆ December  ┆   ┆           ┆           ┆           ┆          │\n",
       "│           ┆           ┆           ┆ 9, …      ┆   ┆           ┆           ┆           ┆          │\n",
       "│ 3367      ┆ 1537      ┆ Directed  ┆ [MoMA     ┆ … ┆ 250655373 ┆ null      ┆ null      ┆ moma.org │\n",
       "│           ┆           ┆ by        ┆ Exh.      ┆   ┆           ┆           ┆           ┆ /artists │\n",
       "│           ┆           ┆ Vincente  ┆ #1537,    ┆   ┆           ┆           ┆           ┆ /25529   │\n",
       "│           ┆           ┆ Minnelli  ┆ December  ┆   ┆           ┆           ┆           ┆          │\n",
       "│           ┆           ┆           ┆ 15,…      ┆   ┆           ┆           ┆           ┆          │\n",
       "└───────────┴───────────┴───────────┴───────────┴───┴───────────┴───────────┴───────────┴──────────┘"
      ]
     },
     "execution_count": 58,
     "metadata": {},
     "output_type": "execute_result"
    }
   ],
   "source": [
    "exhibitions = pl.read_csv('./data/MoMAExhibitions1929to1989.csv', infer_schema_length=10000)\n",
    "\n",
    "exhibitions"
   ]
  },
  {
   "cell_type": "markdown",
   "metadata": {},
   "source": [
    "## The DRY principle\n",
    "\n",
    "* DRY == *D*on't *R*epeat *Y*ourself\n",
    "* Be sure to\n",
    "    * Look for repeated patterns\n",
    "    * Abstract the patterns"
   ]
  },
  {
   "cell_type": "markdown",
   "metadata": {},
   "source": [
    "#### Example - one-hot: Creating indicator columns\n",
    "\n",
    "The [one-hot](https://en.wikipedia.org/wiki/One-hot) transformation \n",
    "1. involves making an indicator column for each unique label, and\n",
    "2. Is a common method for preparing categorical data for ML."
   ]
  },
  {
   "cell_type": "code",
   "execution_count": 60,
   "metadata": {},
   "outputs": [
    {
     "data": {
      "text/html": [
       "<div><style>\n",
       ".dataframe > thead > tr,\n",
       ".dataframe > tbody > tr {\n",
       "  text-align: right;\n",
       "  white-space: pre-wrap;\n",
       "}\n",
       "</style>\n",
       "<small>shape: (34_558, 2)</small><table border=\"1\" class=\"dataframe\"><thead><tr><th>Nationality</th><th>American</th></tr><tr><td>str</td><td>i32</td></tr></thead><tbody><tr><td>&quot;American&quot;</td><td>1</td></tr><tr><td>&quot;French&quot;</td><td>0</td></tr><tr><td>&quot;French&quot;</td><td>0</td></tr><tr><td>&quot;Dutch&quot;</td><td>0</td></tr><tr><td>&quot;French&quot;</td><td>0</td></tr><tr><td>&hellip;</td><td>&hellip;</td></tr><tr><td>&quot;Japanese&quot;</td><td>0</td></tr><tr><td>&quot;Japanese&quot;</td><td>0</td></tr><tr><td>&quot;Japanese&quot;</td><td>0</td></tr><tr><td>&quot;Japanese&quot;</td><td>0</td></tr><tr><td>null</td><td>0</td></tr></tbody></table></div>"
      ],
      "text/plain": [
       "shape: (34_558, 2)\n",
       "┌─────────────┬──────────┐\n",
       "│ Nationality ┆ American │\n",
       "│ ---         ┆ ---      │\n",
       "│ str         ┆ i32      │\n",
       "╞═════════════╪══════════╡\n",
       "│ American    ┆ 1        │\n",
       "│ French      ┆ 0        │\n",
       "│ French      ┆ 0        │\n",
       "│ Dutch       ┆ 0        │\n",
       "│ French      ┆ 0        │\n",
       "│ …           ┆ …        │\n",
       "│ Japanese    ┆ 0        │\n",
       "│ Japanese    ┆ 0        │\n",
       "│ Japanese    ┆ 0        │\n",
       "│ Japanese    ┆ 0        │\n",
       "│ null        ┆ 0        │\n",
       "└─────────────┴──────────┘"
      ]
     },
     "execution_count": 60,
     "metadata": {},
     "output_type": "execute_result"
    }
   ],
   "source": [
    "# Making an American indicator using `.alias`\n",
    "(exhibitions\n",
    " .select(pl.col('Nationality'))\n",
    " .with_columns((pl.when(pl.col('Nationality') == 'American')\n",
    "                .then(pl.lit(1))\n",
    "                .otherwise(pl.lit(0))\n",
    "                .alias('American')\n",
    "               )\n",
    "              )\n",
    ") "
   ]
  },
  {
   "cell_type": "markdown",
   "metadata": {},
   "source": [
    "## A WET transformation - Positional arguments\n",
    "\n",
    "This solution is WET, not DRY, as all 7 of the expressions in mutate are very similar ... if only here was a way to perform these similar expressions all at once ..."
   ]
  },
  {
   "cell_type": "code",
   "execution_count": 61,
   "metadata": {},
   "outputs": [
    {
     "data": {
      "text/html": [
       "<div><style>\n",
       ".dataframe > thead > tr,\n",
       ".dataframe > tbody > tr {\n",
       "  text-align: right;\n",
       "  white-space: pre-wrap;\n",
       "}\n",
       "</style>\n",
       "<small>shape: (5, 8)</small><table border=\"1\" class=\"dataframe\"><thead><tr><th>ExhibitionRole</th><th>Curator</th><th>Artist</th><th>Arranger</th><th>Installer</th><th>CompetitionJudge</th><th>Designer</th><th>Preparer</th></tr><tr><td>str</td><td>i32</td><td>i32</td><td>i32</td><td>i32</td><td>i32</td><td>i32</td><td>i32</td></tr></thead><tbody><tr><td>&quot;Curator&quot;</td><td>1</td><td>0</td><td>0</td><td>0</td><td>0</td><td>0</td><td>0</td></tr><tr><td>&quot;Artist&quot;</td><td>0</td><td>1</td><td>0</td><td>0</td><td>0</td><td>0</td><td>0</td></tr><tr><td>&quot;Artist&quot;</td><td>0</td><td>1</td><td>0</td><td>0</td><td>0</td><td>0</td><td>0</td></tr><tr><td>&quot;Artist&quot;</td><td>0</td><td>1</td><td>0</td><td>0</td><td>0</td><td>0</td><td>0</td></tr><tr><td>&quot;Artist&quot;</td><td>0</td><td>1</td><td>0</td><td>0</td><td>0</td><td>0</td><td>0</td></tr></tbody></table></div>"
      ],
      "text/plain": [
       "shape: (5, 8)\n",
       "┌────────────────┬─────────┬────────┬──────────┬───────────┬─────────────────┬──────────┬──────────┐\n",
       "│ ExhibitionRole ┆ Curator ┆ Artist ┆ Arranger ┆ Installer ┆ CompetitionJudg ┆ Designer ┆ Preparer │\n",
       "│ ---            ┆ ---     ┆ ---    ┆ ---      ┆ ---       ┆ e               ┆ ---      ┆ ---      │\n",
       "│ str            ┆ i32     ┆ i32    ┆ i32      ┆ i32       ┆ ---             ┆ i32      ┆ i32      │\n",
       "│                ┆         ┆        ┆          ┆           ┆ i32             ┆          ┆          │\n",
       "╞════════════════╪═════════╪════════╪══════════╪═══════════╪═════════════════╪══════════╪══════════╡\n",
       "│ Curator        ┆ 1       ┆ 0      ┆ 0        ┆ 0         ┆ 0               ┆ 0        ┆ 0        │\n",
       "│ Artist         ┆ 0       ┆ 1      ┆ 0        ┆ 0         ┆ 0               ┆ 0        ┆ 0        │\n",
       "│ Artist         ┆ 0       ┆ 1      ┆ 0        ┆ 0         ┆ 0               ┆ 0        ┆ 0        │\n",
       "│ Artist         ┆ 0       ┆ 1      ┆ 0        ┆ 0         ┆ 0               ┆ 0        ┆ 0        │\n",
       "│ Artist         ┆ 0       ┆ 1      ┆ 0        ┆ 0         ┆ 0               ┆ 0        ┆ 0        │\n",
       "└────────────────┴─────────┴────────┴──────────┴───────────┴─────────────────┴──────────┴──────────┘"
      ]
     },
     "execution_count": 61,
     "metadata": {},
     "output_type": "execute_result"
    }
   ],
   "source": [
    "# Using positional arguments w/ an alias\n",
    "(exhibitions\n",
    " .select(pl.col('ExhibitionRole'))\n",
    " .with_columns(pl.when(pl.col('ExhibitionRole') == 'Curator').then(pl.lit(1)).otherwise(pl.lit(0)).alias('Curator'),         \n",
    "               pl.when(pl.col('ExhibitionRole') == 'Artist').then(pl.lit(1)).otherwise(pl.lit(0)).alias('Artist'),          \n",
    "               pl.when(pl.col('ExhibitionRole') == 'Arranger').then(pl.lit(1)).otherwise(pl.lit(0)).alias('Arranger'),        \n",
    "               pl.when(pl.col('ExhibitionRole') == 'Installer').then(pl.lit(1)).otherwise(pl.lit(0)).alias('Installer'),       \n",
    "               pl.when(pl.col('ExhibitionRole') == 'Competition Judge').then(pl.lit(1)).otherwise(pl.lit(0)).alias('CompetitionJudge'),\n",
    "               pl.when(pl.col('ExhibitionRole') == 'Designer').then(pl.lit(1)).otherwise(pl.lit(0)).alias('Designer'),        \n",
    "               pl.when(pl.col('ExhibitionRole') == 'Prepare').then(pl.lit(1)).otherwise(pl.lit(0)).alias('Preparer'))\n",
    " .head(5)\n",
    ")\n",
    "                                                    "
   ]
  },
  {
   "cell_type": "code",
   "execution_count": 63,
   "metadata": {},
   "outputs": [
    {
     "data": {
      "text/html": [
       "<div><style>\n",
       ".dataframe > thead > tr,\n",
       ".dataframe > tbody > tr {\n",
       "  text-align: right;\n",
       "  white-space: pre-wrap;\n",
       "}\n",
       "</style>\n",
       "<small>shape: (5, 8)</small><table border=\"1\" class=\"dataframe\"><thead><tr><th>ExhibitionRole</th><th>Curator</th><th>Artist</th><th>Arranger</th><th>Installer</th><th>CompetitionJudge</th><th>Designer</th><th>Preparer</th></tr><tr><td>str</td><td>i32</td><td>i32</td><td>i32</td><td>i32</td><td>i32</td><td>i32</td><td>i32</td></tr></thead><tbody><tr><td>&quot;Curator&quot;</td><td>1</td><td>0</td><td>0</td><td>0</td><td>0</td><td>0</td><td>0</td></tr><tr><td>&quot;Artist&quot;</td><td>0</td><td>1</td><td>0</td><td>0</td><td>0</td><td>0</td><td>0</td></tr><tr><td>&quot;Artist&quot;</td><td>0</td><td>1</td><td>0</td><td>0</td><td>0</td><td>0</td><td>0</td></tr><tr><td>&quot;Artist&quot;</td><td>0</td><td>1</td><td>0</td><td>0</td><td>0</td><td>0</td><td>0</td></tr><tr><td>&quot;Artist&quot;</td><td>0</td><td>1</td><td>0</td><td>0</td><td>0</td><td>0</td><td>0</td></tr></tbody></table></div>"
      ],
      "text/plain": [
       "shape: (5, 8)\n",
       "┌────────────────┬─────────┬────────┬──────────┬───────────┬─────────────────┬──────────┬──────────┐\n",
       "│ ExhibitionRole ┆ Curator ┆ Artist ┆ Arranger ┆ Installer ┆ CompetitionJudg ┆ Designer ┆ Preparer │\n",
       "│ ---            ┆ ---     ┆ ---    ┆ ---      ┆ ---       ┆ e               ┆ ---      ┆ ---      │\n",
       "│ str            ┆ i32     ┆ i32    ┆ i32      ┆ i32       ┆ ---             ┆ i32      ┆ i32      │\n",
       "│                ┆         ┆        ┆          ┆           ┆ i32             ┆          ┆          │\n",
       "╞════════════════╪═════════╪════════╪══════════╪═══════════╪═════════════════╪══════════╪══════════╡\n",
       "│ Curator        ┆ 1       ┆ 0      ┆ 0        ┆ 0         ┆ 0               ┆ 0        ┆ 0        │\n",
       "│ Artist         ┆ 0       ┆ 1      ┆ 0        ┆ 0         ┆ 0               ┆ 0        ┆ 0        │\n",
       "│ Artist         ┆ 0       ┆ 1      ┆ 0        ┆ 0         ┆ 0               ┆ 0        ┆ 0        │\n",
       "│ Artist         ┆ 0       ┆ 1      ┆ 0        ┆ 0         ┆ 0               ┆ 0        ┆ 0        │\n",
       "│ Artist         ┆ 0       ┆ 1      ┆ 0        ┆ 0         ┆ 0               ┆ 0        ┆ 0        │\n",
       "└────────────────┴─────────┴────────┴──────────┴───────────┴─────────────────┴──────────┴──────────┘"
      ]
     },
     "execution_count": 63,
     "metadata": {},
     "output_type": "execute_result"
    }
   ],
   "source": [
    "# Input a list of expressions\n",
    "(exhibitions\n",
    " .select(pl.col('ExhibitionRole'))\n",
    " .with_columns([pl.when(pl.col('ExhibitionRole') == 'Curator').then(pl.lit(1)).otherwise(pl.lit(0)).alias('Curator'),         \n",
    "                pl.when(pl.col('ExhibitionRole') == 'Artist').then(pl.lit(1)).otherwise(pl.lit(0)).alias('Artist'),          \n",
    "                pl.when(pl.col('ExhibitionRole') == 'Arranger').then(pl.lit(1)).otherwise(pl.lit(0)).alias('Arranger'),        \n",
    "                pl.when(pl.col('ExhibitionRole') == 'Installer').then(pl.lit(1)).otherwise(pl.lit(0)).alias('Installer'),       \n",
    "                pl.when(pl.col('ExhibitionRole') == 'Competition Judge').then(pl.lit(1)).otherwise(pl.lit(0)).alias('CompetitionJudge'),\n",
    "                pl.when(pl.col('ExhibitionRole') == 'Designer').then(pl.lit(1)).otherwise(pl.lit(0)).alias('Designer'),        \n",
    "                pl.when(pl.col('ExhibitionRole') == 'Prepare').then(pl.lit(1)).otherwise(pl.lit(0)).alias('Preparer')\n",
    "               ])\n",
    " .head(5)\n",
    ")"
   ]
  },
  {
   "cell_type": "markdown",
   "metadata": {},
   "source": [
    "### Exploring the arguments of `with_columns`\n",
    "\n",
    "Let's inspect the help for the `with_columns` method and apply what we have learned about Python arguments."
   ]
  },
  {
   "cell_type": "code",
   "execution_count": 64,
   "metadata": {
    "scrolled": true
   },
   "outputs": [
    {
     "name": "stdout",
     "output_type": "stream",
     "text": [
      "Help on method with_columns in module polars.dataframe.frame:\n",
      "\n",
      "with_columns(*exprs: 'IntoExpr | Iterable[IntoExpr]', **named_exprs: 'IntoExpr') -> 'DataFrame' method of polars.dataframe.frame.DataFrame instance\n",
      "    Add columns to this DataFrame.\n",
      "\n",
      "    Added columns will replace existing columns with the same name.\n",
      "\n",
      "    Parameters\n",
      "    ----------\n",
      "    *exprs\n",
      "        Column(s) to add, specified as positional arguments.\n",
      "        Accepts expression input. Strings are parsed as column names, other\n",
      "        non-expression inputs are parsed as literals.\n",
      "    **named_exprs\n",
      "        Additional columns to add, specified as keyword arguments.\n",
      "        The columns will be renamed to the keyword used.\n",
      "\n",
      "    Returns\n",
      "    -------\n",
      "    DataFrame\n",
      "        A new DataFrame with the columns added.\n",
      "\n",
      "    Notes\n",
      "    -----\n",
      "    Creating a new DataFrame using this method does not create a new copy of\n",
      "    existing data.\n",
      "\n",
      "    Examples\n",
      "    --------\n",
      "    Pass an expression to add it as a new column.\n",
      "\n",
      "    >>> df = pl.DataFrame(\n",
      "    ...     {\n",
      "    ...         \"a\": [1, 2, 3, 4],\n",
      "    ...         \"b\": [0.5, 4, 10, 13],\n",
      "    ...         \"c\": [True, True, False, True],\n",
      "    ...     }\n",
      "    ... )\n",
      "    >>> df.with_columns((pl.col(\"a\") ** 2).alias(\"a^2\"))\n",
      "    shape: (4, 4)\n",
      "    ┌─────┬──────┬───────┬─────┐\n",
      "    │ a   ┆ b    ┆ c     ┆ a^2 │\n",
      "    │ --- ┆ ---  ┆ ---   ┆ --- │\n",
      "    │ i64 ┆ f64  ┆ bool  ┆ i64 │\n",
      "    ╞═════╪══════╪═══════╪═════╡\n",
      "    │ 1   ┆ 0.5  ┆ true  ┆ 1   │\n",
      "    │ 2   ┆ 4.0  ┆ true  ┆ 4   │\n",
      "    │ 3   ┆ 10.0 ┆ false ┆ 9   │\n",
      "    │ 4   ┆ 13.0 ┆ true  ┆ 16  │\n",
      "    └─────┴──────┴───────┴─────┘\n",
      "\n",
      "    Added columns will replace existing columns with the same name.\n",
      "\n",
      "    >>> df.with_columns(pl.col(\"a\").cast(pl.Float64))\n",
      "    shape: (4, 3)\n",
      "    ┌─────┬──────┬───────┐\n",
      "    │ a   ┆ b    ┆ c     │\n",
      "    │ --- ┆ ---  ┆ ---   │\n",
      "    │ f64 ┆ f64  ┆ bool  │\n",
      "    ╞═════╪══════╪═══════╡\n",
      "    │ 1.0 ┆ 0.5  ┆ true  │\n",
      "    │ 2.0 ┆ 4.0  ┆ true  │\n",
      "    │ 3.0 ┆ 10.0 ┆ false │\n",
      "    │ 4.0 ┆ 13.0 ┆ true  │\n",
      "    └─────┴──────┴───────┘\n",
      "\n",
      "    Multiple columns can be added using positional arguments.\n",
      "\n",
      "    >>> df.with_columns(\n",
      "    ...     (pl.col(\"a\") ** 2).alias(\"a^2\"),\n",
      "    ...     (pl.col(\"b\") / 2).alias(\"b/2\"),\n",
      "    ...     (pl.col(\"c\").not_()).alias(\"not c\"),\n",
      "    ... )\n",
      "    shape: (4, 6)\n",
      "    ┌─────┬──────┬───────┬─────┬──────┬───────┐\n",
      "    │ a   ┆ b    ┆ c     ┆ a^2 ┆ b/2  ┆ not c │\n",
      "    │ --- ┆ ---  ┆ ---   ┆ --- ┆ ---  ┆ ---   │\n",
      "    │ i64 ┆ f64  ┆ bool  ┆ i64 ┆ f64  ┆ bool  │\n",
      "    ╞═════╪══════╪═══════╪═════╪══════╪═══════╡\n",
      "    │ 1   ┆ 0.5  ┆ true  ┆ 1   ┆ 0.25 ┆ false │\n",
      "    │ 2   ┆ 4.0  ┆ true  ┆ 4   ┆ 2.0  ┆ false │\n",
      "    │ 3   ┆ 10.0 ┆ false ┆ 9   ┆ 5.0  ┆ true  │\n",
      "    │ 4   ┆ 13.0 ┆ true  ┆ 16  ┆ 6.5  ┆ false │\n",
      "    └─────┴──────┴───────┴─────┴──────┴───────┘\n",
      "\n",
      "    Multiple columns can also be added by passing a list of expressions.\n",
      "\n",
      "    >>> df.with_columns(\n",
      "    ...     [\n",
      "    ...         (pl.col(\"a\") ** 2).alias(\"a^2\"),\n",
      "    ...         (pl.col(\"b\") / 2).alias(\"b/2\"),\n",
      "    ...         (pl.col(\"c\").not_()).alias(\"not c\"),\n",
      "    ...     ]\n",
      "    ... )\n",
      "    shape: (4, 6)\n",
      "    ┌─────┬──────┬───────┬─────┬──────┬───────┐\n",
      "    │ a   ┆ b    ┆ c     ┆ a^2 ┆ b/2  ┆ not c │\n",
      "    │ --- ┆ ---  ┆ ---   ┆ --- ┆ ---  ┆ ---   │\n",
      "    │ i64 ┆ f64  ┆ bool  ┆ i64 ┆ f64  ┆ bool  │\n",
      "    ╞═════╪══════╪═══════╪═════╪══════╪═══════╡\n",
      "    │ 1   ┆ 0.5  ┆ true  ┆ 1   ┆ 0.25 ┆ false │\n",
      "    │ 2   ┆ 4.0  ┆ true  ┆ 4   ┆ 2.0  ┆ false │\n",
      "    │ 3   ┆ 10.0 ┆ false ┆ 9   ┆ 5.0  ┆ true  │\n",
      "    │ 4   ┆ 13.0 ┆ true  ┆ 16  ┆ 6.5  ┆ false │\n",
      "    └─────┴──────┴───────┴─────┴──────┴───────┘\n",
      "\n",
      "    Use keyword arguments to easily name your expression inputs.\n",
      "\n",
      "    >>> df.with_columns(\n",
      "    ...     ab=pl.col(\"a\") * pl.col(\"b\"),\n",
      "    ...     not_c=pl.col(\"c\").not_(),\n",
      "    ... )\n",
      "    shape: (4, 5)\n",
      "    ┌─────┬──────┬───────┬──────┬───────┐\n",
      "    │ a   ┆ b    ┆ c     ┆ ab   ┆ not_c │\n",
      "    │ --- ┆ ---  ┆ ---   ┆ ---  ┆ ---   │\n",
      "    │ i64 ┆ f64  ┆ bool  ┆ f64  ┆ bool  │\n",
      "    ╞═════╪══════╪═══════╪══════╪═══════╡\n",
      "    │ 1   ┆ 0.5  ┆ true  ┆ 0.5  ┆ false │\n",
      "    │ 2   ┆ 4.0  ┆ true  ┆ 8.0  ┆ false │\n",
      "    │ 3   ┆ 10.0 ┆ false ┆ 30.0 ┆ true  │\n",
      "    │ 4   ┆ 13.0 ┆ true  ┆ 52.0 ┆ false │\n",
      "    └─────┴──────┴───────┴──────┴───────┘\n",
      "\n",
      "    Expressions with multiple outputs can be automatically instantiated as Structs\n",
      "    by enabling the setting `Config.set_auto_structify(True)`:\n",
      "\n",
      "    >>> with pl.Config(auto_structify=True):\n",
      "    ...     df.drop(\"c\").with_columns(\n",
      "    ...         diffs=pl.col([\"a\", \"b\"]).diff().name.suffix(\"_diff\"),\n",
      "    ...     )\n",
      "    shape: (4, 3)\n",
      "    ┌─────┬──────┬─────────────┐\n",
      "    │ a   ┆ b    ┆ diffs       │\n",
      "    │ --- ┆ ---  ┆ ---         │\n",
      "    │ i64 ┆ f64  ┆ struct[2]   │\n",
      "    ╞═════╪══════╪═════════════╡\n",
      "    │ 1   ┆ 0.5  ┆ {null,null} │\n",
      "    │ 2   ┆ 4.0  ┆ {1,3.5}     │\n",
      "    │ 3   ┆ 10.0 ┆ {1,6.0}     │\n",
      "    │ 4   ┆ 13.0 ┆ {1,3.0}     │\n",
      "    └─────┴──────┴─────────────┘\n",
      "\n"
     ]
    }
   ],
   "source": [
    "help(exhibitions.with_columns)"
   ]
  },
  {
   "attachments": {
    "aae2be4e-50a3-4f39-87c3-e053cb4cf91d.png": {
     "image/png": "[encoded data removed]"
    }
   },
   "cell_type": "markdown",
   "metadata": {},
   "source": [
    "### What did we learn?\n",
    "\n",
    "![image.png](attachment:aae2be4e-50a3-4f39-87c3-e053cb4cf91d.png)"
   ]
  },
  {
   "cell_type": "markdown",
   "metadata": {},
   "source": [
    "## Using comprehensions and `lambda` functions to automate the process\n",
    "\n",
    "Let's look at cleaning up the replicated code with some abstractions:\n",
    "\n",
    "1. Replacing the replicated `polars` expression with a `lambda`,\n",
    "2. Using a `list` comprehension to represent the sequence of expressions, and\n",
    "3. Abstracting the sequence using a `lambda`."
   ]
  },
  {
   "attachments": {
    "aae2be4e-50a3-4f39-87c3-e053cb4cf91d.png": {
     "image/png": "[encoded data removed]"
    }
   },
   "cell_type": "markdown",
   "metadata": {},
   "source": [
    "#### Abstracting the expression with a `lambda`\n",
    "\n",
    "![image.png](attachment:aae2be4e-50a3-4f39-87c3-e053cb4cf91d.png)"
   ]
  },
  {
   "cell_type": "code",
   "execution_count": 66,
   "metadata": {},
   "outputs": [],
   "source": [
    "lbl_indicator_alias = lambda col, lbl: (pl.when(pl.col(col) == lbl)\n",
    "                                        .then(pl.lit(1))\n",
    "                                        .otherwise(pl.lit(0))\n",
    "                                        .alias(lbl)\n",
    "                                       )"
   ]
  },
  {
   "cell_type": "markdown",
   "metadata": {},
   "source": [
    "#### Abstracting the sequence of expressions with a comprehension"
   ]
  },
  {
   "cell_type": "code",
   "execution_count": 68,
   "metadata": {},
   "outputs": [
    {
     "data": {
      "text/plain": [
       "[<Expr ['.when([(col(\"ExhibitionRole\"))…'] at 0x125982F00>,\n",
       " <Expr ['.when([(col(\"ExhibitionRole\"))…'] at 0x125966EA0>,\n",
       " <Expr ['.when([(col(\"ExhibitionRole\"))…'] at 0x125964140>,\n",
       " <Expr ['.when([(col(\"ExhibitionRole\"))…'] at 0x125966F00>,\n",
       " <Expr ['.when([(col(\"ExhibitionRole\"))…'] at 0x1256E4410>,\n",
       " <Expr ['.when([(col(\"ExhibitionRole\"))…'] at 0x1256E44A0>,\n",
       " <Expr ['.when([(col(\"ExhibitionRole\"))…'] at 0x1256E4770>]"
      ]
     },
     "execution_count": 68,
     "metadata": {},
     "output_type": "execute_result"
    }
   ],
   "source": [
    "[lbl_indicator_alias('ExhibitionRole', lbl) for lbl in exhibitions['ExhibitionRole'].unique() if lbl is not None]"
   ]
  },
  {
   "cell_type": "code",
   "execution_count": 69,
   "metadata": {},
   "outputs": [
    {
     "data": {
      "text/html": [
       "<div><style>\n",
       ".dataframe > thead > tr,\n",
       ".dataframe > tbody > tr {\n",
       "  text-align: right;\n",
       "  white-space: pre-wrap;\n",
       "}\n",
       "</style>\n",
       "<small>shape: (5, 8)</small><table border=\"1\" class=\"dataframe\"><thead><tr><th>ExhibitionRole</th><th>Competition Judge</th><th>Installer</th><th>Preparer</th><th>Designer</th><th>Curator</th><th>Artist</th><th>Arranger</th></tr><tr><td>str</td><td>i32</td><td>i32</td><td>i32</td><td>i32</td><td>i32</td><td>i32</td><td>i32</td></tr></thead><tbody><tr><td>&quot;Curator&quot;</td><td>0</td><td>0</td><td>0</td><td>0</td><td>1</td><td>0</td><td>0</td></tr><tr><td>&quot;Artist&quot;</td><td>0</td><td>0</td><td>0</td><td>0</td><td>0</td><td>1</td><td>0</td></tr><tr><td>&quot;Artist&quot;</td><td>0</td><td>0</td><td>0</td><td>0</td><td>0</td><td>1</td><td>0</td></tr><tr><td>&quot;Artist&quot;</td><td>0</td><td>0</td><td>0</td><td>0</td><td>0</td><td>1</td><td>0</td></tr><tr><td>&quot;Artist&quot;</td><td>0</td><td>0</td><td>0</td><td>0</td><td>0</td><td>1</td><td>0</td></tr></tbody></table></div>"
      ],
      "text/plain": [
       "shape: (5, 8)\n",
       "┌────────────────┬─────────────┬───────────┬──────────┬──────────┬─────────┬────────┬──────────┐\n",
       "│ ExhibitionRole ┆ Competition ┆ Installer ┆ Preparer ┆ Designer ┆ Curator ┆ Artist ┆ Arranger │\n",
       "│ ---            ┆ Judge       ┆ ---       ┆ ---      ┆ ---      ┆ ---     ┆ ---    ┆ ---      │\n",
       "│ str            ┆ ---         ┆ i32       ┆ i32      ┆ i32      ┆ i32     ┆ i32    ┆ i32      │\n",
       "│                ┆ i32         ┆           ┆          ┆          ┆         ┆        ┆          │\n",
       "╞════════════════╪═════════════╪═══════════╪══════════╪══════════╪═════════╪════════╪══════════╡\n",
       "│ Curator        ┆ 0           ┆ 0         ┆ 0        ┆ 0        ┆ 1       ┆ 0      ┆ 0        │\n",
       "│ Artist         ┆ 0           ┆ 0         ┆ 0        ┆ 0        ┆ 0       ┆ 1      ┆ 0        │\n",
       "│ Artist         ┆ 0           ┆ 0         ┆ 0        ┆ 0        ┆ 0       ┆ 1      ┆ 0        │\n",
       "│ Artist         ┆ 0           ┆ 0         ┆ 0        ┆ 0        ┆ 0       ┆ 1      ┆ 0        │\n",
       "│ Artist         ┆ 0           ┆ 0         ┆ 0        ┆ 0        ┆ 0       ┆ 1      ┆ 0        │\n",
       "└────────────────┴─────────────┴───────────┴──────────┴──────────┴─────────┴────────┴──────────┘"
      ]
     },
     "execution_count": 69,
     "metadata": {},
     "output_type": "execute_result"
    }
   ],
   "source": [
    "# Input a list of expressions\n",
    "(exhibitions\n",
    " .select(pl.col('ExhibitionRole'))\n",
    " .with_columns([lbl_indicator_alias('ExhibitionRole', lbl) for lbl in exhibitions['ExhibitionRole'].unique() if lbl is not None]\n",
    "              )\n",
    " .head(5)\n",
    ")\n",
    "                                                    "
   ]
  },
  {
   "cell_type": "code",
   "execution_count": 71,
   "metadata": {},
   "outputs": [
    {
     "data": {
      "text/html": [
       "<div><style>\n",
       ".dataframe > thead > tr,\n",
       ".dataframe > tbody > tr {\n",
       "  text-align: right;\n",
       "  white-space: pre-wrap;\n",
       "}\n",
       "</style>\n",
       "<small>shape: (5, 8)</small><table border=\"1\" class=\"dataframe\"><thead><tr><th>ExhibitionRole</th><th>Curator</th><th>Preparer</th><th>Installer</th><th>Designer</th><th>Competition Judge</th><th>Artist</th><th>Arranger</th></tr><tr><td>str</td><td>i32</td><td>i32</td><td>i32</td><td>i32</td><td>i32</td><td>i32</td><td>i32</td></tr></thead><tbody><tr><td>&quot;Curator&quot;</td><td>1</td><td>0</td><td>0</td><td>0</td><td>0</td><td>0</td><td>0</td></tr><tr><td>&quot;Artist&quot;</td><td>0</td><td>0</td><td>0</td><td>0</td><td>0</td><td>1</td><td>0</td></tr><tr><td>&quot;Artist&quot;</td><td>0</td><td>0</td><td>0</td><td>0</td><td>0</td><td>1</td><td>0</td></tr><tr><td>&quot;Artist&quot;</td><td>0</td><td>0</td><td>0</td><td>0</td><td>0</td><td>1</td><td>0</td></tr><tr><td>&quot;Artist&quot;</td><td>0</td><td>0</td><td>0</td><td>0</td><td>0</td><td>1</td><td>0</td></tr></tbody></table></div>"
      ],
      "text/plain": [
       "shape: (5, 8)\n",
       "┌────────────────┬─────────┬──────────┬───────────┬──────────┬─────────────┬────────┬──────────┐\n",
       "│ ExhibitionRole ┆ Curator ┆ Preparer ┆ Installer ┆ Designer ┆ Competition ┆ Artist ┆ Arranger │\n",
       "│ ---            ┆ ---     ┆ ---      ┆ ---       ┆ ---      ┆ Judge       ┆ ---    ┆ ---      │\n",
       "│ str            ┆ i32     ┆ i32      ┆ i32       ┆ i32      ┆ ---         ┆ i32    ┆ i32      │\n",
       "│                ┆         ┆          ┆           ┆          ┆ i32         ┆        ┆          │\n",
       "╞════════════════╪═════════╪══════════╪═══════════╪══════════╪═════════════╪════════╪══════════╡\n",
       "│ Curator        ┆ 1       ┆ 0        ┆ 0         ┆ 0        ┆ 0           ┆ 0      ┆ 0        │\n",
       "│ Artist         ┆ 0       ┆ 0        ┆ 0         ┆ 0        ┆ 0           ┆ 1      ┆ 0        │\n",
       "│ Artist         ┆ 0       ┆ 0        ┆ 0         ┆ 0        ┆ 0           ┆ 1      ┆ 0        │\n",
       "│ Artist         ┆ 0       ┆ 0        ┆ 0         ┆ 0        ┆ 0           ┆ 1      ┆ 0        │\n",
       "│ Artist         ┆ 0       ┆ 0        ┆ 0         ┆ 0        ┆ 0           ┆ 1      ┆ 0        │\n",
       "└────────────────┴─────────┴──────────┴───────────┴──────────┴─────────────┴────────┴──────────┘"
      ]
     },
     "execution_count": 71,
     "metadata": {},
     "output_type": "execute_result"
    }
   ],
   "source": [
    "# Unpack the positional arguments\n",
    "(exhibitions\n",
    " .select(pl.col('ExhibitionRole'))\n",
    " .with_columns(*[lbl_indicator_alias('ExhibitionRole', lbl) for lbl in exhibitions['ExhibitionRole'].unique() if lbl is not None]\n",
    "              )\n",
    " .head(5)\n",
    ")"
   ]
  },
  {
   "cell_type": "markdown",
   "metadata": {},
   "source": [
    "#### Abstracting the sequence of expressions with a `lambda`"
   ]
  },
  {
   "cell_type": "code",
   "execution_count": 73,
   "metadata": {},
   "outputs": [],
   "source": [
    "one_hot_w_alias = lambda df, col: [lbl_indicator_alias(col, lbl) for lbl in df[col].unique() if lbl is not None]"
   ]
  },
  {
   "cell_type": "code",
   "execution_count": 74,
   "metadata": {},
   "outputs": [
    {
     "data": {
      "text/html": [
       "<div><style>\n",
       ".dataframe > thead > tr,\n",
       ".dataframe > tbody > tr {\n",
       "  text-align: right;\n",
       "  white-space: pre-wrap;\n",
       "}\n",
       "</style>\n",
       "<small>shape: (5, 8)</small><table border=\"1\" class=\"dataframe\"><thead><tr><th>ExhibitionRole</th><th>Designer</th><th>Arranger</th><th>Curator</th><th>Artist</th><th>Competition Judge</th><th>Installer</th><th>Preparer</th></tr><tr><td>str</td><td>i32</td><td>i32</td><td>i32</td><td>i32</td><td>i32</td><td>i32</td><td>i32</td></tr></thead><tbody><tr><td>&quot;Curator&quot;</td><td>0</td><td>0</td><td>1</td><td>0</td><td>0</td><td>0</td><td>0</td></tr><tr><td>&quot;Artist&quot;</td><td>0</td><td>0</td><td>0</td><td>1</td><td>0</td><td>0</td><td>0</td></tr><tr><td>&quot;Artist&quot;</td><td>0</td><td>0</td><td>0</td><td>1</td><td>0</td><td>0</td><td>0</td></tr><tr><td>&quot;Artist&quot;</td><td>0</td><td>0</td><td>0</td><td>1</td><td>0</td><td>0</td><td>0</td></tr><tr><td>&quot;Artist&quot;</td><td>0</td><td>0</td><td>0</td><td>1</td><td>0</td><td>0</td><td>0</td></tr></tbody></table></div>"
      ],
      "text/plain": [
       "shape: (5, 8)\n",
       "┌────────────────┬──────────┬──────────┬─────────┬────────┬─────────────┬───────────┬──────────┐\n",
       "│ ExhibitionRole ┆ Designer ┆ Arranger ┆ Curator ┆ Artist ┆ Competition ┆ Installer ┆ Preparer │\n",
       "│ ---            ┆ ---      ┆ ---      ┆ ---     ┆ ---    ┆ Judge       ┆ ---       ┆ ---      │\n",
       "│ str            ┆ i32      ┆ i32      ┆ i32     ┆ i32    ┆ ---         ┆ i32       ┆ i32      │\n",
       "│                ┆          ┆          ┆         ┆        ┆ i32         ┆           ┆          │\n",
       "╞════════════════╪══════════╪══════════╪═════════╪════════╪═════════════╪═══════════╪══════════╡\n",
       "│ Curator        ┆ 0        ┆ 0        ┆ 1       ┆ 0      ┆ 0           ┆ 0         ┆ 0        │\n",
       "│ Artist         ┆ 0        ┆ 0        ┆ 0       ┆ 1      ┆ 0           ┆ 0         ┆ 0        │\n",
       "│ Artist         ┆ 0        ┆ 0        ┆ 0       ┆ 1      ┆ 0           ┆ 0         ┆ 0        │\n",
       "│ Artist         ┆ 0        ┆ 0        ┆ 0       ┆ 1      ┆ 0           ┆ 0         ┆ 0        │\n",
       "│ Artist         ┆ 0        ┆ 0        ┆ 0       ┆ 1      ┆ 0           ┆ 0         ┆ 0        │\n",
       "└────────────────┴──────────┴──────────┴─────────┴────────┴─────────────┴───────────┴──────────┘"
      ]
     },
     "execution_count": 74,
     "metadata": {},
     "output_type": "execute_result"
    }
   ],
   "source": [
    "# Inputting a list of inputs\n",
    "(exhibitions\n",
    " .select(pl.col('ExhibitionRole'))\n",
    " .with_columns(one_hot_w_alias(exhibitions, 'ExhibitionRole')\n",
    "              )\n",
    " .head(5)\n",
    ")"
   ]
  },
  {
   "cell_type": "code",
   "execution_count": 76,
   "metadata": {
    "scrolled": true
   },
   "outputs": [
    {
     "data": {
      "text/html": [
       "<div><style>\n",
       ".dataframe > thead > tr,\n",
       ".dataframe > tbody > tr {\n",
       "  text-align: right;\n",
       "  white-space: pre-wrap;\n",
       "}\n",
       "</style>\n",
       "<small>shape: (5, 8)</small><table border=\"1\" class=\"dataframe\"><thead><tr><th>ExhibitionRole</th><th>Artist</th><th>Preparer</th><th>Installer</th><th>Designer</th><th>Curator</th><th>Arranger</th><th>Competition Judge</th></tr><tr><td>str</td><td>i32</td><td>i32</td><td>i32</td><td>i32</td><td>i32</td><td>i32</td><td>i32</td></tr></thead><tbody><tr><td>&quot;Curator&quot;</td><td>0</td><td>0</td><td>0</td><td>0</td><td>1</td><td>0</td><td>0</td></tr><tr><td>&quot;Artist&quot;</td><td>1</td><td>0</td><td>0</td><td>0</td><td>0</td><td>0</td><td>0</td></tr><tr><td>&quot;Artist&quot;</td><td>1</td><td>0</td><td>0</td><td>0</td><td>0</td><td>0</td><td>0</td></tr><tr><td>&quot;Artist&quot;</td><td>1</td><td>0</td><td>0</td><td>0</td><td>0</td><td>0</td><td>0</td></tr><tr><td>&quot;Artist&quot;</td><td>1</td><td>0</td><td>0</td><td>0</td><td>0</td><td>0</td><td>0</td></tr></tbody></table></div>"
      ],
      "text/plain": [
       "shape: (5, 8)\n",
       "┌────────────────┬────────┬──────────┬───────────┬──────────┬─────────┬──────────┬─────────────┐\n",
       "│ ExhibitionRole ┆ Artist ┆ Preparer ┆ Installer ┆ Designer ┆ Curator ┆ Arranger ┆ Competition │\n",
       "│ ---            ┆ ---    ┆ ---      ┆ ---       ┆ ---      ┆ ---     ┆ ---      ┆ Judge       │\n",
       "│ str            ┆ i32    ┆ i32      ┆ i32       ┆ i32      ┆ i32     ┆ i32      ┆ ---         │\n",
       "│                ┆        ┆          ┆           ┆          ┆         ┆          ┆ i32         │\n",
       "╞════════════════╪════════╪══════════╪═══════════╪══════════╪═════════╪══════════╪═════════════╡\n",
       "│ Curator        ┆ 0      ┆ 0        ┆ 0         ┆ 0        ┆ 1       ┆ 0        ┆ 0           │\n",
       "│ Artist         ┆ 1      ┆ 0        ┆ 0         ┆ 0        ┆ 0       ┆ 0        ┆ 0           │\n",
       "│ Artist         ┆ 1      ┆ 0        ┆ 0         ┆ 0        ┆ 0       ┆ 0        ┆ 0           │\n",
       "│ Artist         ┆ 1      ┆ 0        ┆ 0         ┆ 0        ┆ 0       ┆ 0        ┆ 0           │\n",
       "│ Artist         ┆ 1      ┆ 0        ┆ 0         ┆ 0        ┆ 0       ┆ 0        ┆ 0           │\n",
       "└────────────────┴────────┴──────────┴───────────┴──────────┴─────────┴──────────┴─────────────┘"
      ]
     },
     "execution_count": 76,
     "metadata": {},
     "output_type": "execute_result"
    }
   ],
   "source": [
    "# Unpacked as individual arguments\n",
    "(exhibitions\n",
    " .select(pl.col('ExhibitionRole'))\n",
    " .with_columns(*one_hot_w_alias(exhibitions, 'ExhibitionRole')\n",
    "              )\n",
    " .head(5)\n",
    ")\n",
    "                                                    "
   ]
  },
  {
   "cell_type": "markdown",
   "metadata": {},
   "source": [
    "## Review - The `**` operators\n",
    "\n",
    "Python functions use the `**` operator to \n",
    "\n",
    "1. **Pack** allow the capture of additional keyword arguments in function definitions.\n",
    "2. **Unpack** unpack a `dict` of keyword arguments in function calls.\n",
    "\n",
    "Note that these two actions are inverse operations."
   ]
  },
  {
   "cell_type": "markdown",
   "metadata": {},
   "source": [
    "#### Defining functions that capturing additional keyword arguments"
   ]
  },
  {
   "cell_type": "code",
   "execution_count": 77,
   "metadata": {},
   "outputs": [],
   "source": [
    "def f(a, b = None, **kwargs):\n",
    "    return f\"a = {a}, b = {b}, added kw = {kwargs}\""
   ]
  },
  {
   "cell_type": "code",
   "execution_count": 78,
   "metadata": {},
   "outputs": [
    {
     "data": {
      "text/plain": [
       "'a = 2, b = None, added kw = {}'"
      ]
     },
     "execution_count": 78,
     "metadata": {},
     "output_type": "execute_result"
    }
   ],
   "source": [
    "f(2) #kwargs is empty by default."
   ]
  },
  {
   "cell_type": "code",
   "execution_count": 79,
   "metadata": {},
   "outputs": [
    {
     "data": {
      "text/plain": [
       "\"a = 2, b = None, added kw = {'Bob': 'Tall', 'Alice': 'Not tall'}\""
      ]
     },
     "execution_count": 79,
     "metadata": {},
     "output_type": "execute_result"
    }
   ],
   "source": [
    "# kwargs contains all extra kwargs when present.\n",
    "f(2, Bob = \"Tall\", Alice = \"Not tall\") "
   ]
  },
  {
   "cell_type": "markdown",
   "metadata": {},
   "source": [
    "#### Unpacking a `dict` of kwargs"
   ]
  },
  {
   "cell_type": "code",
   "execution_count": 80,
   "metadata": {},
   "outputs": [
    {
     "data": {
      "text/plain": [
       "\"a = 1, b = None, added kw = {'Iverson': 'Python', 'Bergen': 'R', 'Malone': 'Excel'}\""
      ]
     },
     "execution_count": 80,
     "metadata": {},
     "output_type": "execute_result"
    }
   ],
   "source": [
    "f(1, **{'Iverson':'Python', 'Bergen':'R', 'Malone':'Excel'})"
   ]
  },
  {
   "cell_type": "markdown",
   "metadata": {},
   "source": [
    "## A WET transformation - keyword arguments\n",
    "\n",
    "This solution is WET, not DRY, as all 7 of the expressions in mutate are very similar ... if only here was a way to perform these similar expressions all at once ..."
   ]
  },
  {
   "cell_type": "code",
   "execution_count": 81,
   "metadata": {},
   "outputs": [
    {
     "data": {
      "text/html": [
       "<div><style>\n",
       ".dataframe > thead > tr,\n",
       ".dataframe > tbody > tr {\n",
       "  text-align: right;\n",
       "  white-space: pre-wrap;\n",
       "}\n",
       "</style>\n",
       "<small>shape: (5, 8)</small><table border=\"1\" class=\"dataframe\"><thead><tr><th>ExhibitionRole</th><th>Curator</th><th>Artist</th><th>Arranger</th><th>Installer</th><th>Competition_Judge</th><th>Designer</th><th>Preparer</th></tr><tr><td>str</td><td>i32</td><td>i32</td><td>i32</td><td>i32</td><td>i32</td><td>i32</td><td>i32</td></tr></thead><tbody><tr><td>&quot;Curator&quot;</td><td>1</td><td>0</td><td>0</td><td>0</td><td>0</td><td>0</td><td>0</td></tr><tr><td>&quot;Artist&quot;</td><td>0</td><td>1</td><td>0</td><td>0</td><td>0</td><td>0</td><td>0</td></tr><tr><td>&quot;Artist&quot;</td><td>0</td><td>1</td><td>0</td><td>0</td><td>0</td><td>0</td><td>0</td></tr><tr><td>&quot;Artist&quot;</td><td>0</td><td>1</td><td>0</td><td>0</td><td>0</td><td>0</td><td>0</td></tr><tr><td>&quot;Artist&quot;</td><td>0</td><td>1</td><td>0</td><td>0</td><td>0</td><td>0</td><td>0</td></tr></tbody></table></div>"
      ],
      "text/plain": [
       "shape: (5, 8)\n",
       "┌────────────────┬─────────┬────────┬──────────┬───────────┬─────────────────┬──────────┬──────────┐\n",
       "│ ExhibitionRole ┆ Curator ┆ Artist ┆ Arranger ┆ Installer ┆ Competition_Jud ┆ Designer ┆ Preparer │\n",
       "│ ---            ┆ ---     ┆ ---    ┆ ---      ┆ ---       ┆ ge              ┆ ---      ┆ ---      │\n",
       "│ str            ┆ i32     ┆ i32    ┆ i32      ┆ i32       ┆ ---             ┆ i32      ┆ i32      │\n",
       "│                ┆         ┆        ┆          ┆           ┆ i32             ┆          ┆          │\n",
       "╞════════════════╪═════════╪════════╪══════════╪═══════════╪═════════════════╪══════════╪══════════╡\n",
       "│ Curator        ┆ 1       ┆ 0      ┆ 0        ┆ 0         ┆ 0               ┆ 0        ┆ 0        │\n",
       "│ Artist         ┆ 0       ┆ 1      ┆ 0        ┆ 0         ┆ 0               ┆ 0        ┆ 0        │\n",
       "│ Artist         ┆ 0       ┆ 1      ┆ 0        ┆ 0         ┆ 0               ┆ 0        ┆ 0        │\n",
       "│ Artist         ┆ 0       ┆ 1      ┆ 0        ┆ 0         ┆ 0               ┆ 0        ┆ 0        │\n",
       "│ Artist         ┆ 0       ┆ 1      ┆ 0        ┆ 0         ┆ 0               ┆ 0        ┆ 0        │\n",
       "└────────────────┴─────────┴────────┴──────────┴───────────┴─────────────────┴──────────┴──────────┘"
      ]
     },
     "execution_count": 81,
     "metadata": {},
     "output_type": "execute_result"
    }
   ],
   "source": [
    "(exhibitions\n",
    " .select(pl.col('ExhibitionRole'))\n",
    " .with_columns(Curator =          pl.when(pl.col('ExhibitionRole') == 'Curator').then(pl.lit(1)).otherwise(pl.lit(0)),\n",
    "               Artist =           pl.when(pl.col('ExhibitionRole') == 'Artist').then(pl.lit(1)).otherwise(pl.lit(0)),\n",
    "               Arranger =         pl.when(pl.col('ExhibitionRole') == 'Arranger').then(pl.lit(1)).otherwise(pl.lit(0)),\n",
    "               Installer =        pl.when(pl.col('ExhibitionRole') == 'Installer').then(pl.lit(1)).otherwise(pl.lit(0)),\n",
    "               Competition_Judge = pl.when(pl.col('ExhibitionRole') == 'Competition Judge').then(pl.lit(1)).otherwise(pl.lit(0)),\n",
    "               Designer =         pl.when(pl.col('ExhibitionRole') == 'Designer').then(pl.lit(1)).otherwise(pl.lit(0)),\n",
    "               Preparer =         pl.when(pl.col('ExhibitionRole') == 'Prepare').then(pl.lit(1)).otherwise(pl.lit(0)))\n",
    " .head(5)\n",
    ")\n",
    "                                                    "
   ]
  },
  {
   "cell_type": "code",
   "execution_count": 82,
   "metadata": {},
   "outputs": [],
   "source": [
    "lbl_indicator = lambda col, lbl: (pl.when(pl.col(col) == lbl)\n",
    "                                        .then(pl.lit(1))\n",
    "                                        .otherwise(pl.lit(0))\n",
    "                                       )"
   ]
  },
  {
   "cell_type": "code",
   "execution_count": 84,
   "metadata": {},
   "outputs": [
    {
     "data": {
      "text/plain": [
       "{'Curator': <Expr ['.when([(col(\"ExhibitionRole\"))…'] at 0x125982780>,\n",
       " 'Artist': <Expr ['.when([(col(\"ExhibitionRole\"))…'] at 0x125701A60>,\n",
       " 'Arranger': <Expr ['.when([(col(\"ExhibitionRole\"))…'] at 0x125983320>,\n",
       " 'Installer': <Expr ['.when([(col(\"ExhibitionRole\"))…'] at 0x1252D5010>,\n",
       " 'Competition Judge': <Expr ['.when([(col(\"ExhibitionRole\"))…'] at 0x125983830>,\n",
       " 'Designer': <Expr ['.when([(col(\"ExhibitionRole\"))…'] at 0x165FC32C0>,\n",
       " 'Preparer': <Expr ['.when([(col(\"ExhibitionRole\"))…'] at 0x1259829C0>}"
      ]
     },
     "execution_count": 84,
     "metadata": {},
     "output_type": "execute_result"
    }
   ],
   "source": [
    "{lbl: lbl_indicator('ExhibitionRole', lbl) for lbl in exhibitions['ExhibitionRole'] if lbl is not None}"
   ]
  },
  {
   "cell_type": "code",
   "execution_count": 86,
   "metadata": {},
   "outputs": [
    {
     "data": {
      "text/html": [
       "<div><style>\n",
       ".dataframe > thead > tr,\n",
       ".dataframe > tbody > tr {\n",
       "  text-align: right;\n",
       "  white-space: pre-wrap;\n",
       "}\n",
       "</style>\n",
       "<small>shape: (5, 8)</small><table border=\"1\" class=\"dataframe\"><thead><tr><th>ExhibitionRole</th><th>Curator</th><th>Artist</th><th>Arranger</th><th>Installer</th><th>Competition Judge</th><th>Designer</th><th>Preparer</th></tr><tr><td>str</td><td>i32</td><td>i32</td><td>i32</td><td>i32</td><td>i32</td><td>i32</td><td>i32</td></tr></thead><tbody><tr><td>&quot;Curator&quot;</td><td>1</td><td>0</td><td>0</td><td>0</td><td>0</td><td>0</td><td>0</td></tr><tr><td>&quot;Artist&quot;</td><td>0</td><td>1</td><td>0</td><td>0</td><td>0</td><td>0</td><td>0</td></tr><tr><td>&quot;Artist&quot;</td><td>0</td><td>1</td><td>0</td><td>0</td><td>0</td><td>0</td><td>0</td></tr><tr><td>&quot;Artist&quot;</td><td>0</td><td>1</td><td>0</td><td>0</td><td>0</td><td>0</td><td>0</td></tr><tr><td>&quot;Artist&quot;</td><td>0</td><td>1</td><td>0</td><td>0</td><td>0</td><td>0</td><td>0</td></tr></tbody></table></div>"
      ],
      "text/plain": [
       "shape: (5, 8)\n",
       "┌────────────────┬─────────┬────────┬──────────┬───────────┬─────────────┬──────────┬──────────┐\n",
       "│ ExhibitionRole ┆ Curator ┆ Artist ┆ Arranger ┆ Installer ┆ Competition ┆ Designer ┆ Preparer │\n",
       "│ ---            ┆ ---     ┆ ---    ┆ ---      ┆ ---       ┆ Judge       ┆ ---      ┆ ---      │\n",
       "│ str            ┆ i32     ┆ i32    ┆ i32      ┆ i32       ┆ ---         ┆ i32      ┆ i32      │\n",
       "│                ┆         ┆        ┆          ┆           ┆ i32         ┆          ┆          │\n",
       "╞════════════════╪═════════╪════════╪══════════╪═══════════╪═════════════╪══════════╪══════════╡\n",
       "│ Curator        ┆ 1       ┆ 0      ┆ 0        ┆ 0         ┆ 0           ┆ 0        ┆ 0        │\n",
       "│ Artist         ┆ 0       ┆ 1      ┆ 0        ┆ 0         ┆ 0           ┆ 0        ┆ 0        │\n",
       "│ Artist         ┆ 0       ┆ 1      ┆ 0        ┆ 0         ┆ 0           ┆ 0        ┆ 0        │\n",
       "│ Artist         ┆ 0       ┆ 1      ┆ 0        ┆ 0         ┆ 0           ┆ 0        ┆ 0        │\n",
       "│ Artist         ┆ 0       ┆ 1      ┆ 0        ┆ 0         ┆ 0           ┆ 0        ┆ 0        │\n",
       "└────────────────┴─────────┴────────┴──────────┴───────────┴─────────────┴──────────┴──────────┘"
      ]
     },
     "execution_count": 86,
     "metadata": {},
     "output_type": "execute_result"
    }
   ],
   "source": [
    "(exhibitions\n",
    " .select(pl.col('ExhibitionRole'))\n",
    " .with_columns(**{lbl: lbl_indicator('ExhibitionRole', lbl) for lbl in exhibitions['ExhibitionRole'] if lbl is not None}\n",
    "              )\n",
    " .head(5)\n",
    "               \n",
    ")"
   ]
  },
  {
   "cell_type": "code",
   "execution_count": 88,
   "metadata": {},
   "outputs": [],
   "source": [
    "one_hot_w_keywords = lambda df, col: {lbl: lbl_indicator(col, lbl) for lbl in df[col] if lbl is not None}"
   ]
  },
  {
   "cell_type": "code",
   "execution_count": 89,
   "metadata": {},
   "outputs": [
    {
     "data": {
      "text/html": [
       "<div><style>\n",
       ".dataframe > thead > tr,\n",
       ".dataframe > tbody > tr {\n",
       "  text-align: right;\n",
       "  white-space: pre-wrap;\n",
       "}\n",
       "</style>\n",
       "<small>shape: (5, 8)</small><table border=\"1\" class=\"dataframe\"><thead><tr><th>ExhibitionRole</th><th>Curator</th><th>Artist</th><th>Arranger</th><th>Installer</th><th>Competition Judge</th><th>Designer</th><th>Preparer</th></tr><tr><td>str</td><td>i32</td><td>i32</td><td>i32</td><td>i32</td><td>i32</td><td>i32</td><td>i32</td></tr></thead><tbody><tr><td>&quot;Curator&quot;</td><td>1</td><td>0</td><td>0</td><td>0</td><td>0</td><td>0</td><td>0</td></tr><tr><td>&quot;Artist&quot;</td><td>0</td><td>1</td><td>0</td><td>0</td><td>0</td><td>0</td><td>0</td></tr><tr><td>&quot;Artist&quot;</td><td>0</td><td>1</td><td>0</td><td>0</td><td>0</td><td>0</td><td>0</td></tr><tr><td>&quot;Artist&quot;</td><td>0</td><td>1</td><td>0</td><td>0</td><td>0</td><td>0</td><td>0</td></tr><tr><td>&quot;Artist&quot;</td><td>0</td><td>1</td><td>0</td><td>0</td><td>0</td><td>0</td><td>0</td></tr></tbody></table></div>"
      ],
      "text/plain": [
       "shape: (5, 8)\n",
       "┌────────────────┬─────────┬────────┬──────────┬───────────┬─────────────┬──────────┬──────────┐\n",
       "│ ExhibitionRole ┆ Curator ┆ Artist ┆ Arranger ┆ Installer ┆ Competition ┆ Designer ┆ Preparer │\n",
       "│ ---            ┆ ---     ┆ ---    ┆ ---      ┆ ---       ┆ Judge       ┆ ---      ┆ ---      │\n",
       "│ str            ┆ i32     ┆ i32    ┆ i32      ┆ i32       ┆ ---         ┆ i32      ┆ i32      │\n",
       "│                ┆         ┆        ┆          ┆           ┆ i32         ┆          ┆          │\n",
       "╞════════════════╪═════════╪════════╪══════════╪═══════════╪═════════════╪══════════╪══════════╡\n",
       "│ Curator        ┆ 1       ┆ 0      ┆ 0        ┆ 0         ┆ 0           ┆ 0        ┆ 0        │\n",
       "│ Artist         ┆ 0       ┆ 1      ┆ 0        ┆ 0         ┆ 0           ┆ 0        ┆ 0        │\n",
       "│ Artist         ┆ 0       ┆ 1      ┆ 0        ┆ 0         ┆ 0           ┆ 0        ┆ 0        │\n",
       "│ Artist         ┆ 0       ┆ 1      ┆ 0        ┆ 0         ┆ 0           ┆ 0        ┆ 0        │\n",
       "│ Artist         ┆ 0       ┆ 1      ┆ 0        ┆ 0         ┆ 0           ┆ 0        ┆ 0        │\n",
       "└────────────────┴─────────┴────────┴──────────┴───────────┴─────────────┴──────────┴──────────┘"
      ]
     },
     "execution_count": 89,
     "metadata": {},
     "output_type": "execute_result"
    }
   ],
   "source": [
    "(exhibitions\n",
    " .select(pl.col('ExhibitionRole'))\n",
    " .with_columns(**one_hot_w_keywords(exhibitions, 'ExhibitionRole')\n",
    "              )\n",
    " .head(5)\n",
    "               \n",
    ")"
   ]
  },
  {
   "cell_type": "markdown",
   "metadata": {},
   "source": [
    "## <font color=\"red\"> Exercise 3.5 </font>\n",
    "\n",
    "Now suppose we want to make indicator/one-hot columns for each nationality using keyword assignment. Perform the following task.\n",
    "\n",
    "1. Verify that our current `one_hot_w_keywords` doesn't work on the `Nationality` column and identify the problem (**hint:** spaces),\n",
    "2. Rework the this function to deal with spaces in the column names, and\n",
    "3. Use the updated function to perform the desired transformations."
   ]
  },
  {
   "cell_type": "code",
   "execution_count": 164,
   "metadata": {},
   "outputs": [],
   "source": [
    "# Your code here"
   ]
  }
 ],
 "metadata": {
  "kernelspec": {
   "display_name": "Python 3 (ipykernel)",
   "language": "python",
   "name": "python3"
  },
  "language_info": {
   "codemirror_mode": {
    "name": "ipython",
    "version": 3
   },
   "file_extension": ".py",
   "mimetype": "text/x-python",
   "name": "python",
   "nbconvert_exporter": "python",
   "pygments_lexer": "ipython3",
   "version": "3.12.5"
  },
  "varInspector": {
   "cols": {
    "lenName": 16,
    "lenType": 16,
    "lenVar": 40
   },
   "kernels_config": {
    "python": {
     "delete_cmd_postfix": "",
     "delete_cmd_prefix": "del ",
     "library": "var_list.py",
     "varRefreshCmd": "print(var_dic_list())"
    },
    "r": {
     "delete_cmd_postfix": ") ",
     "delete_cmd_prefix": "rm(",
     "library": "var_list.r",
     "varRefreshCmd": "cat(var_dic_list()) "
    }
   },
   "types_to_exclude": [
    "module",
    "function",
    "builtin_function_or_method",
    "instance",
    "_Feature"
   ],
   "window_display": false
  }
 },
 "nbformat": 4,
 "nbformat_minor": 4
}
